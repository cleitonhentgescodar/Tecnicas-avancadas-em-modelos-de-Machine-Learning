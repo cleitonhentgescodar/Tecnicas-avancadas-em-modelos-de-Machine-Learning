{
  "cells": [
    {
      "cell_type": "markdown",
      "metadata": {
        "id": "lFUwBGznHYUr"
      },
      "source": [
        "# Dinâmica da aula:"
      ]
    },
    {
      "cell_type": "markdown",
      "metadata": {
        "id": "XDfDCfhHHWm5"
      },
      "source": [
        "Chegamos à nossa última aula de duelo de modelos, e hoje vamos colocar frente a frente dois dos algoritmos mais poderosos e populares no campo de machine learning: o SVM (Support Vector Machine) e o XGBoost.\n",
        "\n",
        "O SVM é conhecido por sua capacidade de encontrar a melhor fronteira de decisão entre as classes, mesmo em cenários onde os dados não são linearmente separáveis. É um modelo robusto, especialmente eficaz em casos com margens estreitas entre classes, e tem um forte fundamento matemático que garante alta performance em várias aplicações.\n",
        "\n",
        "Por outro lado, o XGBoost é um dos algoritmos mais utilizados para problemas de classificação e regressão no mercado. Sua força vem da combinação de árvores de decisão em um processo de boosting, o que lhe confere grande precisão e capacidade de lidar com dados complexos, mesmo em grandes volumes.\n",
        "\n",
        "Durante esta aula, vamos explorar as particularidades de cada um desses modelos, entender seus pontos fortes e fracos, e realizar uma análise comparativa para determinar qual deles se destaca com a nossa base de dados.\n",
        "\n",
        "Vale lembrar que ambos os modelos são extremamente robustos e amplamente usados na prática, mas cada um tem seus próprios cenários de aplicação ideais. Ao final, vamos discutir qual modelo se saiu melhor e o porquê, reforçando que, assim como nas aulas anteriores, o desempenho depende muito do contexto e dos dados que estamos utilizando."
      ]
    },
    {
      "cell_type": "markdown",
      "metadata": {
        "id": "XlcdGP6JHcgY"
      },
      "source": [
        "# Conhecendo nossos campeões:"
      ]
    },
    {
      "cell_type": "markdown",
      "metadata": {
        "id": "iVVZLTkVH4GC"
      },
      "source": [
        "#SVM\n",
        "**Apresento a vocês: o modelo SVM (Support Vector Machine)!**\n",
        "\n",
        "Este modelo de classificação é conhecido por sua habilidade em encontrar a melhor fronteira de decisão entre as classes, mesmo em situações onde os dados não são linearmente separáveis. O SVM funciona mapeando os dados para um espaço de maior dimensão, onde pode encontrar um hiperplano que separa as classes de forma mais clara. Seu poder reside na maximização da margem entre as classes, o que resulta em um modelo robusto e eficaz em diversas aplicações, especialmente quando as margens entre as classes são estreitas."
      ]
    },
    {
      "cell_type": "markdown",
      "metadata": {
        "id": "KXTHyc4TH9Jl"
      },
      "source": [
        "**Vantagem:** A principal vantagem do SVM é sua capacidade de lidar com problemas complexos de classificação, especialmente em casos onde as classes não são linearmente separáveis. Ele é particularmente eficaz em espaços de alta dimensão e pode ser muito preciso, mesmo com conjuntos de dados relativamente pequenos. Além disso, o SVM é menos propenso ao overfitting quando as margens de separação são claras, o que aumenta sua robustez em muitos cenários."
      ]
    },
    {
      "cell_type": "markdown",
      "metadata": {
        "id": "FV1vmknsH-UD"
      },
      "source": [
        "**Desvantagem:** A desvantagem do SVM é que ele pode ser computacionalmente intensivo, especialmente com grandes volumes de dados. Além disso, a escolha do kernel e dos parâmetros certos pode ser desafiadora, exigindo um ajuste fino para alcançar o melhor desempenho. Se não configurado corretamente, o modelo pode sofrer de overfitting ou underfitting, especialmente em situações onde os dados são altamente ruidosos ou não separáveis."
      ]
    },
    {
      "cell_type": "markdown",
      "metadata": {
        "id": "YbCSBbJ6IOfk"
      },
      "source": [
        "#XGBoost\n",
        "\n",
        "**Apresento a vocês: o modelo XGBoost!**\n",
        "\n",
        "Este modelo de classificação é uma das ferramentas mais poderosas e populares no mundo do machine learning. O XGBoost se destaca por sua capacidade de construir modelos altamente precisos através de um processo de boosting, onde várias árvores de decisão são combinadas para criar um modelo forte. Ele funciona adicionando sequencialmente novas árvores que corrigem os erros das árvores anteriores, resultando em um modelo final que é altamente eficaz em capturar padrões complexos nos dados."
      ]
    },
    {
      "cell_type": "markdown",
      "metadata": {
        "id": "L0GuQ-6WIRSb"
      },
      "source": [
        "**Vantagem:** A maior vantagem do XGBoost é sua capacidade de lidar com dados complexos e grandes volumes, oferecendo alta precisão e eficiência. O algoritmo é otimizado para velocidade e desempenho, sendo capaz de processar grandes conjuntos de dados com rapidez. Além disso, ele inclui várias opções de regularização que ajudam a evitar overfitting, tornando-o uma escolha robusta para muitos problemas de classificação e regressão.\n",
        "\n",
        "**Desvantagem:** A desvantagem do XGBoost é a sua complexidade e a necessidade de um ajuste cuidadoso dos hiperparâmetros para alcançar o melhor desempenho. Devido ao grande número de parâmetros que podem ser ajustados, configurar o modelo corretamente pode ser desafiador e consumir tempo. Além disso, o XGBoost pode ser mais exigente em termos de recursos computacionais, especialmente quando se trabalha com grandes volumes de dados ou modelos muito complexos."
      ]
    },
    {
      "cell_type": "markdown",
      "metadata": {
        "id": "SzqXILjhJ3gq"
      },
      "source": [
        "# Arena do duelo (Nossa base de dados):\n",
        "\n",
        "Para nosso duelo utilizaremos a famosa base de dados do Titanic. Esta base de dados é amplamente utilizada em competições e desafios de machine learning devido à sua simplicidade e ao fato de ser um problema de classificação binária claro: prever se um passageiro sobreviveu ou não ao naufrágio do Titanic, com base em características como idade, gênero, classe do bilhete, entre outras.\n",
        "\n",
        "Nosso objetivo é que por conta da robustez um dos nossos dois modelos desse duelo alcance uma pontuação na competição do kaggle superior aos outros modelos que treinamos."
      ]
    },
    {
      "cell_type": "code",
      "execution_count": null,
      "metadata": {
        "id": "9kKK4myEKp2U"
      },
      "outputs": [],
      "source": [
        "# Bibliotecas para manipulação de dados\n",
        "import pandas as pd\n",
        "import numpy as np\n",
        "\n",
        "# Bibliotecas para visualização de dados\n",
        "import matplotlib.pyplot as plt\n",
        "import seaborn as sns\n",
        "\n",
        "# Bibliotecas para pré-processamento e divisão de dados\n",
        "from sklearn.preprocessing import StandardScaler\n",
        "from imblearn.over_sampling import SMOTE\n",
        "\n",
        "# Bibliotecas para os modelos de machine learning\n",
        "import xgboost as xgb\n",
        "from sklearn.model_selection import GridSearchCV\n",
        "from sklearn.svm import SVC\n",
        "\n",
        "# Bibliotecas para métricas de avaliação\n",
        "from sklearn.metrics import accuracy_score, confusion_matrix, classification_report, roc_auc_score, roc_curve"
      ]
    },
    {
      "cell_type": "code",
      "source": [
        "train_df = pd.read_csv('train.csv')\n",
        "test_df = pd.read_csv('test.csv')"
      ],
      "metadata": {
        "id": "B_VP13QEXvqP"
      },
      "execution_count": null,
      "outputs": []
    },
    {
      "cell_type": "code",
      "source": [
        "train_df.head()"
      ],
      "metadata": {
        "colab": {
          "base_uri": "https://localhost:8080/",
          "height": 206
        },
        "id": "_70rK6FEXw_E",
        "outputId": "9bef5690-084c-413a-fea3-377ee848230a"
      },
      "execution_count": null,
      "outputs": [
        {
          "output_type": "execute_result",
          "data": {
            "text/plain": [
              "   PassengerId  Survived  Pclass  \\\n",
              "0            1         0       3   \n",
              "1            2         1       1   \n",
              "2            3         1       3   \n",
              "3            4         1       1   \n",
              "4            5         0       3   \n",
              "\n",
              "                                                Name     Sex   Age  SibSp  \\\n",
              "0                            Braund, Mr. Owen Harris    male  22.0      1   \n",
              "1  Cumings, Mrs. John Bradley (Florence Briggs Th...  female  38.0      1   \n",
              "2                             Heikkinen, Miss. Laina  female  26.0      0   \n",
              "3       Futrelle, Mrs. Jacques Heath (Lily May Peel)  female  35.0      1   \n",
              "4                           Allen, Mr. William Henry    male  35.0      0   \n",
              "\n",
              "   Parch            Ticket     Fare Cabin Embarked  \n",
              "0      0         A/5 21171   7.2500   NaN        S  \n",
              "1      0          PC 17599  71.2833   C85        C  \n",
              "2      0  STON/O2. 3101282   7.9250   NaN        S  \n",
              "3      0            113803  53.1000  C123        S  \n",
              "4      0            373450   8.0500   NaN        S  "
            ],
            "text/html": [
              "\n",
              "  <div id=\"df-2db11ddf-27ab-4958-9bb1-cab63f1a1976\" class=\"colab-df-container\">\n",
              "    <div>\n",
              "<style scoped>\n",
              "    .dataframe tbody tr th:only-of-type {\n",
              "        vertical-align: middle;\n",
              "    }\n",
              "\n",
              "    .dataframe tbody tr th {\n",
              "        vertical-align: top;\n",
              "    }\n",
              "\n",
              "    .dataframe thead th {\n",
              "        text-align: right;\n",
              "    }\n",
              "</style>\n",
              "<table border=\"1\" class=\"dataframe\">\n",
              "  <thead>\n",
              "    <tr style=\"text-align: right;\">\n",
              "      <th></th>\n",
              "      <th>PassengerId</th>\n",
              "      <th>Survived</th>\n",
              "      <th>Pclass</th>\n",
              "      <th>Name</th>\n",
              "      <th>Sex</th>\n",
              "      <th>Age</th>\n",
              "      <th>SibSp</th>\n",
              "      <th>Parch</th>\n",
              "      <th>Ticket</th>\n",
              "      <th>Fare</th>\n",
              "      <th>Cabin</th>\n",
              "      <th>Embarked</th>\n",
              "    </tr>\n",
              "  </thead>\n",
              "  <tbody>\n",
              "    <tr>\n",
              "      <th>0</th>\n",
              "      <td>1</td>\n",
              "      <td>0</td>\n",
              "      <td>3</td>\n",
              "      <td>Braund, Mr. Owen Harris</td>\n",
              "      <td>male</td>\n",
              "      <td>22.0</td>\n",
              "      <td>1</td>\n",
              "      <td>0</td>\n",
              "      <td>A/5 21171</td>\n",
              "      <td>7.2500</td>\n",
              "      <td>NaN</td>\n",
              "      <td>S</td>\n",
              "    </tr>\n",
              "    <tr>\n",
              "      <th>1</th>\n",
              "      <td>2</td>\n",
              "      <td>1</td>\n",
              "      <td>1</td>\n",
              "      <td>Cumings, Mrs. John Bradley (Florence Briggs Th...</td>\n",
              "      <td>female</td>\n",
              "      <td>38.0</td>\n",
              "      <td>1</td>\n",
              "      <td>0</td>\n",
              "      <td>PC 17599</td>\n",
              "      <td>71.2833</td>\n",
              "      <td>C85</td>\n",
              "      <td>C</td>\n",
              "    </tr>\n",
              "    <tr>\n",
              "      <th>2</th>\n",
              "      <td>3</td>\n",
              "      <td>1</td>\n",
              "      <td>3</td>\n",
              "      <td>Heikkinen, Miss. Laina</td>\n",
              "      <td>female</td>\n",
              "      <td>26.0</td>\n",
              "      <td>0</td>\n",
              "      <td>0</td>\n",
              "      <td>STON/O2. 3101282</td>\n",
              "      <td>7.9250</td>\n",
              "      <td>NaN</td>\n",
              "      <td>S</td>\n",
              "    </tr>\n",
              "    <tr>\n",
              "      <th>3</th>\n",
              "      <td>4</td>\n",
              "      <td>1</td>\n",
              "      <td>1</td>\n",
              "      <td>Futrelle, Mrs. Jacques Heath (Lily May Peel)</td>\n",
              "      <td>female</td>\n",
              "      <td>35.0</td>\n",
              "      <td>1</td>\n",
              "      <td>0</td>\n",
              "      <td>113803</td>\n",
              "      <td>53.1000</td>\n",
              "      <td>C123</td>\n",
              "      <td>S</td>\n",
              "    </tr>\n",
              "    <tr>\n",
              "      <th>4</th>\n",
              "      <td>5</td>\n",
              "      <td>0</td>\n",
              "      <td>3</td>\n",
              "      <td>Allen, Mr. William Henry</td>\n",
              "      <td>male</td>\n",
              "      <td>35.0</td>\n",
              "      <td>0</td>\n",
              "      <td>0</td>\n",
              "      <td>373450</td>\n",
              "      <td>8.0500</td>\n",
              "      <td>NaN</td>\n",
              "      <td>S</td>\n",
              "    </tr>\n",
              "  </tbody>\n",
              "</table>\n",
              "</div>\n",
              "    <div class=\"colab-df-buttons\">\n",
              "\n",
              "  <div class=\"colab-df-container\">\n",
              "    <button class=\"colab-df-convert\" onclick=\"convertToInteractive('df-2db11ddf-27ab-4958-9bb1-cab63f1a1976')\"\n",
              "            title=\"Convert this dataframe to an interactive table.\"\n",
              "            style=\"display:none;\">\n",
              "\n",
              "  <svg xmlns=\"http://www.w3.org/2000/svg\" height=\"24px\" viewBox=\"0 -960 960 960\">\n",
              "    <path d=\"M120-120v-720h720v720H120Zm60-500h600v-160H180v160Zm220 220h160v-160H400v160Zm0 220h160v-160H400v160ZM180-400h160v-160H180v160Zm440 0h160v-160H620v160ZM180-180h160v-160H180v160Zm440 0h160v-160H620v160Z\"/>\n",
              "  </svg>\n",
              "    </button>\n",
              "\n",
              "  <style>\n",
              "    .colab-df-container {\n",
              "      display:flex;\n",
              "      gap: 12px;\n",
              "    }\n",
              "\n",
              "    .colab-df-convert {\n",
              "      background-color: #E8F0FE;\n",
              "      border: none;\n",
              "      border-radius: 50%;\n",
              "      cursor: pointer;\n",
              "      display: none;\n",
              "      fill: #1967D2;\n",
              "      height: 32px;\n",
              "      padding: 0 0 0 0;\n",
              "      width: 32px;\n",
              "    }\n",
              "\n",
              "    .colab-df-convert:hover {\n",
              "      background-color: #E2EBFA;\n",
              "      box-shadow: 0px 1px 2px rgba(60, 64, 67, 0.3), 0px 1px 3px 1px rgba(60, 64, 67, 0.15);\n",
              "      fill: #174EA6;\n",
              "    }\n",
              "\n",
              "    .colab-df-buttons div {\n",
              "      margin-bottom: 4px;\n",
              "    }\n",
              "\n",
              "    [theme=dark] .colab-df-convert {\n",
              "      background-color: #3B4455;\n",
              "      fill: #D2E3FC;\n",
              "    }\n",
              "\n",
              "    [theme=dark] .colab-df-convert:hover {\n",
              "      background-color: #434B5C;\n",
              "      box-shadow: 0px 1px 3px 1px rgba(0, 0, 0, 0.15);\n",
              "      filter: drop-shadow(0px 1px 2px rgba(0, 0, 0, 0.3));\n",
              "      fill: #FFFFFF;\n",
              "    }\n",
              "  </style>\n",
              "\n",
              "    <script>\n",
              "      const buttonEl =\n",
              "        document.querySelector('#df-2db11ddf-27ab-4958-9bb1-cab63f1a1976 button.colab-df-convert');\n",
              "      buttonEl.style.display =\n",
              "        google.colab.kernel.accessAllowed ? 'block' : 'none';\n",
              "\n",
              "      async function convertToInteractive(key) {\n",
              "        const element = document.querySelector('#df-2db11ddf-27ab-4958-9bb1-cab63f1a1976');\n",
              "        const dataTable =\n",
              "          await google.colab.kernel.invokeFunction('convertToInteractive',\n",
              "                                                    [key], {});\n",
              "        if (!dataTable) return;\n",
              "\n",
              "        const docLinkHtml = 'Like what you see? Visit the ' +\n",
              "          '<a target=\"_blank\" href=https://colab.research.google.com/notebooks/data_table.ipynb>data table notebook</a>'\n",
              "          + ' to learn more about interactive tables.';\n",
              "        element.innerHTML = '';\n",
              "        dataTable['output_type'] = 'display_data';\n",
              "        await google.colab.output.renderOutput(dataTable, element);\n",
              "        const docLink = document.createElement('div');\n",
              "        docLink.innerHTML = docLinkHtml;\n",
              "        element.appendChild(docLink);\n",
              "      }\n",
              "    </script>\n",
              "  </div>\n",
              "\n",
              "\n",
              "<div id=\"df-2a510a3f-85e6-4d51-bc61-b352931aa1e3\">\n",
              "  <button class=\"colab-df-quickchart\" onclick=\"quickchart('df-2a510a3f-85e6-4d51-bc61-b352931aa1e3')\"\n",
              "            title=\"Suggest charts\"\n",
              "            style=\"display:none;\">\n",
              "\n",
              "<svg xmlns=\"http://www.w3.org/2000/svg\" height=\"24px\"viewBox=\"0 0 24 24\"\n",
              "     width=\"24px\">\n",
              "    <g>\n",
              "        <path d=\"M19 3H5c-1.1 0-2 .9-2 2v14c0 1.1.9 2 2 2h14c1.1 0 2-.9 2-2V5c0-1.1-.9-2-2-2zM9 17H7v-7h2v7zm4 0h-2V7h2v10zm4 0h-2v-4h2v4z\"/>\n",
              "    </g>\n",
              "</svg>\n",
              "  </button>\n",
              "\n",
              "<style>\n",
              "  .colab-df-quickchart {\n",
              "      --bg-color: #E8F0FE;\n",
              "      --fill-color: #1967D2;\n",
              "      --hover-bg-color: #E2EBFA;\n",
              "      --hover-fill-color: #174EA6;\n",
              "      --disabled-fill-color: #AAA;\n",
              "      --disabled-bg-color: #DDD;\n",
              "  }\n",
              "\n",
              "  [theme=dark] .colab-df-quickchart {\n",
              "      --bg-color: #3B4455;\n",
              "      --fill-color: #D2E3FC;\n",
              "      --hover-bg-color: #434B5C;\n",
              "      --hover-fill-color: #FFFFFF;\n",
              "      --disabled-bg-color: #3B4455;\n",
              "      --disabled-fill-color: #666;\n",
              "  }\n",
              "\n",
              "  .colab-df-quickchart {\n",
              "    background-color: var(--bg-color);\n",
              "    border: none;\n",
              "    border-radius: 50%;\n",
              "    cursor: pointer;\n",
              "    display: none;\n",
              "    fill: var(--fill-color);\n",
              "    height: 32px;\n",
              "    padding: 0;\n",
              "    width: 32px;\n",
              "  }\n",
              "\n",
              "  .colab-df-quickchart:hover {\n",
              "    background-color: var(--hover-bg-color);\n",
              "    box-shadow: 0 1px 2px rgba(60, 64, 67, 0.3), 0 1px 3px 1px rgba(60, 64, 67, 0.15);\n",
              "    fill: var(--button-hover-fill-color);\n",
              "  }\n",
              "\n",
              "  .colab-df-quickchart-complete:disabled,\n",
              "  .colab-df-quickchart-complete:disabled:hover {\n",
              "    background-color: var(--disabled-bg-color);\n",
              "    fill: var(--disabled-fill-color);\n",
              "    box-shadow: none;\n",
              "  }\n",
              "\n",
              "  .colab-df-spinner {\n",
              "    border: 2px solid var(--fill-color);\n",
              "    border-color: transparent;\n",
              "    border-bottom-color: var(--fill-color);\n",
              "    animation:\n",
              "      spin 1s steps(1) infinite;\n",
              "  }\n",
              "\n",
              "  @keyframes spin {\n",
              "    0% {\n",
              "      border-color: transparent;\n",
              "      border-bottom-color: var(--fill-color);\n",
              "      border-left-color: var(--fill-color);\n",
              "    }\n",
              "    20% {\n",
              "      border-color: transparent;\n",
              "      border-left-color: var(--fill-color);\n",
              "      border-top-color: var(--fill-color);\n",
              "    }\n",
              "    30% {\n",
              "      border-color: transparent;\n",
              "      border-left-color: var(--fill-color);\n",
              "      border-top-color: var(--fill-color);\n",
              "      border-right-color: var(--fill-color);\n",
              "    }\n",
              "    40% {\n",
              "      border-color: transparent;\n",
              "      border-right-color: var(--fill-color);\n",
              "      border-top-color: var(--fill-color);\n",
              "    }\n",
              "    60% {\n",
              "      border-color: transparent;\n",
              "      border-right-color: var(--fill-color);\n",
              "    }\n",
              "    80% {\n",
              "      border-color: transparent;\n",
              "      border-right-color: var(--fill-color);\n",
              "      border-bottom-color: var(--fill-color);\n",
              "    }\n",
              "    90% {\n",
              "      border-color: transparent;\n",
              "      border-bottom-color: var(--fill-color);\n",
              "    }\n",
              "  }\n",
              "</style>\n",
              "\n",
              "  <script>\n",
              "    async function quickchart(key) {\n",
              "      const quickchartButtonEl =\n",
              "        document.querySelector('#' + key + ' button');\n",
              "      quickchartButtonEl.disabled = true;  // To prevent multiple clicks.\n",
              "      quickchartButtonEl.classList.add('colab-df-spinner');\n",
              "      try {\n",
              "        const charts = await google.colab.kernel.invokeFunction(\n",
              "            'suggestCharts', [key], {});\n",
              "      } catch (error) {\n",
              "        console.error('Error during call to suggestCharts:', error);\n",
              "      }\n",
              "      quickchartButtonEl.classList.remove('colab-df-spinner');\n",
              "      quickchartButtonEl.classList.add('colab-df-quickchart-complete');\n",
              "    }\n",
              "    (() => {\n",
              "      let quickchartButtonEl =\n",
              "        document.querySelector('#df-2a510a3f-85e6-4d51-bc61-b352931aa1e3 button');\n",
              "      quickchartButtonEl.style.display =\n",
              "        google.colab.kernel.accessAllowed ? 'block' : 'none';\n",
              "    })();\n",
              "  </script>\n",
              "</div>\n",
              "\n",
              "    </div>\n",
              "  </div>\n"
            ],
            "application/vnd.google.colaboratory.intrinsic+json": {
              "type": "dataframe",
              "variable_name": "train_df",
              "summary": "{\n  \"name\": \"train_df\",\n  \"rows\": 891,\n  \"fields\": [\n    {\n      \"column\": \"PassengerId\",\n      \"properties\": {\n        \"dtype\": \"number\",\n        \"std\": 257,\n        \"min\": 1,\n        \"max\": 891,\n        \"num_unique_values\": 891,\n        \"samples\": [\n          710,\n          440,\n          841\n        ],\n        \"semantic_type\": \"\",\n        \"description\": \"\"\n      }\n    },\n    {\n      \"column\": \"Survived\",\n      \"properties\": {\n        \"dtype\": \"number\",\n        \"std\": 0,\n        \"min\": 0,\n        \"max\": 1,\n        \"num_unique_values\": 2,\n        \"samples\": [\n          1,\n          0\n        ],\n        \"semantic_type\": \"\",\n        \"description\": \"\"\n      }\n    },\n    {\n      \"column\": \"Pclass\",\n      \"properties\": {\n        \"dtype\": \"number\",\n        \"std\": 0,\n        \"min\": 1,\n        \"max\": 3,\n        \"num_unique_values\": 3,\n        \"samples\": [\n          3,\n          1\n        ],\n        \"semantic_type\": \"\",\n        \"description\": \"\"\n      }\n    },\n    {\n      \"column\": \"Name\",\n      \"properties\": {\n        \"dtype\": \"string\",\n        \"num_unique_values\": 891,\n        \"samples\": [\n          \"Moubarek, Master. Halim Gonios (\\\"William George\\\")\",\n          \"Kvillner, Mr. Johan Henrik Johannesson\"\n        ],\n        \"semantic_type\": \"\",\n        \"description\": \"\"\n      }\n    },\n    {\n      \"column\": \"Sex\",\n      \"properties\": {\n        \"dtype\": \"category\",\n        \"num_unique_values\": 2,\n        \"samples\": [\n          \"female\",\n          \"male\"\n        ],\n        \"semantic_type\": \"\",\n        \"description\": \"\"\n      }\n    },\n    {\n      \"column\": \"Age\",\n      \"properties\": {\n        \"dtype\": \"number\",\n        \"std\": 14.526497332334042,\n        \"min\": 0.42,\n        \"max\": 80.0,\n        \"num_unique_values\": 88,\n        \"samples\": [\n          0.75,\n          22.0\n        ],\n        \"semantic_type\": \"\",\n        \"description\": \"\"\n      }\n    },\n    {\n      \"column\": \"SibSp\",\n      \"properties\": {\n        \"dtype\": \"number\",\n        \"std\": 1,\n        \"min\": 0,\n        \"max\": 8,\n        \"num_unique_values\": 7,\n        \"samples\": [\n          1,\n          0\n        ],\n        \"semantic_type\": \"\",\n        \"description\": \"\"\n      }\n    },\n    {\n      \"column\": \"Parch\",\n      \"properties\": {\n        \"dtype\": \"number\",\n        \"std\": 0,\n        \"min\": 0,\n        \"max\": 6,\n        \"num_unique_values\": 7,\n        \"samples\": [\n          0,\n          1\n        ],\n        \"semantic_type\": \"\",\n        \"description\": \"\"\n      }\n    },\n    {\n      \"column\": \"Ticket\",\n      \"properties\": {\n        \"dtype\": \"string\",\n        \"num_unique_values\": 681,\n        \"samples\": [\n          \"11774\",\n          \"248740\"\n        ],\n        \"semantic_type\": \"\",\n        \"description\": \"\"\n      }\n    },\n    {\n      \"column\": \"Fare\",\n      \"properties\": {\n        \"dtype\": \"number\",\n        \"std\": 49.6934285971809,\n        \"min\": 0.0,\n        \"max\": 512.3292,\n        \"num_unique_values\": 248,\n        \"samples\": [\n          11.2417,\n          51.8625\n        ],\n        \"semantic_type\": \"\",\n        \"description\": \"\"\n      }\n    },\n    {\n      \"column\": \"Cabin\",\n      \"properties\": {\n        \"dtype\": \"category\",\n        \"num_unique_values\": 147,\n        \"samples\": [\n          \"D45\",\n          \"B49\"\n        ],\n        \"semantic_type\": \"\",\n        \"description\": \"\"\n      }\n    },\n    {\n      \"column\": \"Embarked\",\n      \"properties\": {\n        \"dtype\": \"category\",\n        \"num_unique_values\": 3,\n        \"samples\": [\n          \"S\",\n          \"C\"\n        ],\n        \"semantic_type\": \"\",\n        \"description\": \"\"\n      }\n    }\n  ]\n}"
            }
          },
          "metadata": {},
          "execution_count": 3
        }
      ]
    },
    {
      "cell_type": "code",
      "source": [
        "test_df.head()"
      ],
      "metadata": {
        "colab": {
          "base_uri": "https://localhost:8080/",
          "height": 206
        },
        "id": "e1_nL7hbXyZv",
        "outputId": "5470b552-13d5-4fef-fcf2-6a593a9a527e"
      },
      "execution_count": null,
      "outputs": [
        {
          "output_type": "execute_result",
          "data": {
            "text/plain": [
              "   PassengerId  Pclass                                          Name     Sex  \\\n",
              "0          892       3                              Kelly, Mr. James    male   \n",
              "1          893       3              Wilkes, Mrs. James (Ellen Needs)  female   \n",
              "2          894       2                     Myles, Mr. Thomas Francis    male   \n",
              "3          895       3                              Wirz, Mr. Albert    male   \n",
              "4          896       3  Hirvonen, Mrs. Alexander (Helga E Lindqvist)  female   \n",
              "\n",
              "    Age  SibSp  Parch   Ticket     Fare Cabin Embarked  \n",
              "0  34.5      0      0   330911   7.8292   NaN        Q  \n",
              "1  47.0      1      0   363272   7.0000   NaN        S  \n",
              "2  62.0      0      0   240276   9.6875   NaN        Q  \n",
              "3  27.0      0      0   315154   8.6625   NaN        S  \n",
              "4  22.0      1      1  3101298  12.2875   NaN        S  "
            ],
            "text/html": [
              "\n",
              "  <div id=\"df-6125b1d7-2697-4f32-87d8-6e2dafe42094\" class=\"colab-df-container\">\n",
              "    <div>\n",
              "<style scoped>\n",
              "    .dataframe tbody tr th:only-of-type {\n",
              "        vertical-align: middle;\n",
              "    }\n",
              "\n",
              "    .dataframe tbody tr th {\n",
              "        vertical-align: top;\n",
              "    }\n",
              "\n",
              "    .dataframe thead th {\n",
              "        text-align: right;\n",
              "    }\n",
              "</style>\n",
              "<table border=\"1\" class=\"dataframe\">\n",
              "  <thead>\n",
              "    <tr style=\"text-align: right;\">\n",
              "      <th></th>\n",
              "      <th>PassengerId</th>\n",
              "      <th>Pclass</th>\n",
              "      <th>Name</th>\n",
              "      <th>Sex</th>\n",
              "      <th>Age</th>\n",
              "      <th>SibSp</th>\n",
              "      <th>Parch</th>\n",
              "      <th>Ticket</th>\n",
              "      <th>Fare</th>\n",
              "      <th>Cabin</th>\n",
              "      <th>Embarked</th>\n",
              "    </tr>\n",
              "  </thead>\n",
              "  <tbody>\n",
              "    <tr>\n",
              "      <th>0</th>\n",
              "      <td>892</td>\n",
              "      <td>3</td>\n",
              "      <td>Kelly, Mr. James</td>\n",
              "      <td>male</td>\n",
              "      <td>34.5</td>\n",
              "      <td>0</td>\n",
              "      <td>0</td>\n",
              "      <td>330911</td>\n",
              "      <td>7.8292</td>\n",
              "      <td>NaN</td>\n",
              "      <td>Q</td>\n",
              "    </tr>\n",
              "    <tr>\n",
              "      <th>1</th>\n",
              "      <td>893</td>\n",
              "      <td>3</td>\n",
              "      <td>Wilkes, Mrs. James (Ellen Needs)</td>\n",
              "      <td>female</td>\n",
              "      <td>47.0</td>\n",
              "      <td>1</td>\n",
              "      <td>0</td>\n",
              "      <td>363272</td>\n",
              "      <td>7.0000</td>\n",
              "      <td>NaN</td>\n",
              "      <td>S</td>\n",
              "    </tr>\n",
              "    <tr>\n",
              "      <th>2</th>\n",
              "      <td>894</td>\n",
              "      <td>2</td>\n",
              "      <td>Myles, Mr. Thomas Francis</td>\n",
              "      <td>male</td>\n",
              "      <td>62.0</td>\n",
              "      <td>0</td>\n",
              "      <td>0</td>\n",
              "      <td>240276</td>\n",
              "      <td>9.6875</td>\n",
              "      <td>NaN</td>\n",
              "      <td>Q</td>\n",
              "    </tr>\n",
              "    <tr>\n",
              "      <th>3</th>\n",
              "      <td>895</td>\n",
              "      <td>3</td>\n",
              "      <td>Wirz, Mr. Albert</td>\n",
              "      <td>male</td>\n",
              "      <td>27.0</td>\n",
              "      <td>0</td>\n",
              "      <td>0</td>\n",
              "      <td>315154</td>\n",
              "      <td>8.6625</td>\n",
              "      <td>NaN</td>\n",
              "      <td>S</td>\n",
              "    </tr>\n",
              "    <tr>\n",
              "      <th>4</th>\n",
              "      <td>896</td>\n",
              "      <td>3</td>\n",
              "      <td>Hirvonen, Mrs. Alexander (Helga E Lindqvist)</td>\n",
              "      <td>female</td>\n",
              "      <td>22.0</td>\n",
              "      <td>1</td>\n",
              "      <td>1</td>\n",
              "      <td>3101298</td>\n",
              "      <td>12.2875</td>\n",
              "      <td>NaN</td>\n",
              "      <td>S</td>\n",
              "    </tr>\n",
              "  </tbody>\n",
              "</table>\n",
              "</div>\n",
              "    <div class=\"colab-df-buttons\">\n",
              "\n",
              "  <div class=\"colab-df-container\">\n",
              "    <button class=\"colab-df-convert\" onclick=\"convertToInteractive('df-6125b1d7-2697-4f32-87d8-6e2dafe42094')\"\n",
              "            title=\"Convert this dataframe to an interactive table.\"\n",
              "            style=\"display:none;\">\n",
              "\n",
              "  <svg xmlns=\"http://www.w3.org/2000/svg\" height=\"24px\" viewBox=\"0 -960 960 960\">\n",
              "    <path d=\"M120-120v-720h720v720H120Zm60-500h600v-160H180v160Zm220 220h160v-160H400v160Zm0 220h160v-160H400v160ZM180-400h160v-160H180v160Zm440 0h160v-160H620v160ZM180-180h160v-160H180v160Zm440 0h160v-160H620v160Z\"/>\n",
              "  </svg>\n",
              "    </button>\n",
              "\n",
              "  <style>\n",
              "    .colab-df-container {\n",
              "      display:flex;\n",
              "      gap: 12px;\n",
              "    }\n",
              "\n",
              "    .colab-df-convert {\n",
              "      background-color: #E8F0FE;\n",
              "      border: none;\n",
              "      border-radius: 50%;\n",
              "      cursor: pointer;\n",
              "      display: none;\n",
              "      fill: #1967D2;\n",
              "      height: 32px;\n",
              "      padding: 0 0 0 0;\n",
              "      width: 32px;\n",
              "    }\n",
              "\n",
              "    .colab-df-convert:hover {\n",
              "      background-color: #E2EBFA;\n",
              "      box-shadow: 0px 1px 2px rgba(60, 64, 67, 0.3), 0px 1px 3px 1px rgba(60, 64, 67, 0.15);\n",
              "      fill: #174EA6;\n",
              "    }\n",
              "\n",
              "    .colab-df-buttons div {\n",
              "      margin-bottom: 4px;\n",
              "    }\n",
              "\n",
              "    [theme=dark] .colab-df-convert {\n",
              "      background-color: #3B4455;\n",
              "      fill: #D2E3FC;\n",
              "    }\n",
              "\n",
              "    [theme=dark] .colab-df-convert:hover {\n",
              "      background-color: #434B5C;\n",
              "      box-shadow: 0px 1px 3px 1px rgba(0, 0, 0, 0.15);\n",
              "      filter: drop-shadow(0px 1px 2px rgba(0, 0, 0, 0.3));\n",
              "      fill: #FFFFFF;\n",
              "    }\n",
              "  </style>\n",
              "\n",
              "    <script>\n",
              "      const buttonEl =\n",
              "        document.querySelector('#df-6125b1d7-2697-4f32-87d8-6e2dafe42094 button.colab-df-convert');\n",
              "      buttonEl.style.display =\n",
              "        google.colab.kernel.accessAllowed ? 'block' : 'none';\n",
              "\n",
              "      async function convertToInteractive(key) {\n",
              "        const element = document.querySelector('#df-6125b1d7-2697-4f32-87d8-6e2dafe42094');\n",
              "        const dataTable =\n",
              "          await google.colab.kernel.invokeFunction('convertToInteractive',\n",
              "                                                    [key], {});\n",
              "        if (!dataTable) return;\n",
              "\n",
              "        const docLinkHtml = 'Like what you see? Visit the ' +\n",
              "          '<a target=\"_blank\" href=https://colab.research.google.com/notebooks/data_table.ipynb>data table notebook</a>'\n",
              "          + ' to learn more about interactive tables.';\n",
              "        element.innerHTML = '';\n",
              "        dataTable['output_type'] = 'display_data';\n",
              "        await google.colab.output.renderOutput(dataTable, element);\n",
              "        const docLink = document.createElement('div');\n",
              "        docLink.innerHTML = docLinkHtml;\n",
              "        element.appendChild(docLink);\n",
              "      }\n",
              "    </script>\n",
              "  </div>\n",
              "\n",
              "\n",
              "<div id=\"df-b7362af2-ae62-4649-8974-2c8fe91b3356\">\n",
              "  <button class=\"colab-df-quickchart\" onclick=\"quickchart('df-b7362af2-ae62-4649-8974-2c8fe91b3356')\"\n",
              "            title=\"Suggest charts\"\n",
              "            style=\"display:none;\">\n",
              "\n",
              "<svg xmlns=\"http://www.w3.org/2000/svg\" height=\"24px\"viewBox=\"0 0 24 24\"\n",
              "     width=\"24px\">\n",
              "    <g>\n",
              "        <path d=\"M19 3H5c-1.1 0-2 .9-2 2v14c0 1.1.9 2 2 2h14c1.1 0 2-.9 2-2V5c0-1.1-.9-2-2-2zM9 17H7v-7h2v7zm4 0h-2V7h2v10zm4 0h-2v-4h2v4z\"/>\n",
              "    </g>\n",
              "</svg>\n",
              "  </button>\n",
              "\n",
              "<style>\n",
              "  .colab-df-quickchart {\n",
              "      --bg-color: #E8F0FE;\n",
              "      --fill-color: #1967D2;\n",
              "      --hover-bg-color: #E2EBFA;\n",
              "      --hover-fill-color: #174EA6;\n",
              "      --disabled-fill-color: #AAA;\n",
              "      --disabled-bg-color: #DDD;\n",
              "  }\n",
              "\n",
              "  [theme=dark] .colab-df-quickchart {\n",
              "      --bg-color: #3B4455;\n",
              "      --fill-color: #D2E3FC;\n",
              "      --hover-bg-color: #434B5C;\n",
              "      --hover-fill-color: #FFFFFF;\n",
              "      --disabled-bg-color: #3B4455;\n",
              "      --disabled-fill-color: #666;\n",
              "  }\n",
              "\n",
              "  .colab-df-quickchart {\n",
              "    background-color: var(--bg-color);\n",
              "    border: none;\n",
              "    border-radius: 50%;\n",
              "    cursor: pointer;\n",
              "    display: none;\n",
              "    fill: var(--fill-color);\n",
              "    height: 32px;\n",
              "    padding: 0;\n",
              "    width: 32px;\n",
              "  }\n",
              "\n",
              "  .colab-df-quickchart:hover {\n",
              "    background-color: var(--hover-bg-color);\n",
              "    box-shadow: 0 1px 2px rgba(60, 64, 67, 0.3), 0 1px 3px 1px rgba(60, 64, 67, 0.15);\n",
              "    fill: var(--button-hover-fill-color);\n",
              "  }\n",
              "\n",
              "  .colab-df-quickchart-complete:disabled,\n",
              "  .colab-df-quickchart-complete:disabled:hover {\n",
              "    background-color: var(--disabled-bg-color);\n",
              "    fill: var(--disabled-fill-color);\n",
              "    box-shadow: none;\n",
              "  }\n",
              "\n",
              "  .colab-df-spinner {\n",
              "    border: 2px solid var(--fill-color);\n",
              "    border-color: transparent;\n",
              "    border-bottom-color: var(--fill-color);\n",
              "    animation:\n",
              "      spin 1s steps(1) infinite;\n",
              "  }\n",
              "\n",
              "  @keyframes spin {\n",
              "    0% {\n",
              "      border-color: transparent;\n",
              "      border-bottom-color: var(--fill-color);\n",
              "      border-left-color: var(--fill-color);\n",
              "    }\n",
              "    20% {\n",
              "      border-color: transparent;\n",
              "      border-left-color: var(--fill-color);\n",
              "      border-top-color: var(--fill-color);\n",
              "    }\n",
              "    30% {\n",
              "      border-color: transparent;\n",
              "      border-left-color: var(--fill-color);\n",
              "      border-top-color: var(--fill-color);\n",
              "      border-right-color: var(--fill-color);\n",
              "    }\n",
              "    40% {\n",
              "      border-color: transparent;\n",
              "      border-right-color: var(--fill-color);\n",
              "      border-top-color: var(--fill-color);\n",
              "    }\n",
              "    60% {\n",
              "      border-color: transparent;\n",
              "      border-right-color: var(--fill-color);\n",
              "    }\n",
              "    80% {\n",
              "      border-color: transparent;\n",
              "      border-right-color: var(--fill-color);\n",
              "      border-bottom-color: var(--fill-color);\n",
              "    }\n",
              "    90% {\n",
              "      border-color: transparent;\n",
              "      border-bottom-color: var(--fill-color);\n",
              "    }\n",
              "  }\n",
              "</style>\n",
              "\n",
              "  <script>\n",
              "    async function quickchart(key) {\n",
              "      const quickchartButtonEl =\n",
              "        document.querySelector('#' + key + ' button');\n",
              "      quickchartButtonEl.disabled = true;  // To prevent multiple clicks.\n",
              "      quickchartButtonEl.classList.add('colab-df-spinner');\n",
              "      try {\n",
              "        const charts = await google.colab.kernel.invokeFunction(\n",
              "            'suggestCharts', [key], {});\n",
              "      } catch (error) {\n",
              "        console.error('Error during call to suggestCharts:', error);\n",
              "      }\n",
              "      quickchartButtonEl.classList.remove('colab-df-spinner');\n",
              "      quickchartButtonEl.classList.add('colab-df-quickchart-complete');\n",
              "    }\n",
              "    (() => {\n",
              "      let quickchartButtonEl =\n",
              "        document.querySelector('#df-b7362af2-ae62-4649-8974-2c8fe91b3356 button');\n",
              "      quickchartButtonEl.style.display =\n",
              "        google.colab.kernel.accessAllowed ? 'block' : 'none';\n",
              "    })();\n",
              "  </script>\n",
              "</div>\n",
              "\n",
              "    </div>\n",
              "  </div>\n"
            ],
            "application/vnd.google.colaboratory.intrinsic+json": {
              "type": "dataframe",
              "variable_name": "test_df",
              "summary": "{\n  \"name\": \"test_df\",\n  \"rows\": 418,\n  \"fields\": [\n    {\n      \"column\": \"PassengerId\",\n      \"properties\": {\n        \"dtype\": \"number\",\n        \"std\": 120,\n        \"min\": 892,\n        \"max\": 1309,\n        \"num_unique_values\": 418,\n        \"samples\": [\n          1213,\n          1216,\n          1280\n        ],\n        \"semantic_type\": \"\",\n        \"description\": \"\"\n      }\n    },\n    {\n      \"column\": \"Pclass\",\n      \"properties\": {\n        \"dtype\": \"number\",\n        \"std\": 0,\n        \"min\": 1,\n        \"max\": 3,\n        \"num_unique_values\": 3,\n        \"samples\": [\n          3,\n          2,\n          1\n        ],\n        \"semantic_type\": \"\",\n        \"description\": \"\"\n      }\n    },\n    {\n      \"column\": \"Name\",\n      \"properties\": {\n        \"dtype\": \"string\",\n        \"num_unique_values\": 418,\n        \"samples\": [\n          \"Krekorian, Mr. Neshan\",\n          \"Kreuchen, Miss. Emilie\",\n          \"Canavan, Mr. Patrick\"\n        ],\n        \"semantic_type\": \"\",\n        \"description\": \"\"\n      }\n    },\n    {\n      \"column\": \"Sex\",\n      \"properties\": {\n        \"dtype\": \"category\",\n        \"num_unique_values\": 2,\n        \"samples\": [\n          \"female\",\n          \"male\"\n        ],\n        \"semantic_type\": \"\",\n        \"description\": \"\"\n      }\n    },\n    {\n      \"column\": \"Age\",\n      \"properties\": {\n        \"dtype\": \"number\",\n        \"std\": 14.181209235624422,\n        \"min\": 0.17,\n        \"max\": 76.0,\n        \"num_unique_values\": 79,\n        \"samples\": [\n          10.0,\n          34.5\n        ],\n        \"semantic_type\": \"\",\n        \"description\": \"\"\n      }\n    },\n    {\n      \"column\": \"SibSp\",\n      \"properties\": {\n        \"dtype\": \"number\",\n        \"std\": 0,\n        \"min\": 0,\n        \"max\": 8,\n        \"num_unique_values\": 7,\n        \"samples\": [\n          0,\n          1\n        ],\n        \"semantic_type\": \"\",\n        \"description\": \"\"\n      }\n    },\n    {\n      \"column\": \"Parch\",\n      \"properties\": {\n        \"dtype\": \"number\",\n        \"std\": 0,\n        \"min\": 0,\n        \"max\": 9,\n        \"num_unique_values\": 8,\n        \"samples\": [\n          1,\n          6\n        ],\n        \"semantic_type\": \"\",\n        \"description\": \"\"\n      }\n    },\n    {\n      \"column\": \"Ticket\",\n      \"properties\": {\n        \"dtype\": \"string\",\n        \"num_unique_values\": 363,\n        \"samples\": [\n          \"2673\",\n          \"W./C. 6607\"\n        ],\n        \"semantic_type\": \"\",\n        \"description\": \"\"\n      }\n    },\n    {\n      \"column\": \"Fare\",\n      \"properties\": {\n        \"dtype\": \"number\",\n        \"std\": 55.907576179973844,\n        \"min\": 0.0,\n        \"max\": 512.3292,\n        \"num_unique_values\": 169,\n        \"samples\": [\n          41.5792,\n          57.75\n        ],\n        \"semantic_type\": \"\",\n        \"description\": \"\"\n      }\n    },\n    {\n      \"column\": \"Cabin\",\n      \"properties\": {\n        \"dtype\": \"category\",\n        \"num_unique_values\": 76,\n        \"samples\": [\n          \"A21\",\n          \"E45\"\n        ],\n        \"semantic_type\": \"\",\n        \"description\": \"\"\n      }\n    },\n    {\n      \"column\": \"Embarked\",\n      \"properties\": {\n        \"dtype\": \"category\",\n        \"num_unique_values\": 3,\n        \"samples\": [\n          \"Q\",\n          \"S\"\n        ],\n        \"semantic_type\": \"\",\n        \"description\": \"\"\n      }\n    }\n  ]\n}"
            }
          },
          "metadata": {},
          "execution_count": 4
        }
      ]
    },
    {
      "cell_type": "code",
      "source": [
        "# Preenchendo valores nulos em Age com a média\n",
        "train_df['Age'].fillna(train_df['Age'].mean(), inplace=True)\n",
        "test_df['Age'].fillna(test_df['Age'].mean(), inplace=True)\n",
        "test_df['Fare'].fillna(test_df['Fare'].mean(), inplace=True)"
      ],
      "metadata": {
        "id": "cnBBnrS7Xz_4"
      },
      "execution_count": null,
      "outputs": []
    },
    {
      "cell_type": "code",
      "source": [
        "# 1. Para a variável 'Sex', podemos usar Label Encoding, pois há apenas duas categorias\n",
        "train_df['Sex'] = train_df['Sex'].map({'male': 0, 'female': 1})\n",
        "test_df['Sex'] = test_df['Sex'].map({'male': 0, 'female': 1})"
      ],
      "metadata": {
        "id": "SGX2mhrkX13d"
      },
      "execution_count": null,
      "outputs": []
    },
    {
      "cell_type": "code",
      "source": [
        "# 2. Para a variável 'Embarked', podemos usar One-Hot Encoding, pois há mais de duas categorias\n",
        "train_df = pd.get_dummies(train_df, columns=['Embarked'], prefix='Embarked')\n",
        "test_df = pd.get_dummies(test_df, columns=['Embarked'], prefix='Embarked')"
      ],
      "metadata": {
        "id": "ObCHqqNJX33k"
      },
      "execution_count": null,
      "outputs": []
    },
    {
      "cell_type": "code",
      "source": [
        "# 3. Para a variável 'Cabin', podemos apenas criar uma nova variável indicando se a cabine é conhecida ou não\n",
        "train_df['Cabin_known'] = train_df['Cabin'].notna().astype(int)\n",
        "test_df['Cabin_known'] = test_df['Cabin'].notna().astype(int)\n",
        "\n",
        "# Agora podemos descartar a coluna 'Cabin' original\n",
        "train_df = train_df.drop(columns=['Cabin'])\n",
        "test_df_teste = test_df.drop(columns=['Cabin'])"
      ],
      "metadata": {
        "id": "kMAaBbHgX5d6"
      },
      "execution_count": null,
      "outputs": []
    },
    {
      "cell_type": "code",
      "source": [
        "train_df = train_df.drop(columns=['Name','Ticket'])"
      ],
      "metadata": {
        "id": "UMREZKgUX7xu"
      },
      "execution_count": null,
      "outputs": []
    },
    {
      "cell_type": "code",
      "source": [
        "variaveis = ['Sex', 'Cabin_known','Fare','Pclass']"
      ],
      "metadata": {
        "id": "7MGnlBFOX9Bo"
      },
      "execution_count": null,
      "outputs": []
    },
    {
      "cell_type": "code",
      "source": [
        "# Separando as variáveis dependentes (Y) e independentes (X) no conjunto de treino\n",
        "X = train_df[variaveis]\n",
        "y = train_df['Survived']\n",
        "\n",
        "X_test = test_df[variaveis]"
      ],
      "metadata": {
        "id": "n9DVLZ6lX-De"
      },
      "execution_count": null,
      "outputs": []
    },
    {
      "cell_type": "markdown",
      "source": [
        "# Duelo 1:\n",
        "Pouco pré processamento"
      ],
      "metadata": {
        "id": "j4EzZFGGYCDq"
      }
    },
    {
      "cell_type": "markdown",
      "source": [
        "**XGBOOST**"
      ],
      "metadata": {
        "id": "_gGCfplrYFzq"
      }
    },
    {
      "cell_type": "code",
      "source": [
        "xgboost_duelo1 = xgb.XGBClassifier()"
      ],
      "metadata": {
        "id": "CIbHBJJeYBn-"
      },
      "execution_count": null,
      "outputs": []
    },
    {
      "cell_type": "code",
      "source": [
        "xgboost_duelo1.fit(X, y)"
      ],
      "metadata": {
        "colab": {
          "base_uri": "https://localhost:8080/",
          "height": 248
        },
        "id": "pQizreJoekgv",
        "outputId": "8a1df152-5f81-48d4-dfbc-af07843ed0e2"
      },
      "execution_count": null,
      "outputs": [
        {
          "output_type": "execute_result",
          "data": {
            "text/plain": [
              "XGBClassifier(base_score=None, booster=None, callbacks=None,\n",
              "              colsample_bylevel=None, colsample_bynode=None,\n",
              "              colsample_bytree=None, device=None, early_stopping_rounds=None,\n",
              "              enable_categorical=False, eval_metric=None, feature_types=None,\n",
              "              gamma=None, grow_policy=None, importance_type=None,\n",
              "              interaction_constraints=None, learning_rate=None, max_bin=None,\n",
              "              max_cat_threshold=None, max_cat_to_onehot=None,\n",
              "              max_delta_step=None, max_depth=None, max_leaves=None,\n",
              "              min_child_weight=None, missing=nan, monotone_constraints=None,\n",
              "              multi_strategy=None, n_estimators=None, n_jobs=None,\n",
              "              num_parallel_tree=None, random_state=None, ...)"
            ],
            "text/html": [
              "<style>#sk-container-id-1 {color: black;}#sk-container-id-1 pre{padding: 0;}#sk-container-id-1 div.sk-toggleable {background-color: white;}#sk-container-id-1 label.sk-toggleable__label {cursor: pointer;display: block;width: 100%;margin-bottom: 0;padding: 0.3em;box-sizing: border-box;text-align: center;}#sk-container-id-1 label.sk-toggleable__label-arrow:before {content: \"▸\";float: left;margin-right: 0.25em;color: #696969;}#sk-container-id-1 label.sk-toggleable__label-arrow:hover:before {color: black;}#sk-container-id-1 div.sk-estimator:hover label.sk-toggleable__label-arrow:before {color: black;}#sk-container-id-1 div.sk-toggleable__content {max-height: 0;max-width: 0;overflow: hidden;text-align: left;background-color: #f0f8ff;}#sk-container-id-1 div.sk-toggleable__content pre {margin: 0.2em;color: black;border-radius: 0.25em;background-color: #f0f8ff;}#sk-container-id-1 input.sk-toggleable__control:checked~div.sk-toggleable__content {max-height: 200px;max-width: 100%;overflow: auto;}#sk-container-id-1 input.sk-toggleable__control:checked~label.sk-toggleable__label-arrow:before {content: \"▾\";}#sk-container-id-1 div.sk-estimator input.sk-toggleable__control:checked~label.sk-toggleable__label {background-color: #d4ebff;}#sk-container-id-1 div.sk-label input.sk-toggleable__control:checked~label.sk-toggleable__label {background-color: #d4ebff;}#sk-container-id-1 input.sk-hidden--visually {border: 0;clip: rect(1px 1px 1px 1px);clip: rect(1px, 1px, 1px, 1px);height: 1px;margin: -1px;overflow: hidden;padding: 0;position: absolute;width: 1px;}#sk-container-id-1 div.sk-estimator {font-family: monospace;background-color: #f0f8ff;border: 1px dotted black;border-radius: 0.25em;box-sizing: border-box;margin-bottom: 0.5em;}#sk-container-id-1 div.sk-estimator:hover {background-color: #d4ebff;}#sk-container-id-1 div.sk-parallel-item::after {content: \"\";width: 100%;border-bottom: 1px solid gray;flex-grow: 1;}#sk-container-id-1 div.sk-label:hover label.sk-toggleable__label {background-color: #d4ebff;}#sk-container-id-1 div.sk-serial::before {content: \"\";position: absolute;border-left: 1px solid gray;box-sizing: border-box;top: 0;bottom: 0;left: 50%;z-index: 0;}#sk-container-id-1 div.sk-serial {display: flex;flex-direction: column;align-items: center;background-color: white;padding-right: 0.2em;padding-left: 0.2em;position: relative;}#sk-container-id-1 div.sk-item {position: relative;z-index: 1;}#sk-container-id-1 div.sk-parallel {display: flex;align-items: stretch;justify-content: center;background-color: white;position: relative;}#sk-container-id-1 div.sk-item::before, #sk-container-id-1 div.sk-parallel-item::before {content: \"\";position: absolute;border-left: 1px solid gray;box-sizing: border-box;top: 0;bottom: 0;left: 50%;z-index: -1;}#sk-container-id-1 div.sk-parallel-item {display: flex;flex-direction: column;z-index: 1;position: relative;background-color: white;}#sk-container-id-1 div.sk-parallel-item:first-child::after {align-self: flex-end;width: 50%;}#sk-container-id-1 div.sk-parallel-item:last-child::after {align-self: flex-start;width: 50%;}#sk-container-id-1 div.sk-parallel-item:only-child::after {width: 0;}#sk-container-id-1 div.sk-dashed-wrapped {border: 1px dashed gray;margin: 0 0.4em 0.5em 0.4em;box-sizing: border-box;padding-bottom: 0.4em;background-color: white;}#sk-container-id-1 div.sk-label label {font-family: monospace;font-weight: bold;display: inline-block;line-height: 1.2em;}#sk-container-id-1 div.sk-label-container {text-align: center;}#sk-container-id-1 div.sk-container {/* jupyter's `normalize.less` sets `[hidden] { display: none; }` but bootstrap.min.css set `[hidden] { display: none !important; }` so we also need the `!important` here to be able to override the default hidden behavior on the sphinx rendered scikit-learn.org. See: https://github.com/scikit-learn/scikit-learn/issues/21755 */display: inline-block !important;position: relative;}#sk-container-id-1 div.sk-text-repr-fallback {display: none;}</style><div id=\"sk-container-id-1\" class=\"sk-top-container\"><div class=\"sk-text-repr-fallback\"><pre>XGBClassifier(base_score=None, booster=None, callbacks=None,\n",
              "              colsample_bylevel=None, colsample_bynode=None,\n",
              "              colsample_bytree=None, device=None, early_stopping_rounds=None,\n",
              "              enable_categorical=False, eval_metric=None, feature_types=None,\n",
              "              gamma=None, grow_policy=None, importance_type=None,\n",
              "              interaction_constraints=None, learning_rate=None, max_bin=None,\n",
              "              max_cat_threshold=None, max_cat_to_onehot=None,\n",
              "              max_delta_step=None, max_depth=None, max_leaves=None,\n",
              "              min_child_weight=None, missing=nan, monotone_constraints=None,\n",
              "              multi_strategy=None, n_estimators=None, n_jobs=None,\n",
              "              num_parallel_tree=None, random_state=None, ...)</pre><b>In a Jupyter environment, please rerun this cell to show the HTML representation or trust the notebook. <br />On GitHub, the HTML representation is unable to render, please try loading this page with nbviewer.org.</b></div><div class=\"sk-container\" hidden><div class=\"sk-item\"><div class=\"sk-estimator sk-toggleable\"><input class=\"sk-toggleable__control sk-hidden--visually\" id=\"sk-estimator-id-1\" type=\"checkbox\" checked><label for=\"sk-estimator-id-1\" class=\"sk-toggleable__label sk-toggleable__label-arrow\">XGBClassifier</label><div class=\"sk-toggleable__content\"><pre>XGBClassifier(base_score=None, booster=None, callbacks=None,\n",
              "              colsample_bylevel=None, colsample_bynode=None,\n",
              "              colsample_bytree=None, device=None, early_stopping_rounds=None,\n",
              "              enable_categorical=False, eval_metric=None, feature_types=None,\n",
              "              gamma=None, grow_policy=None, importance_type=None,\n",
              "              interaction_constraints=None, learning_rate=None, max_bin=None,\n",
              "              max_cat_threshold=None, max_cat_to_onehot=None,\n",
              "              max_delta_step=None, max_depth=None, max_leaves=None,\n",
              "              min_child_weight=None, missing=nan, monotone_constraints=None,\n",
              "              multi_strategy=None, n_estimators=None, n_jobs=None,\n",
              "              num_parallel_tree=None, random_state=None, ...)</pre></div></div></div></div></div>"
            ]
          },
          "metadata": {},
          "execution_count": 13
        }
      ]
    },
    {
      "cell_type": "code",
      "source": [
        "y_pred_xgboost_duelo1 = xgboost_duelo1.predict(X)"
      ],
      "metadata": {
        "id": "e87n1k6yeyht"
      },
      "execution_count": null,
      "outputs": []
    },
    {
      "cell_type": "code",
      "source": [
        "relatorio = classification_report(y, y_pred_xgboost_duelo1)\n",
        "print(\"Relatório de Classificação:\")\n",
        "print(relatorio)"
      ],
      "metadata": {
        "colab": {
          "base_uri": "https://localhost:8080/"
        },
        "id": "mwGq46Foe6zn",
        "outputId": "40c0b9a7-030b-41b2-f994-8e8c7ac7a7cf"
      },
      "execution_count": null,
      "outputs": [
        {
          "output_type": "stream",
          "name": "stdout",
          "text": [
            "Relatório de Classificação:\n",
            "              precision    recall  f1-score   support\n",
            "\n",
            "           0       0.89      0.93      0.91       549\n",
            "           1       0.89      0.82      0.85       342\n",
            "\n",
            "    accuracy                           0.89       891\n",
            "   macro avg       0.89      0.88      0.88       891\n",
            "weighted avg       0.89      0.89      0.89       891\n",
            "\n"
          ]
        }
      ]
    },
    {
      "cell_type": "markdown",
      "source": [
        "**SVM**"
      ],
      "metadata": {
        "id": "YOg00Z24fPVL"
      }
    },
    {
      "cell_type": "code",
      "source": [
        "svm_duelo1 = SVC(kernel =  'linear', random_state = 1, C = 1.0)\n",
        "svm_duelo1.fit(X,y)"
      ],
      "metadata": {
        "colab": {
          "base_uri": "https://localhost:8080/",
          "height": 75
        },
        "id": "-rLlY9UJfVwm",
        "outputId": "bb04958e-e69d-4448-cac7-30cde969a9e1"
      },
      "execution_count": null,
      "outputs": [
        {
          "output_type": "execute_result",
          "data": {
            "text/plain": [
              "SVC(kernel='linear', random_state=1)"
            ],
            "text/html": [
              "<style>#sk-container-id-2 {color: black;}#sk-container-id-2 pre{padding: 0;}#sk-container-id-2 div.sk-toggleable {background-color: white;}#sk-container-id-2 label.sk-toggleable__label {cursor: pointer;display: block;width: 100%;margin-bottom: 0;padding: 0.3em;box-sizing: border-box;text-align: center;}#sk-container-id-2 label.sk-toggleable__label-arrow:before {content: \"▸\";float: left;margin-right: 0.25em;color: #696969;}#sk-container-id-2 label.sk-toggleable__label-arrow:hover:before {color: black;}#sk-container-id-2 div.sk-estimator:hover label.sk-toggleable__label-arrow:before {color: black;}#sk-container-id-2 div.sk-toggleable__content {max-height: 0;max-width: 0;overflow: hidden;text-align: left;background-color: #f0f8ff;}#sk-container-id-2 div.sk-toggleable__content pre {margin: 0.2em;color: black;border-radius: 0.25em;background-color: #f0f8ff;}#sk-container-id-2 input.sk-toggleable__control:checked~div.sk-toggleable__content {max-height: 200px;max-width: 100%;overflow: auto;}#sk-container-id-2 input.sk-toggleable__control:checked~label.sk-toggleable__label-arrow:before {content: \"▾\";}#sk-container-id-2 div.sk-estimator input.sk-toggleable__control:checked~label.sk-toggleable__label {background-color: #d4ebff;}#sk-container-id-2 div.sk-label input.sk-toggleable__control:checked~label.sk-toggleable__label {background-color: #d4ebff;}#sk-container-id-2 input.sk-hidden--visually {border: 0;clip: rect(1px 1px 1px 1px);clip: rect(1px, 1px, 1px, 1px);height: 1px;margin: -1px;overflow: hidden;padding: 0;position: absolute;width: 1px;}#sk-container-id-2 div.sk-estimator {font-family: monospace;background-color: #f0f8ff;border: 1px dotted black;border-radius: 0.25em;box-sizing: border-box;margin-bottom: 0.5em;}#sk-container-id-2 div.sk-estimator:hover {background-color: #d4ebff;}#sk-container-id-2 div.sk-parallel-item::after {content: \"\";width: 100%;border-bottom: 1px solid gray;flex-grow: 1;}#sk-container-id-2 div.sk-label:hover label.sk-toggleable__label {background-color: #d4ebff;}#sk-container-id-2 div.sk-serial::before {content: \"\";position: absolute;border-left: 1px solid gray;box-sizing: border-box;top: 0;bottom: 0;left: 50%;z-index: 0;}#sk-container-id-2 div.sk-serial {display: flex;flex-direction: column;align-items: center;background-color: white;padding-right: 0.2em;padding-left: 0.2em;position: relative;}#sk-container-id-2 div.sk-item {position: relative;z-index: 1;}#sk-container-id-2 div.sk-parallel {display: flex;align-items: stretch;justify-content: center;background-color: white;position: relative;}#sk-container-id-2 div.sk-item::before, #sk-container-id-2 div.sk-parallel-item::before {content: \"\";position: absolute;border-left: 1px solid gray;box-sizing: border-box;top: 0;bottom: 0;left: 50%;z-index: -1;}#sk-container-id-2 div.sk-parallel-item {display: flex;flex-direction: column;z-index: 1;position: relative;background-color: white;}#sk-container-id-2 div.sk-parallel-item:first-child::after {align-self: flex-end;width: 50%;}#sk-container-id-2 div.sk-parallel-item:last-child::after {align-self: flex-start;width: 50%;}#sk-container-id-2 div.sk-parallel-item:only-child::after {width: 0;}#sk-container-id-2 div.sk-dashed-wrapped {border: 1px dashed gray;margin: 0 0.4em 0.5em 0.4em;box-sizing: border-box;padding-bottom: 0.4em;background-color: white;}#sk-container-id-2 div.sk-label label {font-family: monospace;font-weight: bold;display: inline-block;line-height: 1.2em;}#sk-container-id-2 div.sk-label-container {text-align: center;}#sk-container-id-2 div.sk-container {/* jupyter's `normalize.less` sets `[hidden] { display: none; }` but bootstrap.min.css set `[hidden] { display: none !important; }` so we also need the `!important` here to be able to override the default hidden behavior on the sphinx rendered scikit-learn.org. See: https://github.com/scikit-learn/scikit-learn/issues/21755 */display: inline-block !important;position: relative;}#sk-container-id-2 div.sk-text-repr-fallback {display: none;}</style><div id=\"sk-container-id-2\" class=\"sk-top-container\"><div class=\"sk-text-repr-fallback\"><pre>SVC(kernel=&#x27;linear&#x27;, random_state=1)</pre><b>In a Jupyter environment, please rerun this cell to show the HTML representation or trust the notebook. <br />On GitHub, the HTML representation is unable to render, please try loading this page with nbviewer.org.</b></div><div class=\"sk-container\" hidden><div class=\"sk-item\"><div class=\"sk-estimator sk-toggleable\"><input class=\"sk-toggleable__control sk-hidden--visually\" id=\"sk-estimator-id-2\" type=\"checkbox\" checked><label for=\"sk-estimator-id-2\" class=\"sk-toggleable__label sk-toggleable__label-arrow\">SVC</label><div class=\"sk-toggleable__content\"><pre>SVC(kernel=&#x27;linear&#x27;, random_state=1)</pre></div></div></div></div></div>"
            ]
          },
          "metadata": {},
          "execution_count": 16
        }
      ]
    },
    {
      "cell_type": "markdown",
      "source": [
        "Um valor de C = 1.0 é um bom ponto de partida, pois representa um equilíbrio entre regularização forte e fraca. Não é nem muito permissivo com erros, nem muito rigoroso."
      ],
      "metadata": {
        "id": "QPSsR6iRgDoV"
      }
    },
    {
      "cell_type": "code",
      "source": [
        "y_pred_svm_duelo1 = svm_duelo1.predict(X)"
      ],
      "metadata": {
        "id": "KB4w4RGEfjth"
      },
      "execution_count": null,
      "outputs": []
    },
    {
      "cell_type": "code",
      "source": [
        "relatorio = classification_report(y, y_pred_svm_duelo1)\n",
        "print(\"Relatório de Classificação:\")\n",
        "print(relatorio)"
      ],
      "metadata": {
        "colab": {
          "base_uri": "https://localhost:8080/"
        },
        "id": "yEEfcAZrfr-W",
        "outputId": "b8656b99-dc51-47a8-aede-fd4c794e502f"
      },
      "execution_count": null,
      "outputs": [
        {
          "output_type": "stream",
          "name": "stdout",
          "text": [
            "Relatório de Classificação:\n",
            "              precision    recall  f1-score   support\n",
            "\n",
            "           0       0.81      0.85      0.83       549\n",
            "           1       0.74      0.68      0.71       342\n",
            "\n",
            "    accuracy                           0.79       891\n",
            "   macro avg       0.78      0.77      0.77       891\n",
            "weighted avg       0.78      0.79      0.78       891\n",
            "\n"
          ]
        }
      ]
    },
    {
      "cell_type": "markdown",
      "source": [
        "# Duelo 2:\n",
        "Dados Pré Processados"
      ],
      "metadata": {
        "id": "O9z6etzzgMnS"
      }
    },
    {
      "cell_type": "markdown",
      "source": [
        "**Padronização:** SVM é bastante sensível à escala das características porque o cálculo do hiperplano de separação depende das distâncias entre os pontos.\n",
        "XGBoost é menos sensível à escala das características do que o SVM. Embora a padronização possa ajudar a melhorar o desempenho e a convergência do modelo, a influência não é tão crítica quanto no SVM."
      ],
      "metadata": {
        "id": "s8eQ3oxWgklH"
      }
    },
    {
      "cell_type": "markdown",
      "source": [
        "**Balanceamento:** O balanceamento dos dados é importante para o SVM, especialmente quando há um desbalanceamento significativo entre as classes.\n",
        "O balanceamento pode ser benéfico para o XGBoost, especialmente quando há classes desbalanceadas. O XGBoost tem parâmetros específicos para lidar com desbalanceamento, como scale_pos_weight, que pode ser ajustado para melhorar a performance em casos de desbalanceamento.\n"
      ],
      "metadata": {
        "id": "FXKlrYBZguhj"
      }
    },
    {
      "cell_type": "code",
      "source": [
        "# Balanceando os dados com SMOTE\n",
        "smote = SMOTE(random_state=42)\n",
        "X_train_balanced, Y_train_balanced = smote.fit_resample(X, y)"
      ],
      "metadata": {
        "id": "1tSzaIewhSME"
      },
      "execution_count": null,
      "outputs": []
    },
    {
      "cell_type": "code",
      "source": [
        "# Padronizando os dados\n",
        "scaler = StandardScaler()\n",
        "# Ajustando e transformando os dados de treino balanceados\n",
        "X_train_balanced_scaled = scaler.fit_transform(X_train_balanced)\n",
        "X_test_scaled = scaler.transform(X_test)"
      ],
      "metadata": {
        "id": "1Us0NiKzhZUA"
      },
      "execution_count": null,
      "outputs": []
    },
    {
      "cell_type": "code",
      "source": [
        "print(\"\\nDistribuição das classes depois do balanceamento:\")\n",
        "print(Y_train_balanced.value_counts())"
      ],
      "metadata": {
        "colab": {
          "base_uri": "https://localhost:8080/"
        },
        "id": "CIc0yUPIhbjs",
        "outputId": "3d89b86f-9279-4e84-e16d-7ccb0003cd45"
      },
      "execution_count": null,
      "outputs": [
        {
          "output_type": "stream",
          "name": "stdout",
          "text": [
            "\n",
            "Distribuição das classes depois do balanceamento:\n",
            "Survived\n",
            "0    549\n",
            "1    549\n",
            "Name: count, dtype: int64\n"
          ]
        }
      ]
    },
    {
      "cell_type": "markdown",
      "source": [
        "**XGBOOST**"
      ],
      "metadata": {
        "id": "e5xq2WCOhgvp"
      }
    },
    {
      "cell_type": "code",
      "source": [
        "xgboost_duelo2 = xgb.XGBClassifier()"
      ],
      "metadata": {
        "id": "q1OztrOMhlD5"
      },
      "execution_count": null,
      "outputs": []
    },
    {
      "cell_type": "code",
      "source": [
        "xgboost_duelo2.fit(X_train_balanced_scaled, Y_train_balanced)"
      ],
      "metadata": {
        "colab": {
          "base_uri": "https://localhost:8080/",
          "height": 248
        },
        "id": "3XXN-IaOhpCT",
        "outputId": "094c1699-4f61-450c-b8ab-15cf358abc51"
      },
      "execution_count": null,
      "outputs": [
        {
          "output_type": "execute_result",
          "data": {
            "text/plain": [
              "XGBClassifier(base_score=None, booster=None, callbacks=None,\n",
              "              colsample_bylevel=None, colsample_bynode=None,\n",
              "              colsample_bytree=None, device=None, early_stopping_rounds=None,\n",
              "              enable_categorical=False, eval_metric=None, feature_types=None,\n",
              "              gamma=None, grow_policy=None, importance_type=None,\n",
              "              interaction_constraints=None, learning_rate=None, max_bin=None,\n",
              "              max_cat_threshold=None, max_cat_to_onehot=None,\n",
              "              max_delta_step=None, max_depth=None, max_leaves=None,\n",
              "              min_child_weight=None, missing=nan, monotone_constraints=None,\n",
              "              multi_strategy=None, n_estimators=None, n_jobs=None,\n",
              "              num_parallel_tree=None, random_state=None, ...)"
            ],
            "text/html": [
              "<style>#sk-container-id-3 {color: black;}#sk-container-id-3 pre{padding: 0;}#sk-container-id-3 div.sk-toggleable {background-color: white;}#sk-container-id-3 label.sk-toggleable__label {cursor: pointer;display: block;width: 100%;margin-bottom: 0;padding: 0.3em;box-sizing: border-box;text-align: center;}#sk-container-id-3 label.sk-toggleable__label-arrow:before {content: \"▸\";float: left;margin-right: 0.25em;color: #696969;}#sk-container-id-3 label.sk-toggleable__label-arrow:hover:before {color: black;}#sk-container-id-3 div.sk-estimator:hover label.sk-toggleable__label-arrow:before {color: black;}#sk-container-id-3 div.sk-toggleable__content {max-height: 0;max-width: 0;overflow: hidden;text-align: left;background-color: #f0f8ff;}#sk-container-id-3 div.sk-toggleable__content pre {margin: 0.2em;color: black;border-radius: 0.25em;background-color: #f0f8ff;}#sk-container-id-3 input.sk-toggleable__control:checked~div.sk-toggleable__content {max-height: 200px;max-width: 100%;overflow: auto;}#sk-container-id-3 input.sk-toggleable__control:checked~label.sk-toggleable__label-arrow:before {content: \"▾\";}#sk-container-id-3 div.sk-estimator input.sk-toggleable__control:checked~label.sk-toggleable__label {background-color: #d4ebff;}#sk-container-id-3 div.sk-label input.sk-toggleable__control:checked~label.sk-toggleable__label {background-color: #d4ebff;}#sk-container-id-3 input.sk-hidden--visually {border: 0;clip: rect(1px 1px 1px 1px);clip: rect(1px, 1px, 1px, 1px);height: 1px;margin: -1px;overflow: hidden;padding: 0;position: absolute;width: 1px;}#sk-container-id-3 div.sk-estimator {font-family: monospace;background-color: #f0f8ff;border: 1px dotted black;border-radius: 0.25em;box-sizing: border-box;margin-bottom: 0.5em;}#sk-container-id-3 div.sk-estimator:hover {background-color: #d4ebff;}#sk-container-id-3 div.sk-parallel-item::after {content: \"\";width: 100%;border-bottom: 1px solid gray;flex-grow: 1;}#sk-container-id-3 div.sk-label:hover label.sk-toggleable__label {background-color: #d4ebff;}#sk-container-id-3 div.sk-serial::before {content: \"\";position: absolute;border-left: 1px solid gray;box-sizing: border-box;top: 0;bottom: 0;left: 50%;z-index: 0;}#sk-container-id-3 div.sk-serial {display: flex;flex-direction: column;align-items: center;background-color: white;padding-right: 0.2em;padding-left: 0.2em;position: relative;}#sk-container-id-3 div.sk-item {position: relative;z-index: 1;}#sk-container-id-3 div.sk-parallel {display: flex;align-items: stretch;justify-content: center;background-color: white;position: relative;}#sk-container-id-3 div.sk-item::before, #sk-container-id-3 div.sk-parallel-item::before {content: \"\";position: absolute;border-left: 1px solid gray;box-sizing: border-box;top: 0;bottom: 0;left: 50%;z-index: -1;}#sk-container-id-3 div.sk-parallel-item {display: flex;flex-direction: column;z-index: 1;position: relative;background-color: white;}#sk-container-id-3 div.sk-parallel-item:first-child::after {align-self: flex-end;width: 50%;}#sk-container-id-3 div.sk-parallel-item:last-child::after {align-self: flex-start;width: 50%;}#sk-container-id-3 div.sk-parallel-item:only-child::after {width: 0;}#sk-container-id-3 div.sk-dashed-wrapped {border: 1px dashed gray;margin: 0 0.4em 0.5em 0.4em;box-sizing: border-box;padding-bottom: 0.4em;background-color: white;}#sk-container-id-3 div.sk-label label {font-family: monospace;font-weight: bold;display: inline-block;line-height: 1.2em;}#sk-container-id-3 div.sk-label-container {text-align: center;}#sk-container-id-3 div.sk-container {/* jupyter's `normalize.less` sets `[hidden] { display: none; }` but bootstrap.min.css set `[hidden] { display: none !important; }` so we also need the `!important` here to be able to override the default hidden behavior on the sphinx rendered scikit-learn.org. See: https://github.com/scikit-learn/scikit-learn/issues/21755 */display: inline-block !important;position: relative;}#sk-container-id-3 div.sk-text-repr-fallback {display: none;}</style><div id=\"sk-container-id-3\" class=\"sk-top-container\"><div class=\"sk-text-repr-fallback\"><pre>XGBClassifier(base_score=None, booster=None, callbacks=None,\n",
              "              colsample_bylevel=None, colsample_bynode=None,\n",
              "              colsample_bytree=None, device=None, early_stopping_rounds=None,\n",
              "              enable_categorical=False, eval_metric=None, feature_types=None,\n",
              "              gamma=None, grow_policy=None, importance_type=None,\n",
              "              interaction_constraints=None, learning_rate=None, max_bin=None,\n",
              "              max_cat_threshold=None, max_cat_to_onehot=None,\n",
              "              max_delta_step=None, max_depth=None, max_leaves=None,\n",
              "              min_child_weight=None, missing=nan, monotone_constraints=None,\n",
              "              multi_strategy=None, n_estimators=None, n_jobs=None,\n",
              "              num_parallel_tree=None, random_state=None, ...)</pre><b>In a Jupyter environment, please rerun this cell to show the HTML representation or trust the notebook. <br />On GitHub, the HTML representation is unable to render, please try loading this page with nbviewer.org.</b></div><div class=\"sk-container\" hidden><div class=\"sk-item\"><div class=\"sk-estimator sk-toggleable\"><input class=\"sk-toggleable__control sk-hidden--visually\" id=\"sk-estimator-id-3\" type=\"checkbox\" checked><label for=\"sk-estimator-id-3\" class=\"sk-toggleable__label sk-toggleable__label-arrow\">XGBClassifier</label><div class=\"sk-toggleable__content\"><pre>XGBClassifier(base_score=None, booster=None, callbacks=None,\n",
              "              colsample_bylevel=None, colsample_bynode=None,\n",
              "              colsample_bytree=None, device=None, early_stopping_rounds=None,\n",
              "              enable_categorical=False, eval_metric=None, feature_types=None,\n",
              "              gamma=None, grow_policy=None, importance_type=None,\n",
              "              interaction_constraints=None, learning_rate=None, max_bin=None,\n",
              "              max_cat_threshold=None, max_cat_to_onehot=None,\n",
              "              max_delta_step=None, max_depth=None, max_leaves=None,\n",
              "              min_child_weight=None, missing=nan, monotone_constraints=None,\n",
              "              multi_strategy=None, n_estimators=None, n_jobs=None,\n",
              "              num_parallel_tree=None, random_state=None, ...)</pre></div></div></div></div></div>"
            ]
          },
          "metadata": {},
          "execution_count": 23
        }
      ]
    },
    {
      "cell_type": "code",
      "source": [
        "y_pred_xgboost_duelo2 = xgboost_duelo2.predict(X_train_balanced_scaled)"
      ],
      "metadata": {
        "id": "gK-R1hKCh7kD"
      },
      "execution_count": null,
      "outputs": []
    },
    {
      "cell_type": "code",
      "source": [
        "relatorio = classification_report(Y_train_balanced, y_pred_xgboost_duelo2)\n",
        "print(\"Relatório de Classificação:\")\n",
        "print(relatorio)"
      ],
      "metadata": {
        "colab": {
          "base_uri": "https://localhost:8080/"
        },
        "id": "VqvREbksh91R",
        "outputId": "dd06f224-5ed6-4498-edb9-ce02887b291d"
      },
      "execution_count": null,
      "outputs": [
        {
          "output_type": "stream",
          "name": "stdout",
          "text": [
            "Relatório de Classificação:\n",
            "              precision    recall  f1-score   support\n",
            "\n",
            "           0       0.86      0.90      0.88       549\n",
            "           1       0.89      0.86      0.87       549\n",
            "\n",
            "    accuracy                           0.88      1098\n",
            "   macro avg       0.88      0.88      0.88      1098\n",
            "weighted avg       0.88      0.88      0.88      1098\n",
            "\n"
          ]
        }
      ]
    },
    {
      "cell_type": "markdown",
      "source": [
        "![image.png](data:image/png;base64,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)"
      ],
      "metadata": {
        "id": "cOAmX5aDkcnF"
      }
    },
    {
      "cell_type": "markdown",
      "source": [
        "**SVM**"
      ],
      "metadata": {
        "id": "5ZJa9E2ikj0b"
      }
    },
    {
      "cell_type": "code",
      "source": [
        "svm_duelo2 = SVC(kernel =  'linear', random_state = 1, C = 1.0)\n",
        "svm_duelo2.fit(X_train_balanced_scaled, Y_train_balanced)"
      ],
      "metadata": {
        "colab": {
          "base_uri": "https://localhost:8080/",
          "height": 75
        },
        "id": "zS7hM3utkdZx",
        "outputId": "200cc76b-eb62-4e17-f1f2-383662c23cb9"
      },
      "execution_count": null,
      "outputs": [
        {
          "output_type": "execute_result",
          "data": {
            "text/plain": [
              "SVC(kernel='linear', random_state=1)"
            ],
            "text/html": [
              "<style>#sk-container-id-4 {color: black;}#sk-container-id-4 pre{padding: 0;}#sk-container-id-4 div.sk-toggleable {background-color: white;}#sk-container-id-4 label.sk-toggleable__label {cursor: pointer;display: block;width: 100%;margin-bottom: 0;padding: 0.3em;box-sizing: border-box;text-align: center;}#sk-container-id-4 label.sk-toggleable__label-arrow:before {content: \"▸\";float: left;margin-right: 0.25em;color: #696969;}#sk-container-id-4 label.sk-toggleable__label-arrow:hover:before {color: black;}#sk-container-id-4 div.sk-estimator:hover label.sk-toggleable__label-arrow:before {color: black;}#sk-container-id-4 div.sk-toggleable__content {max-height: 0;max-width: 0;overflow: hidden;text-align: left;background-color: #f0f8ff;}#sk-container-id-4 div.sk-toggleable__content pre {margin: 0.2em;color: black;border-radius: 0.25em;background-color: #f0f8ff;}#sk-container-id-4 input.sk-toggleable__control:checked~div.sk-toggleable__content {max-height: 200px;max-width: 100%;overflow: auto;}#sk-container-id-4 input.sk-toggleable__control:checked~label.sk-toggleable__label-arrow:before {content: \"▾\";}#sk-container-id-4 div.sk-estimator input.sk-toggleable__control:checked~label.sk-toggleable__label {background-color: #d4ebff;}#sk-container-id-4 div.sk-label input.sk-toggleable__control:checked~label.sk-toggleable__label {background-color: #d4ebff;}#sk-container-id-4 input.sk-hidden--visually {border: 0;clip: rect(1px 1px 1px 1px);clip: rect(1px, 1px, 1px, 1px);height: 1px;margin: -1px;overflow: hidden;padding: 0;position: absolute;width: 1px;}#sk-container-id-4 div.sk-estimator {font-family: monospace;background-color: #f0f8ff;border: 1px dotted black;border-radius: 0.25em;box-sizing: border-box;margin-bottom: 0.5em;}#sk-container-id-4 div.sk-estimator:hover {background-color: #d4ebff;}#sk-container-id-4 div.sk-parallel-item::after {content: \"\";width: 100%;border-bottom: 1px solid gray;flex-grow: 1;}#sk-container-id-4 div.sk-label:hover label.sk-toggleable__label {background-color: #d4ebff;}#sk-container-id-4 div.sk-serial::before {content: \"\";position: absolute;border-left: 1px solid gray;box-sizing: border-box;top: 0;bottom: 0;left: 50%;z-index: 0;}#sk-container-id-4 div.sk-serial {display: flex;flex-direction: column;align-items: center;background-color: white;padding-right: 0.2em;padding-left: 0.2em;position: relative;}#sk-container-id-4 div.sk-item {position: relative;z-index: 1;}#sk-container-id-4 div.sk-parallel {display: flex;align-items: stretch;justify-content: center;background-color: white;position: relative;}#sk-container-id-4 div.sk-item::before, #sk-container-id-4 div.sk-parallel-item::before {content: \"\";position: absolute;border-left: 1px solid gray;box-sizing: border-box;top: 0;bottom: 0;left: 50%;z-index: -1;}#sk-container-id-4 div.sk-parallel-item {display: flex;flex-direction: column;z-index: 1;position: relative;background-color: white;}#sk-container-id-4 div.sk-parallel-item:first-child::after {align-self: flex-end;width: 50%;}#sk-container-id-4 div.sk-parallel-item:last-child::after {align-self: flex-start;width: 50%;}#sk-container-id-4 div.sk-parallel-item:only-child::after {width: 0;}#sk-container-id-4 div.sk-dashed-wrapped {border: 1px dashed gray;margin: 0 0.4em 0.5em 0.4em;box-sizing: border-box;padding-bottom: 0.4em;background-color: white;}#sk-container-id-4 div.sk-label label {font-family: monospace;font-weight: bold;display: inline-block;line-height: 1.2em;}#sk-container-id-4 div.sk-label-container {text-align: center;}#sk-container-id-4 div.sk-container {/* jupyter's `normalize.less` sets `[hidden] { display: none; }` but bootstrap.min.css set `[hidden] { display: none !important; }` so we also need the `!important` here to be able to override the default hidden behavior on the sphinx rendered scikit-learn.org. See: https://github.com/scikit-learn/scikit-learn/issues/21755 */display: inline-block !important;position: relative;}#sk-container-id-4 div.sk-text-repr-fallback {display: none;}</style><div id=\"sk-container-id-4\" class=\"sk-top-container\"><div class=\"sk-text-repr-fallback\"><pre>SVC(kernel=&#x27;linear&#x27;, random_state=1)</pre><b>In a Jupyter environment, please rerun this cell to show the HTML representation or trust the notebook. <br />On GitHub, the HTML representation is unable to render, please try loading this page with nbviewer.org.</b></div><div class=\"sk-container\" hidden><div class=\"sk-item\"><div class=\"sk-estimator sk-toggleable\"><input class=\"sk-toggleable__control sk-hidden--visually\" id=\"sk-estimator-id-4\" type=\"checkbox\" checked><label for=\"sk-estimator-id-4\" class=\"sk-toggleable__label sk-toggleable__label-arrow\">SVC</label><div class=\"sk-toggleable__content\"><pre>SVC(kernel=&#x27;linear&#x27;, random_state=1)</pre></div></div></div></div></div>"
            ]
          },
          "metadata": {},
          "execution_count": 26
        }
      ]
    },
    {
      "cell_type": "code",
      "source": [
        "y_pred_svm_duelo2 = svm_duelo2.predict(X_train_balanced_scaled)"
      ],
      "metadata": {
        "id": "X_0qwUfPk3XN"
      },
      "execution_count": null,
      "outputs": []
    },
    {
      "cell_type": "code",
      "source": [
        "relatorio = classification_report(Y_train_balanced, y_pred_svm_duelo2)\n",
        "print(\"Relatório de Classificação:\")\n",
        "print(relatorio)"
      ],
      "metadata": {
        "colab": {
          "base_uri": "https://localhost:8080/"
        },
        "id": "hCfNm-F-k8ib",
        "outputId": "146dd3f9-fc13-429e-eceb-319e161dc15d"
      },
      "execution_count": null,
      "outputs": [
        {
          "output_type": "stream",
          "name": "stdout",
          "text": [
            "Relatório de Classificação:\n",
            "              precision    recall  f1-score   support\n",
            "\n",
            "           0       0.78      0.74      0.76       549\n",
            "           1       0.75      0.80      0.77       549\n",
            "\n",
            "    accuracy                           0.77      1098\n",
            "   macro avg       0.77      0.77      0.77      1098\n",
            "weighted avg       0.77      0.77      0.77      1098\n",
            "\n"
          ]
        }
      ]
    },
    {
      "cell_type": "markdown",
      "source": [
        "![image.png](data:image/png;base64,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)"
      ],
      "metadata": {
        "id": "E936_ZX9mfyF"
      }
    },
    {
      "cell_type": "markdown",
      "source": [
        "# Duelo 3:\n",
        "Melhorando nossos hyperparametros."
      ],
      "metadata": {
        "id": "c4DcVp6ZmoUU"
      }
    },
    {
      "cell_type": "markdown",
      "source": [
        "**Xgboost:**"
      ],
      "metadata": {
        "id": "AdNqQD-40z9S"
      }
    },
    {
      "cell_type": "markdown",
      "source": [
        "Aplicando o Grid Search!"
      ],
      "metadata": {
        "id": "ID6FJ0bT02Y5"
      }
    },
    {
      "cell_type": "code",
      "source": [
        "param_grid_xgboost = {\n",
        "    'max_depth': [3, 5, 7],              # Profundidade máxima da árvore\n",
        "    'n_estimators': [50, 100, 200],      # Número de árvores\n",
        "    'learning_rate': [0.01, 0.1, 0.2],   # Taxa de aprendizado\n",
        "    'subsample': [0.8, 1.0],             # Proporção de amostras usadas para treinar cada árvore\n",
        "    'colsample_bytree': [0.8, 1.0]       # Proporção de características para cada árvore\n",
        "}"
      ],
      "metadata": {
        "id": "8ulZRlsPmgz3"
      },
      "execution_count": null,
      "outputs": []
    },
    {
      "cell_type": "markdown",
      "source": [
        "O learning_rate (taxa de aprendizado) é um hiperparâmetro do XGBoost que controla o impacto de cada árvore individual no modelo final. Ele ajusta a contribuição de cada árvore para o conjunto geral de árvores, essencialmente \"freando\" ou \"acelerando\" o aprendizado do modelo.\n",
        "\n",
        "**Valores Baixos (ex: 0.01):** Fazem com que o modelo aprenda de maneira mais lenta e cuidadosa. Isso ajuda a reduzir o risco de overfitting\n",
        "\n",
        "**Valores Altos (ex: 0.2):** Permitem que o modelo aprenda mais rapidamente, mas correm o risco de ajustar-se demais aos dados de treino muito rapidamente."
      ],
      "metadata": {
        "id": "eL0XKPFX1hsx"
      }
    },
    {
      "cell_type": "markdown",
      "source": [
        "O colsample_bytree é um hiperparâmetro no XGBoost que especifica a proporção de features (características) a serem amostradas aleatoriamente para cada árvore durante o treinamento. Esse hiperparâmetro controla a diversidade das árvores no conjunto, ajudando a reduzir a correlação entre as árvores e, consequentemente, o risco de overfitting."
      ],
      "metadata": {
        "id": "G2p8n_kj119Q"
      }
    },
    {
      "cell_type": "markdown",
      "source": [
        "0,8 Indica que apenas 80% das características são selecionadas aleatoriamente para treinar cada árvore."
      ],
      "metadata": {
        "id": "rVMAnnOk14nc"
      }
    },
    {
      "cell_type": "code",
      "source": [
        "xgboost_duelo3 = xgb.XGBClassifier()"
      ],
      "metadata": {
        "id": "6PLyO4G524wx"
      },
      "execution_count": null,
      "outputs": []
    },
    {
      "cell_type": "code",
      "source": [
        "grid_search_xgboost = GridSearchCV(\n",
        "    estimator=xgboost_duelo3,   # Modelo a ser usado\n",
        "    param_grid=param_grid_xgboost,      # Conjunto de parâmetros\n",
        "    scoring='accuracy',         # Métrica de avaliação\n",
        "    cv=5,                       # Número de folds para cross-validation\n",
        "    n_jobs=-1                   # Usa todos os processadores disponíveis\n",
        "\n",
        ")"
      ],
      "metadata": {
        "id": "FPZqWPvK088E"
      },
      "execution_count": null,
      "outputs": []
    },
    {
      "cell_type": "code",
      "source": [
        "grid_search_xgboost.fit(X_train_balanced_scaled, Y_train_balanced)\n",
        "\n",
        "# Melhor modelo e parâmetros\n",
        "print(\"Melhores Parâmetros:\", grid_search_xgboost.best_params_)\n",
        "print(\"Melhor Acurácia:\", grid_search_xgboost.best_score_)"
      ],
      "metadata": {
        "colab": {
          "base_uri": "https://localhost:8080/"
        },
        "id": "YfG0tF_21Knb",
        "outputId": "35306d71-4972-46ae-c091-b0f84b0a270f"
      },
      "execution_count": null,
      "outputs": [
        {
          "output_type": "stream",
          "name": "stdout",
          "text": [
            "Melhores Parâmetros: {'colsample_bytree': 1.0, 'learning_rate': 0.1, 'max_depth': 5, 'n_estimators': 200, 'subsample': 1.0}\n",
            "Melhor Acurácia: 0.8206392694063925\n"
          ]
        }
      ]
    },
    {
      "cell_type": "code",
      "source": [
        "best_model_xgboost = grid_search_xgboost.best_estimator_\n",
        "y_pred_duelo3_xgboost = best_model_xgboost.predict(X_train_balanced_scaled)"
      ],
      "metadata": {
        "id": "R158cxPn1H9E"
      },
      "execution_count": null,
      "outputs": []
    },
    {
      "cell_type": "code",
      "source": [
        "relatorio = classification_report(Y_train_balanced, y_pred_duelo3_xgboost)\n",
        "print(\"Relatório de Classificação:\")\n",
        "print(relatorio)"
      ],
      "metadata": {
        "colab": {
          "base_uri": "https://localhost:8080/"
        },
        "id": "V6967l3x2CDj",
        "outputId": "861c0d82-6d95-4859-e786-3b43f4a0b690"
      },
      "execution_count": null,
      "outputs": [
        {
          "output_type": "stream",
          "name": "stdout",
          "text": [
            "Relatório de Classificação:\n",
            "              precision    recall  f1-score   support\n",
            "\n",
            "           0       0.86      0.89      0.87       549\n",
            "           1       0.88      0.85      0.87       549\n",
            "\n",
            "    accuracy                           0.87      1098\n",
            "   macro avg       0.87      0.87      0.87      1098\n",
            "weighted avg       0.87      0.87      0.87      1098\n",
            "\n"
          ]
        }
      ]
    },
    {
      "cell_type": "markdown",
      "source": [
        "![image.png](data:image/png;base64,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)"
      ],
      "metadata": {
        "id": "bCXfciLu3R31"
      }
    },
    {
      "cell_type": "markdown",
      "source": [
        "**SVM:**"
      ],
      "metadata": {
        "id": "GOiaU9BF2Ly6"
      }
    },
    {
      "cell_type": "code",
      "source": [
        "svm_duelo3 = SVC(kernel='linear', random_state=1)"
      ],
      "metadata": {
        "id": "GYHVfewv3Z-j"
      },
      "execution_count": null,
      "outputs": []
    },
    {
      "cell_type": "code",
      "source": [
        "param_grid_SVM = {\n",
        "    'C': [0.1, 1, 10, 100],  # Diferentes valores de penalidade\n",
        "    'kernel': ['linear', 'rbf'],  # Testando kernel linear e RBF\n",
        "}"
      ],
      "metadata": {
        "id": "fsO0TrzE3bUo"
      },
      "execution_count": null,
      "outputs": []
    },
    {
      "cell_type": "code",
      "source": [
        "grid_search_svm = GridSearchCV(estimator=svm_duelo3,\n",
        "                           param_grid=param_grid_SVM,\n",
        "                           scoring='accuracy',  # Métrica de avaliação\n",
        "                           cv=5,  # Número de folds para cross-validation\n",
        "                           verbose=2,  # Para acompanhar o progresso\n",
        "                           n_jobs=-1)  # Para usar todos os processadores disponíveis"
      ],
      "metadata": {
        "id": "Tg8hMymb3gQG"
      },
      "execution_count": null,
      "outputs": []
    },
    {
      "cell_type": "code",
      "source": [
        "grid_search_svm.fit(X_train_balanced_scaled, Y_train_balanced)"
      ],
      "metadata": {
        "colab": {
          "base_uri": "https://localhost:8080/",
          "height": 135
        },
        "id": "-80q8E2c3mRo",
        "outputId": "eb9a2068-b5ea-49e4-9857-bbd182c8f4ee"
      },
      "execution_count": null,
      "outputs": [
        {
          "output_type": "stream",
          "name": "stdout",
          "text": [
            "Fitting 5 folds for each of 8 candidates, totalling 40 fits\n"
          ]
        },
        {
          "output_type": "execute_result",
          "data": {
            "text/plain": [
              "GridSearchCV(cv=5, estimator=SVC(kernel='linear', random_state=1), n_jobs=-1,\n",
              "             param_grid={'C': [0.1, 1, 10, 100], 'kernel': ['linear', 'rbf']},\n",
              "             scoring='accuracy', verbose=2)"
            ],
            "text/html": [
              "<style>#sk-container-id-5 {color: black;}#sk-container-id-5 pre{padding: 0;}#sk-container-id-5 div.sk-toggleable {background-color: white;}#sk-container-id-5 label.sk-toggleable__label {cursor: pointer;display: block;width: 100%;margin-bottom: 0;padding: 0.3em;box-sizing: border-box;text-align: center;}#sk-container-id-5 label.sk-toggleable__label-arrow:before {content: \"▸\";float: left;margin-right: 0.25em;color: #696969;}#sk-container-id-5 label.sk-toggleable__label-arrow:hover:before {color: black;}#sk-container-id-5 div.sk-estimator:hover label.sk-toggleable__label-arrow:before {color: black;}#sk-container-id-5 div.sk-toggleable__content {max-height: 0;max-width: 0;overflow: hidden;text-align: left;background-color: #f0f8ff;}#sk-container-id-5 div.sk-toggleable__content pre {margin: 0.2em;color: black;border-radius: 0.25em;background-color: #f0f8ff;}#sk-container-id-5 input.sk-toggleable__control:checked~div.sk-toggleable__content {max-height: 200px;max-width: 100%;overflow: auto;}#sk-container-id-5 input.sk-toggleable__control:checked~label.sk-toggleable__label-arrow:before {content: \"▾\";}#sk-container-id-5 div.sk-estimator input.sk-toggleable__control:checked~label.sk-toggleable__label {background-color: #d4ebff;}#sk-container-id-5 div.sk-label input.sk-toggleable__control:checked~label.sk-toggleable__label {background-color: #d4ebff;}#sk-container-id-5 input.sk-hidden--visually {border: 0;clip: rect(1px 1px 1px 1px);clip: rect(1px, 1px, 1px, 1px);height: 1px;margin: -1px;overflow: hidden;padding: 0;position: absolute;width: 1px;}#sk-container-id-5 div.sk-estimator {font-family: monospace;background-color: #f0f8ff;border: 1px dotted black;border-radius: 0.25em;box-sizing: border-box;margin-bottom: 0.5em;}#sk-container-id-5 div.sk-estimator:hover {background-color: #d4ebff;}#sk-container-id-5 div.sk-parallel-item::after {content: \"\";width: 100%;border-bottom: 1px solid gray;flex-grow: 1;}#sk-container-id-5 div.sk-label:hover label.sk-toggleable__label {background-color: #d4ebff;}#sk-container-id-5 div.sk-serial::before {content: \"\";position: absolute;border-left: 1px solid gray;box-sizing: border-box;top: 0;bottom: 0;left: 50%;z-index: 0;}#sk-container-id-5 div.sk-serial {display: flex;flex-direction: column;align-items: center;background-color: white;padding-right: 0.2em;padding-left: 0.2em;position: relative;}#sk-container-id-5 div.sk-item {position: relative;z-index: 1;}#sk-container-id-5 div.sk-parallel {display: flex;align-items: stretch;justify-content: center;background-color: white;position: relative;}#sk-container-id-5 div.sk-item::before, #sk-container-id-5 div.sk-parallel-item::before {content: \"\";position: absolute;border-left: 1px solid gray;box-sizing: border-box;top: 0;bottom: 0;left: 50%;z-index: -1;}#sk-container-id-5 div.sk-parallel-item {display: flex;flex-direction: column;z-index: 1;position: relative;background-color: white;}#sk-container-id-5 div.sk-parallel-item:first-child::after {align-self: flex-end;width: 50%;}#sk-container-id-5 div.sk-parallel-item:last-child::after {align-self: flex-start;width: 50%;}#sk-container-id-5 div.sk-parallel-item:only-child::after {width: 0;}#sk-container-id-5 div.sk-dashed-wrapped {border: 1px dashed gray;margin: 0 0.4em 0.5em 0.4em;box-sizing: border-box;padding-bottom: 0.4em;background-color: white;}#sk-container-id-5 div.sk-label label {font-family: monospace;font-weight: bold;display: inline-block;line-height: 1.2em;}#sk-container-id-5 div.sk-label-container {text-align: center;}#sk-container-id-5 div.sk-container {/* jupyter's `normalize.less` sets `[hidden] { display: none; }` but bootstrap.min.css set `[hidden] { display: none !important; }` so we also need the `!important` here to be able to override the default hidden behavior on the sphinx rendered scikit-learn.org. See: https://github.com/scikit-learn/scikit-learn/issues/21755 */display: inline-block !important;position: relative;}#sk-container-id-5 div.sk-text-repr-fallback {display: none;}</style><div id=\"sk-container-id-5\" class=\"sk-top-container\"><div class=\"sk-text-repr-fallback\"><pre>GridSearchCV(cv=5, estimator=SVC(kernel=&#x27;linear&#x27;, random_state=1), n_jobs=-1,\n",
              "             param_grid={&#x27;C&#x27;: [0.1, 1, 10, 100], &#x27;kernel&#x27;: [&#x27;linear&#x27;, &#x27;rbf&#x27;]},\n",
              "             scoring=&#x27;accuracy&#x27;, verbose=2)</pre><b>In a Jupyter environment, please rerun this cell to show the HTML representation or trust the notebook. <br />On GitHub, the HTML representation is unable to render, please try loading this page with nbviewer.org.</b></div><div class=\"sk-container\" hidden><div class=\"sk-item sk-dashed-wrapped\"><div class=\"sk-label-container\"><div class=\"sk-label sk-toggleable\"><input class=\"sk-toggleable__control sk-hidden--visually\" id=\"sk-estimator-id-5\" type=\"checkbox\" ><label for=\"sk-estimator-id-5\" class=\"sk-toggleable__label sk-toggleable__label-arrow\">GridSearchCV</label><div class=\"sk-toggleable__content\"><pre>GridSearchCV(cv=5, estimator=SVC(kernel=&#x27;linear&#x27;, random_state=1), n_jobs=-1,\n",
              "             param_grid={&#x27;C&#x27;: [0.1, 1, 10, 100], &#x27;kernel&#x27;: [&#x27;linear&#x27;, &#x27;rbf&#x27;]},\n",
              "             scoring=&#x27;accuracy&#x27;, verbose=2)</pre></div></div></div><div class=\"sk-parallel\"><div class=\"sk-parallel-item\"><div class=\"sk-item\"><div class=\"sk-label-container\"><div class=\"sk-label sk-toggleable\"><input class=\"sk-toggleable__control sk-hidden--visually\" id=\"sk-estimator-id-6\" type=\"checkbox\" ><label for=\"sk-estimator-id-6\" class=\"sk-toggleable__label sk-toggleable__label-arrow\">estimator: SVC</label><div class=\"sk-toggleable__content\"><pre>SVC(kernel=&#x27;linear&#x27;, random_state=1)</pre></div></div></div><div class=\"sk-serial\"><div class=\"sk-item\"><div class=\"sk-estimator sk-toggleable\"><input class=\"sk-toggleable__control sk-hidden--visually\" id=\"sk-estimator-id-7\" type=\"checkbox\" ><label for=\"sk-estimator-id-7\" class=\"sk-toggleable__label sk-toggleable__label-arrow\">SVC</label><div class=\"sk-toggleable__content\"><pre>SVC(kernel=&#x27;linear&#x27;, random_state=1)</pre></div></div></div></div></div></div></div></div></div></div>"
            ]
          },
          "metadata": {},
          "execution_count": 38
        }
      ]
    },
    {
      "cell_type": "code",
      "source": [
        "best_params = grid_search_svm.best_params_\n",
        "best_svm_model = grid_search_svm.best_estimator_"
      ],
      "metadata": {
        "id": "qkj7z71O3nm4"
      },
      "execution_count": null,
      "outputs": []
    },
    {
      "cell_type": "code",
      "source": [
        "y_pred_svm_duelo3 = best_svm_model.predict(X_train_balanced_scaled)"
      ],
      "metadata": {
        "id": "6aexmtBT36cd"
      },
      "execution_count": null,
      "outputs": []
    },
    {
      "cell_type": "code",
      "source": [
        "print(\"Melhores hiperparâmetros encontrados:\", best_params)"
      ],
      "metadata": {
        "colab": {
          "base_uri": "https://localhost:8080/"
        },
        "id": "2Mox2CAy4B5h",
        "outputId": "89914a59-143e-42af-ddbf-4bd98b65299d"
      },
      "execution_count": null,
      "outputs": [
        {
          "output_type": "stream",
          "name": "stdout",
          "text": [
            "Melhores hiperparâmetros encontrados: {'C': 100, 'kernel': 'rbf'}\n"
          ]
        }
      ]
    },
    {
      "cell_type": "code",
      "source": [
        "relatorio = classification_report(Y_train_balanced, y_pred_svm_duelo3)\n",
        "print(\"Relatório de Classificação com o Melhor Modelo:\")\n",
        "print(relatorio)"
      ],
      "metadata": {
        "colab": {
          "base_uri": "https://localhost:8080/"
        },
        "id": "XG8YxeaK3_GA",
        "outputId": "eb5efedb-4135-4c0b-a11b-7d10f4c77722"
      },
      "execution_count": null,
      "outputs": [
        {
          "output_type": "stream",
          "name": "stdout",
          "text": [
            "Relatório de Classificação com o Melhor Modelo:\n",
            "              precision    recall  f1-score   support\n",
            "\n",
            "           0       0.79      0.81      0.80       549\n",
            "           1       0.80      0.79      0.80       549\n",
            "\n",
            "    accuracy                           0.80      1098\n",
            "   macro avg       0.80      0.80      0.80      1098\n",
            "weighted avg       0.80      0.80      0.80      1098\n",
            "\n"
          ]
        }
      ]
    },
    {
      "cell_type": "markdown",
      "source": [
        "![image.png](data:image/png;base64,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)"
      ],
      "metadata": {
        "id": "ss4GQve84JzU"
      }
    },
    {
      "cell_type": "markdown",
      "source": [
        "**SALVANDO MELHORES RESULTADOS:**"
      ],
      "metadata": {
        "id": "uk4QJFy44ckd"
      }
    },
    {
      "cell_type": "markdown",
      "source": [
        "xgboost - modelo duelo 2"
      ],
      "metadata": {
        "id": "gt2YqO5w4ow1"
      }
    },
    {
      "cell_type": "code",
      "source": [
        "Y_xgboost = xgboost_duelo2.predict(X_test_scaled)"
      ],
      "metadata": {
        "id": "fnNVoHHp4gYy"
      },
      "execution_count": null,
      "outputs": []
    },
    {
      "cell_type": "code",
      "source": [
        "Y_xgboost"
      ],
      "metadata": {
        "colab": {
          "base_uri": "https://localhost:8080/"
        },
        "id": "Cx-u67Lk5NHK",
        "outputId": "315179a3-ca4c-4bbb-be12-88ff91748707"
      },
      "execution_count": null,
      "outputs": [
        {
          "output_type": "execute_result",
          "data": {
            "text/plain": [
              "array([0, 1, 0, 0, 1, 0, 0, 0, 1, 0, 0, 0, 1, 0, 1, 1, 0, 0, 1, 1, 0, 0,\n",
              "       1, 0, 1, 0, 1, 0, 1, 0, 0, 1, 1, 0, 1, 0, 0, 0, 0, 1, 0, 1, 0, 1,\n",
              "       1, 0, 0, 0, 1, 1, 0, 0, 1, 1, 1, 0, 0, 0, 0, 1, 0, 0, 0, 1, 1, 1,\n",
              "       1, 0, 0, 1, 1, 0, 1, 0, 1, 0, 0, 1, 0, 1, 1, 0, 0, 0, 0, 0, 1, 0,\n",
              "       1, 0, 1, 0, 1, 0, 0, 0, 1, 0, 1, 0, 1, 0, 0, 0, 0, 0, 0, 0, 0, 1,\n",
              "       0, 1, 1, 1, 1, 0, 0, 1, 1, 1, 1, 0, 1, 0, 0, 1, 0, 1, 0, 0, 0, 0,\n",
              "       0, 0, 0, 0, 0, 0, 0, 0, 0, 1, 1, 0, 1, 0, 0, 0, 1, 0, 1, 0, 0, 1,\n",
              "       1, 0, 1, 1, 1, 1, 1, 1, 1, 0, 0, 1, 0, 0, 1, 0, 0, 0, 0, 0, 1, 1,\n",
              "       1, 1, 1, 1, 0, 1, 1, 0, 1, 1, 1, 0, 0, 0, 0, 0, 0, 0, 1, 0, 1, 1,\n",
              "       0, 0, 1, 0, 0, 1, 0, 0, 1, 0, 1, 0, 0, 0, 0, 1, 1, 0, 1, 0, 1, 0,\n",
              "       1, 0, 1, 0, 1, 1, 0, 1, 0, 0, 0, 1, 0, 0, 1, 0, 1, 0, 1, 1, 1, 1,\n",
              "       1, 0, 0, 0, 1, 1, 1, 0, 1, 0, 1, 0, 0, 0, 0, 0, 1, 0, 0, 0, 1, 1,\n",
              "       0, 0, 0, 0, 0, 0, 1, 0, 1, 1, 0, 1, 0, 0, 0, 0, 0, 0, 1, 1, 1, 0,\n",
              "       0, 1, 0, 0, 0, 1, 0, 1, 0, 0, 1, 0, 0, 0, 0, 1, 0, 0, 1, 1, 1, 0,\n",
              "       1, 1, 0, 0, 0, 1, 1, 1, 1, 0, 0, 1, 0, 0, 1, 1, 1, 0, 1, 0, 0, 0,\n",
              "       1, 0, 0, 1, 0, 0, 0, 0, 1, 0, 0, 0, 0, 1, 0, 1, 0, 1, 0, 1, 1, 0,\n",
              "       0, 0, 1, 0, 1, 0, 0, 1, 0, 1, 1, 0, 1, 0, 0, 0, 1, 0, 0, 1, 0, 0,\n",
              "       1, 1, 0, 0, 0, 1, 0, 0, 0, 1, 0, 1, 0, 0, 0, 0, 1, 1, 0, 0, 0, 1,\n",
              "       0, 1, 0, 0, 1, 0, 1, 0, 0, 1, 0, 0, 1, 1, 1, 1, 1, 0, 1, 0, 0, 0])"
            ]
          },
          "metadata": {},
          "execution_count": 44
        }
      ]
    },
    {
      "cell_type": "code",
      "source": [
        "sub_xgboost = pd.Series(Y_xgboost, index=test_df['PassengerId'], name = 'Survived')"
      ],
      "metadata": {
        "id": "QeECFjut5Pht"
      },
      "execution_count": null,
      "outputs": []
    },
    {
      "cell_type": "code",
      "source": [
        "sub_xgboost"
      ],
      "metadata": {
        "colab": {
          "base_uri": "https://localhost:8080/",
          "height": 489
        },
        "id": "v90zAV4Y5SOE",
        "outputId": "638297d8-7e62-4a4a-97e4-ee0026572196"
      },
      "execution_count": null,
      "outputs": [
        {
          "output_type": "execute_result",
          "data": {
            "text/plain": [
              "PassengerId\n",
              "892     0\n",
              "893     1\n",
              "894     0\n",
              "895     0\n",
              "896     1\n",
              "       ..\n",
              "1305    0\n",
              "1306    1\n",
              "1307    0\n",
              "1308    0\n",
              "1309    0\n",
              "Name: Survived, Length: 418, dtype: int64"
            ],
            "text/html": [
              "<div>\n",
              "<style scoped>\n",
              "    .dataframe tbody tr th:only-of-type {\n",
              "        vertical-align: middle;\n",
              "    }\n",
              "\n",
              "    .dataframe tbody tr th {\n",
              "        vertical-align: top;\n",
              "    }\n",
              "\n",
              "    .dataframe thead th {\n",
              "        text-align: right;\n",
              "    }\n",
              "</style>\n",
              "<table border=\"1\" class=\"dataframe\">\n",
              "  <thead>\n",
              "    <tr style=\"text-align: right;\">\n",
              "      <th></th>\n",
              "      <th>Survived</th>\n",
              "    </tr>\n",
              "    <tr>\n",
              "      <th>PassengerId</th>\n",
              "      <th></th>\n",
              "    </tr>\n",
              "  </thead>\n",
              "  <tbody>\n",
              "    <tr>\n",
              "      <th>892</th>\n",
              "      <td>0</td>\n",
              "    </tr>\n",
              "    <tr>\n",
              "      <th>893</th>\n",
              "      <td>1</td>\n",
              "    </tr>\n",
              "    <tr>\n",
              "      <th>894</th>\n",
              "      <td>0</td>\n",
              "    </tr>\n",
              "    <tr>\n",
              "      <th>895</th>\n",
              "      <td>0</td>\n",
              "    </tr>\n",
              "    <tr>\n",
              "      <th>896</th>\n",
              "      <td>1</td>\n",
              "    </tr>\n",
              "    <tr>\n",
              "      <th>...</th>\n",
              "      <td>...</td>\n",
              "    </tr>\n",
              "    <tr>\n",
              "      <th>1305</th>\n",
              "      <td>0</td>\n",
              "    </tr>\n",
              "    <tr>\n",
              "      <th>1306</th>\n",
              "      <td>1</td>\n",
              "    </tr>\n",
              "    <tr>\n",
              "      <th>1307</th>\n",
              "      <td>0</td>\n",
              "    </tr>\n",
              "    <tr>\n",
              "      <th>1308</th>\n",
              "      <td>0</td>\n",
              "    </tr>\n",
              "    <tr>\n",
              "      <th>1309</th>\n",
              "      <td>0</td>\n",
              "    </tr>\n",
              "  </tbody>\n",
              "</table>\n",
              "<p>418 rows × 1 columns</p>\n",
              "</div><br><label><b>dtype:</b> int64</label>"
            ]
          },
          "metadata": {},
          "execution_count": 46
        }
      ]
    },
    {
      "cell_type": "code",
      "source": [
        "sub_xgboost.to_csv(\"xgboost.csv\" , header=True)"
      ],
      "metadata": {
        "id": "JFTVM0CZ5Uqn"
      },
      "execution_count": null,
      "outputs": []
    },
    {
      "cell_type": "markdown",
      "source": [
        "SVVM - Modelo duelo 3"
      ],
      "metadata": {
        "id": "px9o50i-5EaF"
      }
    },
    {
      "cell_type": "code",
      "source": [
        "Y_svm = best_svm_model.predict(X_test_scaled)"
      ],
      "metadata": {
        "id": "qogJIoQ84SUD"
      },
      "execution_count": null,
      "outputs": []
    },
    {
      "cell_type": "code",
      "source": [
        "Y_svm"
      ],
      "metadata": {
        "colab": {
          "base_uri": "https://localhost:8080/"
        },
        "id": "a2tdiwbn5Y4V",
        "outputId": "72198d7e-3e58-4004-da61-db9b3ba10bc0"
      },
      "execution_count": null,
      "outputs": [
        {
          "output_type": "execute_result",
          "data": {
            "text/plain": [
              "array([0, 1, 0, 0, 1, 0, 1, 0, 1, 0, 0, 0, 1, 0, 1, 1, 0, 0, 1, 1, 0, 0,\n",
              "       1, 0, 1, 0, 1, 0, 1, 0, 0, 0, 1, 0, 1, 0, 1, 1, 0, 0, 0, 1, 0, 1,\n",
              "       1, 0, 1, 0, 1, 1, 1, 0, 1, 1, 0, 0, 0, 0, 0, 1, 0, 0, 0, 1, 0, 1,\n",
              "       1, 0, 1, 1, 1, 0, 1, 1, 1, 0, 0, 1, 0, 1, 0, 0, 0, 0, 0, 0, 1, 1,\n",
              "       1, 0, 1, 0, 1, 0, 0, 0, 1, 0, 1, 0, 1, 0, 0, 0, 1, 0, 0, 0, 0, 0,\n",
              "       0, 1, 1, 1, 1, 0, 0, 1, 1, 1, 1, 0, 1, 0, 0, 1, 0, 0, 0, 0, 0, 1,\n",
              "       0, 0, 0, 0, 0, 0, 1, 0, 0, 1, 0, 0, 0, 0, 1, 0, 0, 0, 1, 0, 0, 1,\n",
              "       0, 0, 1, 1, 1, 1, 1, 0, 1, 0, 0, 0, 1, 0, 1, 1, 0, 0, 0, 0, 0, 1,\n",
              "       1, 1, 1, 1, 0, 1, 1, 0, 1, 0, 1, 0, 0, 0, 0, 0, 0, 0, 0, 0, 1, 1,\n",
              "       0, 1, 1, 0, 0, 1, 0, 0, 1, 0, 1, 0, 0, 0, 0, 1, 1, 1, 1, 1, 1, 0,\n",
              "       1, 0, 1, 0, 1, 1, 0, 1, 0, 0, 0, 1, 0, 0, 1, 0, 1, 0, 1, 1, 1, 1,\n",
              "       1, 0, 0, 1, 1, 0, 1, 1, 1, 0, 1, 0, 0, 0, 0, 0, 1, 0, 0, 0, 1, 1,\n",
              "       0, 0, 0, 0, 1, 0, 1, 0, 1, 1, 0, 1, 0, 0, 0, 0, 1, 0, 1, 1, 1, 0,\n",
              "       0, 1, 0, 0, 0, 1, 0, 1, 0, 0, 1, 0, 0, 0, 0, 0, 0, 0, 1, 1, 1, 0,\n",
              "       1, 1, 0, 0, 0, 1, 1, 1, 1, 0, 0, 0, 0, 0, 0, 0, 1, 0, 1, 0, 0, 0,\n",
              "       1, 1, 0, 1, 0, 1, 0, 0, 0, 0, 0, 0, 0, 1, 0, 1, 0, 1, 0, 1, 1, 0,\n",
              "       0, 0, 1, 1, 1, 0, 0, 1, 0, 1, 1, 0, 1, 0, 0, 0, 1, 0, 0, 1, 0, 0,\n",
              "       1, 1, 1, 0, 1, 0, 0, 0, 1, 1, 0, 1, 0, 0, 0, 0, 1, 1, 0, 0, 0, 1,\n",
              "       0, 1, 0, 0, 1, 0, 1, 0, 1, 0, 0, 0, 1, 1, 1, 1, 1, 0, 1, 0, 0, 0])"
            ]
          },
          "metadata": {},
          "execution_count": 49
        }
      ]
    },
    {
      "cell_type": "code",
      "source": [
        "sub_svm = pd.Series(Y_svm, index=test_df['PassengerId'], name = 'Survived')"
      ],
      "metadata": {
        "id": "4npdtOGJ5ZhX"
      },
      "execution_count": null,
      "outputs": []
    },
    {
      "cell_type": "code",
      "source": [
        "sub_svm"
      ],
      "metadata": {
        "colab": {
          "base_uri": "https://localhost:8080/",
          "height": 489
        },
        "id": "wbcndm-85ga1",
        "outputId": "3e218bf5-9577-4f37-893e-3e43cc19e46e"
      },
      "execution_count": null,
      "outputs": [
        {
          "output_type": "execute_result",
          "data": {
            "text/plain": [
              "PassengerId\n",
              "892     0\n",
              "893     1\n",
              "894     0\n",
              "895     0\n",
              "896     1\n",
              "       ..\n",
              "1305    0\n",
              "1306    1\n",
              "1307    0\n",
              "1308    0\n",
              "1309    0\n",
              "Name: Survived, Length: 418, dtype: int64"
            ],
            "text/html": [
              "<div>\n",
              "<style scoped>\n",
              "    .dataframe tbody tr th:only-of-type {\n",
              "        vertical-align: middle;\n",
              "    }\n",
              "\n",
              "    .dataframe tbody tr th {\n",
              "        vertical-align: top;\n",
              "    }\n",
              "\n",
              "    .dataframe thead th {\n",
              "        text-align: right;\n",
              "    }\n",
              "</style>\n",
              "<table border=\"1\" class=\"dataframe\">\n",
              "  <thead>\n",
              "    <tr style=\"text-align: right;\">\n",
              "      <th></th>\n",
              "      <th>Survived</th>\n",
              "    </tr>\n",
              "    <tr>\n",
              "      <th>PassengerId</th>\n",
              "      <th></th>\n",
              "    </tr>\n",
              "  </thead>\n",
              "  <tbody>\n",
              "    <tr>\n",
              "      <th>892</th>\n",
              "      <td>0</td>\n",
              "    </tr>\n",
              "    <tr>\n",
              "      <th>893</th>\n",
              "      <td>1</td>\n",
              "    </tr>\n",
              "    <tr>\n",
              "      <th>894</th>\n",
              "      <td>0</td>\n",
              "    </tr>\n",
              "    <tr>\n",
              "      <th>895</th>\n",
              "      <td>0</td>\n",
              "    </tr>\n",
              "    <tr>\n",
              "      <th>896</th>\n",
              "      <td>1</td>\n",
              "    </tr>\n",
              "    <tr>\n",
              "      <th>...</th>\n",
              "      <td>...</td>\n",
              "    </tr>\n",
              "    <tr>\n",
              "      <th>1305</th>\n",
              "      <td>0</td>\n",
              "    </tr>\n",
              "    <tr>\n",
              "      <th>1306</th>\n",
              "      <td>1</td>\n",
              "    </tr>\n",
              "    <tr>\n",
              "      <th>1307</th>\n",
              "      <td>0</td>\n",
              "    </tr>\n",
              "    <tr>\n",
              "      <th>1308</th>\n",
              "      <td>0</td>\n",
              "    </tr>\n",
              "    <tr>\n",
              "      <th>1309</th>\n",
              "      <td>0</td>\n",
              "    </tr>\n",
              "  </tbody>\n",
              "</table>\n",
              "<p>418 rows × 1 columns</p>\n",
              "</div><br><label><b>dtype:</b> int64</label>"
            ]
          },
          "metadata": {},
          "execution_count": 51
        }
      ]
    },
    {
      "cell_type": "code",
      "source": [
        "sub_svm.to_csv(\"svm.csv\" , header=True)"
      ],
      "metadata": {
        "id": "a71rUUKa5h3b"
      },
      "execution_count": null,
      "outputs": []
    },
    {
      "cell_type": "markdown",
      "source": [
        "![image.png](data:image/png;base64,iVBORw0KGgoAAAANSUhEUgAABMkAAAE9CAYAAAARazU8AAAAAXNSR0IArs4c6QAAAARnQU1BAACxjwv8YQUAAAAJcEhZcwAAEnQAABJ0Ad5mH3gAAGflSURBVHhe7d17VJRngu/7X585KdY+QfZqW07MkjarxewZyEwLM+NldwRjFJMIaCLYR8BJxM6I5kRiomDSgp1BTBRMe8tEsRMvOQGcFu0omBgvsYUkA+SkwVmdovcE7NHgDlkk9joFvfYusvbivG/VW0VVUVw0YtT6fjolT73353nrn/6t5/K9XoMAAAAAAACAEPa/WX8BAAAAAACAkEVIBgAAAAAAgJBHSAYAAAAAAICQR0gGAAAAAACAkEdIBgAAAAAAgJBHSAYAAAAAAICQR0gGAAAAAACAkEdIBgAAAAAAgJBHSAYAAAAAAICQR0gGAAAAAACAkEdIBgAAAAAAgJBHSAYAAAAAAICQR0gGAAAAAACAkPe9XoNVHjlOhzrbL6it0ylFjFNsdJQiwqx9HsYxDmO3W5gi+h1g8T0uLMJ7HafDIffmvnOd7XY1tXe57hkfG2Xs8eHsVJv9glyPFBWn2KgB7ncVnI5OtbeZ1wxTZPQERUVG+N8zmBvQNgAAAAAAABjcyIZkjmaVF6xXUU2LeqxNbjaNSczVztIcTYu0NtnLND1liy6b5XFrdLwuR7GuHb4cOpn7d8qpcX9L2v6J9qRGGKVmFU1YqH3mxsRNatw/Vedy5invVJe5xcUWs0wHj+QpPsyptqr1WllwRC0+DzVq6jod3L9EsdcQLDnsh7W5YKMqmvvu5zJqkjILi7Q2PVbmU/q5YW0DAAAAAACAoYzccEtns4oWLFRBvxDI1KOvarcoY3ah6j09n2ITlDXOKl+u1Dm7VfblaFC1FQJJs5U6I1gI1KP6kp/5BWSmnpY9WlnSrLbqFZqb7x+QmboaNuqxnBp1Wt+Hy9lUrMdSnu8fkJm6zqsif74e29Bs9XKzfGdtAwAAAAAAgGBGLCSz712lfRfc5XEpW3W65TP98YL5+USV2RPcO7oOas1eT+ITq9Tlk6zyZZUHSYIc9cflyYFsmUs0J1gOVLteueVjlL/vhBqbP9LpfcsUZ3PvurxvlZ4oqVNY0jodqf1E5xtOaL9xT2u3emq3qCpYADWQzhotyzggdzVtisk26tlgXDfgvhf2ZWnNSYf7i+E7axsAAAAAAAAENUIhmUPtLa7BgS5zslMU7R3GGKFpha9pf8kbOnLqI72ztG/gYNScDCVa5csVdfKPghyqrzlulW1KT4kbYL6vccrev1crZkQrMiJS0TPydKB0trXvsvG/NTpYtkTxURGKiIzWjPy92pJk7Tb22tv7wqyh2Ku2qNbqCmbL3KXfFBr1jDSua9334P4njKcx9ehcbbNRA9N32TYAAAAAAAAIZoRCsghFRnn6Z0nl2ytl98ueojUjPVHx0ZH+k8tHJindE1gFDiv0HU44LldZ0waKgWZrTrz/vogoz1hFw5y4gPm8IhQVZRUNjr4Z8ofQpqYaT9g1TqsyE/sFU2HTcnXw1Ef6w4XP9G/Fida8ZN9l2wAAAAAAACCYERtuGZ+SK2vgoHpq1ys57l795ZR5WpRbrL1VtbK3BwujIjQjLdkq+w8r9B1OOC4zIcjE9X0Gj4iuU4DkvCx7i1WW8TzRVtFPhKKiI/vd8btsGwAAAAAAAPQ3chP3x+boN4fXKXFMX6+pnq9a1FBzQBvyf6bkxL/Wj3Mq1RaQB0XMyFCmdUrfsELf4YSTtCL1JoiBHJ1qt4pm8ObX62sot3vbAAAAAAAA3GJGLiQzRMQv0YHGT/WH2qOq3F6k5ZmzFeMTDHWdWq+5eaesubosYXFKTfckQdawQmezznm6SsWlaYbP8MjvTESk+h7DqWGP0rTc1m0DAAAAAABwixnRkMwjLCpW01IztLZ4l95p/FSNuxdZE9pLPTW1avILmMI0LTPX2u8eVuisP6UK13cpKTvZJ5z6DoWNU2yMVVad7G1W0U+b6qsbXIsBDJSh3ZZtAwAAAAAAcIsZmZDM2abqkkItS56nybPLAlZilCLnpGiOVZa65AxMkGITlGUlRZdrzqvaXuf+otlKneGe/v6GcbbrXHmpys+1+ffqUrSmpXlmFrusbSWHfYZfujnP7dcTzyxWcuLf6a9yrV5ht1PbAAAAAAAA3CZGJiQLi5TaDupUS4u+urBFK/MOy97pTnucnW2qLlivfa5vhqTZmtYv24lV6vJJ7mJLmbZVuFeRtGUu0ZwbmgO1qzxjppYU7lFB9sN6otw/BotOX6MUa/RjT+3zeiKvUvVtnXI42tVUvlaP5RxUj2uvTZmZ1uqWt03bAAAAAAAA3D5GaLhlhFILNynRCpAuHH5eyVP/Wj+acK/+aurDyq244N5hS1BpYYo7PAoQNSNNca7SZV125UA2pafEXa+1KYfpK7U1W0VD84WvrJIlIklbKpcpxlvP9cpI+okmxc3UgsIjanElZDbFLC/X+mmeJ79d2gYAAAAAAOD2MXJzkkWl6UDdWypMmaRR1qY+oxSXuUnHG/cqfaBJtKKStTTJKpvG5SrLGzTdKDFKzYuRK8+yxWh5incSMq+w+Dy9Y9QzP3GM+zgftjEJyq/4rd7JDwiwbou2AQAAAAAAuH18r9dglUeQUw6f5R/DIiJuqV5PTodDzrAIRQz10E6HzyqXYYoY8gTTrd02AAAAAAAAt4MbFJIBAAAAAADc/DrtNTp5+LSq6y+4FuCLiJ6i1LQMpc6IDjol0oAczSrffarfIn8Di9Kc5RmKH+gmTruqth9Xm/XVFJWUo6yBTmiv1d6KBnVaXzUuSSuy4gaoQ6eaqo6r6tQRNbkeeJzi02YrfU6K4qMG78rjbG9W9cnDRpudt+o6/HNvNoRkAAAAAAAAjmbtzVmqDQ1d1oYAo2ar+Mg2ZUUPM/jpPKwnpj6vWuvr0BJU2rBX6ZHWVz9ONZXM04Ld1jzmlsSSj3Sg3wkO2cvXalHhafnVJHGTGvenqd/RTfu1bMlGBa+2TTFp27SnNEn9Z4Tq1LkNP9OyfS3WooWBBjv35jRyc5IBAAAAAADcCpzNKlqwcOCAzNR1WgXJC7XXbn2/kez7tSYgIAuqs0GbF/xXJQcGZANwNhXrsbSBAjJTj1oOP6VZS2r6eqS5ONW0YbGWDBiQmaxzc0+5euTdCgjJAAAAAABASLPvXat9PhnUhLRNOt7wic43n9WRDQs0wdqunhZtyC3TsHKyiKlaVfGWKgf8vKFC30X5NNBc6G0qL9iioSOyTlXlLdbuZiu2GhWjmHHuYlDOZm3OPdB3XVuM0ja8oSM1R3Vk3yZlx/UtT9hTu1bb6vvmU1dbpdb4NJi7vX6vP174TH+oPaT8RJ9zazaq/LsIFq8BIRkAAAAAAAhdjhptK+0LfGyJm3SgNE2xkRGKiIhSfNZmHShJsPYaLuxQuW9gNJAw49xpUzVtoE+sU03nrGMN4/KWaU6QCcPaqzaqoNn6MiFBiTFWeRBmaHW68Q0tjbY2BOE4WaZ9l60vmqDsykPakpWo+NhYxc9I0/rKvcr2hmw9qqio9fYIa6s/4hOuLdLGYrO93AlfWFScVpTtUqY3J7us8nO3RkpGSAYAAAAAAEKWo/60Tlllc9L5Vflp/ebQikrN8Ql9elRR06BhxGSDspdvUY13rOJsrc2Ktco+2g9rXX6d9WWClpeuU2rQOcs8YpS2/azOlKZp8KnTOl2LE3jYMou0Nj7ghLCpWn/a7E1nfYoTvZP+O4zKx8TEuD+pif3vFRaj+GlW2XD5q4EHZd5MCMkAAAAAAEDIams4bpVMsxUfJKtSWJzmpFtlU1XD8IZcDsRxSru29/VeG5e3Uqn9epF1qrpgvXfi/3HZRVo14NKXpgjN2XFMW1KHMU2+o1nnfFYUSE+KkyvncrbLXl+j8pJS7a2qlb0zTBERZo8689OXhMUvPaZ3jluf0qR+iwGYz97pswzn1JgxVunmRkgGAAAAAABCVKfafMIcTY0ZYCXGMEXF+Ixz7Lmszm8xG/1wepE5Tm7UmlrrIHNIY/5Ud5A1IDPQsopDab+gJqsoTVF8tNRWvkI/jpmp5MxnVbB7jzbk/0zJiX+tH2fsl/0qu811Vm/RNu9QzklKnXZrrG9JSAYAAAAAAGAKc/0XVESYb28oh2vI4TUZTi8yZ6025x63Vo60KWVHnmYMnpBdHWenvBmWUWN7xQrNHWBFzK6GjUpOHuZiBQanvUzL8uq8q15OWF6g9FsjIyMkAwAAAAAAuFH8epHZkrW+Xy8yp+pL1qvC04kscbPWB5vR/7qp077ddVLcMu0/9ZH+YK1QWZg0ytpvuLBF68rbrS8Dc7ZVatmCLfIssOlaBCHfGsp5CyAkAwAAAAAAuBECVtKc8Ez/FS2d9aVa41l20pagjcUpQeb8us7GPaEDlXmaER3pCrTMFSqXlh1ScZx7t6m5ok6+I1MDOZtK9VjyenlHiMYs08Gy/osg3MwIyQAAAAAAQIiKUKRvilN/QQP1l2pv8awyaZqg6GtIrsxeZN6VNG3J/eciczZrW8EB71DIxOKiERqqGCbvYp2GcZkLNK1fd69ozcicYpUNLW3qtIqBOs8Vam7aHrX4BmRH8hS4YObNjpAMAAAAAACEqMAJ+VvUFjQJapO93iqaEgea4H8Qrl5kfTOBBetFJnuNdvd1NFNt/kz9aMK9Pp+fKM9nVcra/J+4ty85PGCAFVRUjKZZRVN0ZPDELyLCd/tXcgRZrKD95Fotyj4oz2Pb4tboN7dgQGYiJAMAAAAAACErOj5Z46yyOT9X+ckggwrtp7WrxSobYpLirnoI5JC9yG6kyDjN8RlKWXuqQcEW62xva7ZKhnExigoI9dqrVmju8iN9AVlikd6pzFHsLRiQmQjJAAAAAABA6IpN1grfubcK12pXk09k5GhQUe4Wn9UgE7R0TrRVNjllL1+lRcnztGxXQ/AeXcPpReYSpZiYmEE/Y3zGSdrGWNsjr3Zi/yilZs+2yoZTW7Su2n+gqaO+WCt9nnlcZoL6Yj2n2sqXalZ+34qYroCsLEPRt2hAZvper8EqAwAAAAAAhBxz0nlzTq2+kY42jYmJVqScam+54A2CTBPyjurMCp+4qL5QP848KM+ClSm7P9HOgATMvusBJXsCJ1uyyhq3DRCSDaVTVUv6hlwmlnykA+kD9WnzP1aJm9S4P82nB5xdu2bPV4nP8M5RcclKnzZOTvsRVdV+5a2TuYDAjrq9SrVO7qxeoenPnO7bP5R+97450ZMMAAAAAACEtLD4PB3YvUATrO9Sj75qaVFLYECW9poO+ARkJkfnZb+wyOFwWiXLsHuR3WixWrH/NaX1VVpdzce1b/ceVfgFZJOUf2SXNyBzcTqHH5DdQgjJAAAAAABAyIuas1nvnNqq7MQxfis/mmxjEpRf8ZHOlCb1m7A/ck6usj1B06jZSp/hlyapabvvXGSLtH7pdzgXWaCoJG05/ZEqC5IVN8ra5mEbo7jMTTreWKUVt+okY1eJ4ZYAAAAAAAB+nH09wsIiFDFkRuQ+PiwiQrdynOR0OIyamMIUMXSlbzuEZAAAAAAAAAh5DLcEAAAAAABAyCMkAwAAAAAAQMgjJAMAAAAAAEDIIyQDAAAAAABAyLthE/c7O1rVeulP6gm/SxMnjteowPVUb3Y93erqsWlU+K324AAAAAAAABjKiIdkXze+ppeKqtX452+sLaY7FDvzKf38uVTdE25tusl9+svZWl6dot1nV+k+a9vVcHZ3q0eEbAAAAAAAADejER1u+cWx1Vq89oiawydr9ebderv6bb1zYId+kTZel85u1+LHt+nTbuvg21qHzuQ/qrn57+lrawsAAAAAAABuHiMXknVUa8vW8+qJeUZvHSzSo1Mm6gfh4Ro1Plazny7T21tTNP5PNXppv906AQAAAAAAAPhujFhI9lnV62rUJL1QnKq7rW2+wuKeUu5M6dKJ3+oza5uHOUTzhQWPKGHmbCXMma+c/Mr+Pc6uvKeXFmXppROXdPFYsXLmGMfOfETz86v1hbn/0nva8rh1DWP7ylc/9u/F5T2/w3W/1SnuY2elZGvLsVY5rcOG1H1eb+dna77n/o8/r183dlg7DfbXlb1otcpajXLr61pj3DO7wL9HWVdzpV58fL5meev7upp8LnF9XFFdgXXvKx/rraf67rc6sG08ulv1TpGnbrP1yILV2vH+JWunqVsNm4xrPlmpi9YWl56Ptdus5yrrXXh0f6gtxvbVVWZjAAAAAAAA3DxGKCS7pE8/+LM0OUVTR1ub+rFp6vrTqqt5SvdaW6Qeffpqln66tlodE9P0i80va8vT98vW/IaWL1it077BUU+Pvv7yS31W8Qu9+P5YLSw2jv2/J2t083a9uOd1bXnyTXVPX6Udm9dp9f2jZT/8gn5e4RPwWOd/8f425Rac1z3L8o1j85QT26N3ty7X0leH0cOt4z29YDzXK62j9cjT64zzVylr7OcqW5ut1ceshx37gHKfe1yzzHYYfb+ynlul3PRJ8kzF9vWJ1frps2/os9EPaXXhy9rxXKruvnRYuY+v1DvXNSjrUdeVL9XaWqOXntqm1rintMWo78q4cDUbbZMbWF9X3Zbr5Q9smuWqW56yJ3bo6IYcZb963goRwxU75YdqbatRk2921vqxzhht23r+pF/Y52w+q6Nfdis+dqK1BQAAAAAA4OYwQiHZn3TpS2ns+Ls0ytoyLJeqtePwlxqbukm7S57U7CmTNXVevnYe+SfN13m9vOfDfj28Wkcv0o5t1rHpRdrydIzslQf19XM79eKyhxQ/ZaYeLd6pFyZJ9mMf+vd4MjQ3/1lZb5Ypd95M49iH9NOSMu1I/b4uHS7V277BTz89atqzTR+Ep2j3m69ouc/5Wx6yqfHV11Rn9n4bPdHYPkkTXSFZjFGerPi4sQpzXeJD7fvleY1OfUV7tz2luQ8a+x5+Ui++XqSFtha98upZdZnHDapHXd09VnkYvuxWQkm51Tbm87rb5tKxk/rUOsRbN8XoBb+2Kdfefxyr1sPb9K7VNqNi79cUfam65r407GLzh+qY/IDm39miRntfF8DWxg+lO4xrxVobAAAAAAAAbhIjE5JdueQKo8aPH7AbWVAXPzgiuyYpe8kkd4jkEX6/Fi65Sz1nq9UYMOxyyoOT/IK4H4yPNv6NVkKc771H6+7xxp8vv1TgqE3bw09q7ljri0u47st8XFP0uV/w00/Pxzpz9htNWbJI9/mt0Bmu+MxFmvjNR2poHjy8cjae1dFvYpSVGVjfyZqfadT3ww9lHyL/+uzVhZqbOlc5VYMmen2iUzTVbAuv0Yp/MEb6pk0XPdW16jZ23oqAtpHuSX9S8422KT9m9TwbO1mzjNMbP2ixAr0OffrBl4qbskgJU2S0YZtrq4w32/T+N0Z7z7ym1UEBAAAAAABG0siEZKPH6x7jT3Prl+7vw9TdYRx/19/r3iDZ2j0TJxn/fq6vr7i/D85m/R1a3MS7rJKPse7nbxzs+a9ccc23Zd+/Wtnm/Fu+n/yDMiOrL4xjBtN9xbx+q8pXBZxvfF6sMM/9csj62kaHG7W9Q3cbf4fFZhu6day6TY0LMizSFq3YaKnjyp+sXn1jdd90ow0/tgK97hY1ttypqbETFTv979Xz/ofuOecundeZP0uPTIkxvwEAAAAAANxURmi45V2aGC31tF4KPiG8R093/6GC4QOEODZza7e6A7uCfcfGT5ysqeZQT7/PTC1MTVHC+OEEV2N1b7/zjc+DDykr9QHdM8Ql7sks15mz7+rFB6+u195w2FxtHoTrVfTI8+bumZ6iifpQTXZz3rEPdcYaUukaivnnD/XpJenr5o/UqgeUMGXIiA4AAAAAAOCGG6GQbKziH/6h1HJEdQOOAryi0/mPau6i172rW9psd0ptLboUZIjhF60txr/jNTZg+N+3FbS3W/cV4+mkuPFBepl5hIe7hnmGT1+k5c+tCvp5NG7whMsWbtRX4ZqSGfz85c+lBQzlvEGsujW1Bnt5n8t8Fbaxo/uGuY6fpFl3fqMG+yX3vGPTJ8vVB23sJCXcZc5XZmxvNk6afL9iycgAAAAAAMBNaIRCMunuh5/U/Ds+1yurtqkpSO+vL479Qi+fl6YsW+Bd3fLeBx/SWH2oX58InAvMrjMVbVLMHMVf5w5TPSeq1RDwfBePvakzMocMDpLIhU/S9ElSY9XZfosByF6tHRXv6eIQQyVHxc3UdLXo6Pv9w6jPjpXo7ROtw5i4fwRYdWutOqJPAwLLrvcP66ju0PwHzeGvHrGKf/AOtX5wRGfs32iWcbJ7jrXxum/6nWq0H1HDB9Kshydf3UIOAAAAAAAAN8iIhWTmZPsrS1I0sbtGuQuy9OKe99TU+LGa3q/Wjqfma/HWFtkmPaM183yCqNhFyp0sNW5dqZeqzuuL7m593XpWbz25WmV/+r6ylj2kH1iHXi8TJ36pHau2qaG1Q13dl/Rp1Xr9/FefyzYzXwsHXYVxtGYvW6Dxn7+h5U++Zp3foYuNr+uFVdt1qKpF3d5eYKN199g7pNaTerfxvD5t7nDP5zX6IS1N+77sv8rRylfP6mJHt7o6WtW0Z7Vyt57UIfufr2J2tevJqtufjHf3lH/b5G76f6WYp5QVZx1que/Bh2RrqdGhtr/XrCl93d9cwed7xvZvYjQl9rvoFgcAAAAAADC0kQvJDGFxq7TvzZeVM7FbdZWlyl37gnI3bNfRS6P1yLO79ettqbrbOtZttBJKyrUjbbTq/nm1fpr6qB79x43a1zFJq3+1T8vjrn9kNPrhZ/TSw5/rxX9crLmpS7X8nz+W7f48vbX+fv8VJ4OJfUp7f/WMErqrtcZ1/mItXntY9omLtPvNVbrP+7g2xT9doIVjW1W2drWWFxxxTexvuvfpfXrr2cnqPrZRizMe1dyM5cqtalVsxiva/VzAqpc3klW3Wd3vWXWz2ubBdfr1a6n9w8rYyXrE/Btzv/yysNj7lXCH8TdmjqZe56GyAAAAAAAA18v3eg1WeYT1uCfpt4Vr1LCyLut42TQqfAT6U3VUa3XGdunZt/SK2ZvNXETAdbvhPp8/Z3e3eyL7oc437uM0jukffnnqa14i2P7vjqduN9tzAQAAAAAAXC8j2pPMnxl2XU0AZR0/EgFZMGa4dVXP5y/M9azDOD9oQGby1PfmC6I8dSMgAwAAAAAAt6sbGJIBAAAAAAAAN6fQDclsNv3grrv0A+MvAAAAAAAAQtsNnJMMAAAAAAAAuDkx3BIAAAAAAAAhj5AMAAAAAAAAIY+QDAAAAAAAACGPkAwAAAAAAAAhj5AMAAAAAAAAIY+QDAAAAAAAACGPkAwAAAAAAAAhj5AMAAAAAAAAIY+QDAAAAAAAACGPkAwAAAAAAAAhj5AMAAAAAAAAIY+QDAAAAAAAACGPkAwAAAAAAAAhj5AMAAAAAAAAIY+QDAAAAAAAACGPkAwAAAAAAAAhj5AMAAAAAAAAIY+QDAAAAAAAACGPkAwAAAAAAAAhj5AMAAAAAAAAIY+QDAAAAAAAACGPkAwAAAAAAAAhj5AMAAAAAAAAIY+QDAAAAAAAACGPkAwAAAAAAAAhj5AMAAAAAAAAIY+QDAAAAAAAACHve//e+h+9VhkAAAAAAAAISfQkAwAAAAAAQMj7Xq/BKgMAAAAAAAAhiZ5kAAAAAAAACHmEZAAAAAAAAAh5hGQAAAAAAAAIeYRkAAAAAAAACHmEZAAAAAAAAAh5hGQAAAAAAAAIeYRkAAAAAAAACHmEZAAAAAAAAAh5hGQAAAAAAAAIeYRkAAAAAAAACHmEZAAAAAAAAAh5hGQAAAAAAAAIeYRkAAAAAAAACHmEZAAAAAAAAAh5hGQAAAAAAAAIeYRkAAAAAAAACHmEZAAAAAAAAAh5hGQAAAAAAAAIeYRkAAAAAAAACHmEZAAAAAAAAAh5hGQAAAAAAAAIeYRkAAAAAAAACHmEZAAAAAAAAAh5hGQAAAAAAAAIeYRkAAAAAAAACHmEZAAAAAAAAAh5hGQAAAAAAAAIeYRkAAAAAAAACHmEZAAAAAAAAAh5hGQAAAAAAAAIeYRkAAAAAAAACHnf6zVY5Vtb+yltrmh2l+MytHZOlLsMAAAAAAAADOH2CcmaivWjtAPucvYh/bEwzl2+7TjUVt+iTld5jGKnRSvCVQYAAAAAAMC1YrjlLeeCyjMXK8P1qVSbtRUAAAAAAADXjpAMAAAAAAAAIW+EQjKnHA6H9+O0tvpx9u13OIIdYVyj3a76+gbZ232u4Xte0Av7c3a2qcm4RlNbZ/DnCKrv3vX29mHdx8Pp6FRbk3FefbPaOgeoexB95wXU14fTqnffPp92vopn9GO0Z7t98PsG43S0y262zyD19Dyv/zP3N9zjAAAAAAAARsoIzUnWpvIFD6vANY++TYnbf6sDqZGuPW527Zo9XyUXzPI4ZVe8p/XTwlx7TJ31ZVqZs0UNXdYGgy1mgXaWbVZ8/VJNya9zbUss+UgH0q3rBs5J9oy0a0mWSpp73NtMthilFW/VxvRo9d3NV6fqd63Vyu11+srnNNOoqWu0Z0eOpvlWw4fDflibCzaqotnnoU2ue27S+vTYoHOHOZoqta6gWDUtATe0jVHiM9u0ZcVUuW/ZrKIJC7XPVe7Pry2Go7NBu/JWaVvtV/K7c7/7+ms/V6w1uQf83o3LqEnKLNxs1NPTtg5V5/ydck+5vihp+yfakxqkBexlmp6yRZfN8rg1Ol6Xo1jXDgAAAAAAgBtnhHqSRSurtEjuqfN7VJu3Q+d8ugi1la+3AjJpXPZmrfUJyNqrlmp6pn9AZuppOaKcJcU657A2DKpNVbkL/QMyU0+LDufP07KqdmuDr3ZVLXlAGaX9AzJTV8MWZSSka5e9f18nZ1OxHkt5vn9AZnLdc74eyztl3MGf67y09f0DMlPPV6otXaxZBQ3Xv3dV+2E9kbBYJYEBmcm67/Qlh/s9r/luZmUHCchMXedVYbTtE+WeWdIiNCMt2SpLp2pqFezV2c9VugMyw7jMBAIyAAAAAADwnRi5OcmiM7Qxb4K73HNQ60qa3WFP52EVFZ53bZZtkTbmT+3r1eU4pc0Fdd7gxuy9VVn7ic43f6K6w+uU1HlAecXuXmSD2ve88uonafm+E2o0zj1fe0jFadazmKFd/iqV+yVATjWV/Ex5tdadR81W4eGzrvv6ndtzXiU5pWryTa06a7Qs44DcmZ9NMdlbdbrBfOaPdHrfMsXZXDt04fBTWlflXpPSza69uZ7zxill+wn94cJn+qP5aX5L2dYtuyrWaq/dLMVprfk8zW8o07XHtEj7Xds+0U6/nnqDcDZr85Ln5a1q0jod8bZxkbxVrX1eT+xy3djNfDf5nnczSfmHP3E/q/H5w6lNSnTVs0cNhVtUbaVhETMylGnVX6eOBwk47TpX4YnIJmlFKhEZAAAAAAD4bozoxP2xSzdruRW6XN5XrKp2p+q3r1eta4tNmWUFmuEz7rG9ukw1noQsrki/qczRtKgIRUREKCp+ifYc8fROG8o4Ze8v19oZ0Yo0zo2IilNW6RsqTbR267x2VfsHQLt2W13bNEnFR3ZpaXyU6779zr18QLtO9qU99qot3sDJlrlLvylMUXSk+cyRip6Rp4P7nzCexq12+xF57+q4LLsnH9JsLU31GQIaMVXry4x77juk0w3HtNTKjsLM5zE+fU0W5n5G8+PTjoNxnCyTt6pmG5ctUby3jTO0Zf8mearafup83+qZ7RfUZBWVmKH0+L6hk2HRadpZuVU7Ko6qrnmbvKMqw6YqPcuTkp1WdWBKZq9TuacN4tI0I8oqAwAAAAAA3GAju7plWJxWlT4hd052XkV5S7W5wp0o2VK2aa1vQqZONZ2yepgZUpYnK9oqe0Una0WKVR5MTI6yfIZwukUpNXuRVZYu17Z4hxM6mxpkTZ0lJS1Rar8b+5976lSDNXSwTU013sGCWpWZ6BNguYVNy9CKGOvL5Uqd86RkEZGK8uRHqtS2crv/cMToRKXPiHMFbsPMv4bBqaaG01bZqGp2kDaOStHGU2d1vuUz/bcjGX37I8f1lWv3aNu5dr9hoBHxKUqdFquogLQuPi3XGxIGDrn0HWppPgsZGQAAAAAA+K6MbEhmCIvP08Zsd0zS09Ao91z+ydpZnBQwkX2n2r3dlmI0LTrYNPcRip7qSZwGMS2mf/hjCIuN8/aSUkOLcUe39va+cC4mMSboBPt+555sdvewcl6WvcW1xZCg2GA3NZ4kdppV1GXVt3nuGqfUZ6xuduYQ0ML5mjThPk1OztLKDftVdc6u9us/GZnavd3BYjQjNmhNFRUd1b9nWmSislI8qd4FVWTP1F9N+FvNSl6hdSWVqm5qCzrnmGITlOVNyXyHXPoOtZyt1BnBngUAAAAAAODGGPGQzAxd4hOnWmVL6gL1z0R61OkdfjhGYQNkJhFhY6zS9eO44E26FDnQjX31WOmVo9Nncvuw4Q159Am+Ylcc0pGCBI3x9ijr0VctjarZt1F52fOVEPO3Wlbe5tdj69vpUpu3qgO3cXARmrPjPe3InKRR1hbzehdaTqti93rlpj2sSX81T0XnfOddM8Uqdfkkq+wz5NJnqKUtc4nmkJEBAAAAAIDv0MiHZM4GbS44Yn2xHF6hIt/lLl3GKNabpV1QZ2DWYmm/0GCVBjNArGRsDrYnYkJf77ROZ9D+UP7njot0D4E0h0y6Npiccgx8W68IvyQtQvFL9+rjP/xedTVvaceGZcpMivEJzbp0qnCe1vjMgfbtjFK0t6pfaaCqDixKqcVV+reWj3T68BsqLXhCKVMn9IVmPS3al71YvvP9m6JmpHnnkvMMuWxrOm4NtbQpPSXuOg4pBQAAAAAAuHojHJI5VV+yVvtcaYhNmbvfkHvkZY8qCkpV7xcqRSrSO1zxsmv4Xn9tsp/zzOw/iJPNfRPk+3DY6+SN2BJjvAFXVJSnp5PUUtsSdNig37nxE9znho1TrDd0qpM92CMbT9J00irKOD4qWJepMEXFTlVqVp42lh3Tx3/4SGWZnjGKPaqptVYG/daiFBVvFdWic/agNTXauFZNbZ0Dhn4Ki1R0fKLSlxZoZ+V7+rfmoyr0jkW90P/dRSVraZJVPnVa9Y421VdYXdrG5QaZPw4AAAAAAODGGtGQzNm0Q+vcCZmUWKRVcxK14pkE9/fLB7SmpMEn/DGHZS6QpxNVy4aNquoby+jSXrVRRX0jIwd2eYffCpRubarefdwqSzFJcYq0ymHxiUrz3PjUTm1rCkyH/M9NSppqzVsWrWlpnnnFLmtbyWGf4ZduznOV2uYZRjouQzOslSqdbTXaXLBCc5P/q2YFdr0ynmxOymyrbHA4rzok62w6rL17D6vJr0eefxuf2r5D/at6XOuyf6YFST/RpNll3rCxs36/inKzNHf232pZdUDbRsQazzvF+mI8br90LUIz0pKt8nGdO9msek9Glpkgq0kAAAAAAAC+MyMXkjmbtS1vjy64vkxQfn6aK5SKTF+nYmvs3eV9a7XZpztZxJxlWu8Zl9dTp7zEv9WsnEJtLinWygV/q4T8y4qN8/SwGkyPapYv1LK9NbK3d6qt/rCKFsxTgWvVAIMtWat8l7CMSNJS7yT6F7QvI0ubq+1qdzjU2VarXRkL+86dsMY4t683WHT6Gnnms++pfV5P5FW6Jud3ONrVVL5Wj+UcNJ7GZFNKYYY3EAozGqOt4rRaWr7ShdJntabKrk5XUziNe9ZoXcEB13GmvlDOLcw7HLNS23bVqr6+QU0+s/w76ws1Pe15bSh+XgsSCv167EXMeUKrvFU9oEUZpaq2txvPa7TTuTItWrDevbiCIW55svd5IyOcOlnTqJYLXTplrlJab5xjXtfpUHtTmfG8je4DNU5ZniTQR8SMDGVaz31u+07VuEqTtCKViAwAAAAAAHz3vtdrsMrXlX3XQ0outSKy5Yf0Tr7PvFP2Ms1K2eIO0CY8oSPHCxTv2dlZq6IlK7SvJXBYpU0xy8u1c8IOzc6vc21JLPlIB9Kt/mBNxfpRmhUsZW/Sjrb1yq0NNjRzlJK2H9Oe1L7ZxNzaVZ0zT7mnuqzvQdgSVHp6r9IDTnU2leqxjD3q98g+JmQbbVDoP/dWe9VSzTLqMtgAUlviJp3Zn+Yz95l/23rYjDb+b0YbmzqN606x2shcdbO0wXhmT7c5U3uNliU/q8GqOippq94pS/G5r1NNG+ZpwT7/+wYKVk83p+oL/lYZFT61jStS3ZEMv7oBAAAAAAB8F0amJ5m9TCs9IY5tkdY/ExCaxC7RRvfkZK7eTGtKfObcikzU+uP/qtP7ilyT2MfExGhqyhMqrvitK2gb3iKI0UotO6bStBjv0EKTbUyC8iveCxKQmaKMc36r4yWLFNe3fKNllOIyN+l4Y/+AzBQWn6d36t5SfuIYv/uZ3Pf8SGeCBEdR6Xv1QcU6pfS/oXHLScosOaqPAwIyU+yKt1SZN8VnlUmpp6nNO9QzcsYCJVk7RyUt0DTfgMwUlaI9dUdV6rdSpcW67wd+AZkpTPGFx3R6+xNK7FtZwGuwerqFaVpmrnz7ASZlJxOQAQAAAACAm8KI9SQbKW3l8zS70D2hlV9PsoE4HdYE9GEBK0sOzulweIO7sIiIAYKfILz3M13FPa/pPKc1/1ew4819GsZ1PNcwDf95fdvHaCANt5oAAAAAANxMOu01Onn4tKrrL7gW8ouInqLUtAylzogeZkcdD4eayst00jMv+TBEJeUoKz7gLo42nauuVFVNo9pcU4KPU/yMRM1JS9aM6OE8Uaeaqo6r6tQRNbl60xjnp81W+pwUxUcN8X/ene1qqj7tc67xjPELNCclQXOmXW17OGWv2qFq3wFp45K0Imu4HaBuvJsvJLN+DO2xecYPJfDltatqyUzl1Zplm5Yf/lRrvas1AgAAAAAADJOjWXtzlmpDwwBzEY2areIj25QVPdxeIZ2qWvITK7MYHv/OP52q37VKy0obNdDsSKOSivSbHRka6JEcTfu1bMlGBa+STTFp27SnNCnoqK726rValndk4KmkrrI9zKmp5qZ55qq3JG5S4373nPU3oxFd3fKqmXOVxT2sJYUHVJCxUGvKm12T5zvMT3uzyvN+1vdjm5CrVAIyAAAAAABwtZzNKlqwcOCAzNR1WgXJC7XXbn0fUeY84IuVMUhAZuo6tV5zcw57p1vy5Wwq1mNpAwVkph61HH5Ks5bUqNPa4tFZvVSznhkkIDO52mOFqoLdvB+79noXc7x13GQ9yZxqK1+huYWDT2Y/0AT6AAAAAAAAQwlcEG9C2ibtzE9SVJhDbdU7tabwSF/AM2GNjp/OUaz1dWBOtTc1q907N1F/Tvt+LSk+bX2TUnZ/op1zIlydhqanbJFnpOaoqWu0pzRD8VHGvk67qkueVd5hzxPZlFnxO22c5tOjywz9Zi/UPs8FbDFKK1yjrPgxxvktqt6+XvuaPUlL4PnGuX9lnOvZPWGBdpQVKdXVY8yo07liPZF90Nsetsy39G/FUwedlqqtPF2zC89b33zQk+xqhCk6a68+rtmq7CCT4Ms2RonZWwecQB8AAAAAAGBQjhpt8wnIbImbdKA0TbGREYqIiFJ81mYdKEmw9hou7FB5/SDJl1eYouKnatq0gT4xcjb7jMUct0YrzIDM0NZ03BuQmdsPVuZoWpR7fvSwyFill25VvnclvB5V1brnavdwnCzrC8g0QdmVh7QlK1HxsbGKn5Gm9ZV75Vk/0Ty/oqLWNf+aS3ub7D49lTILPQGZyajTjA3akt2X0PRU1WrQznXth1XkDcgmKDExxirf/G6ykMwtIjZF6/f/q/7bhd/rfPMn1uf3+uMf/lUHClMUe7PO8AYAAAAAAG5qjvrTOmWVzUntV+Wn9ZujKyo1R5neXKhHFTUNGk5MNih7pTbX9KVRSfkZ3t5p0elv9eUfx5cE6bUWqchoq2jo8XuYTtfCAx62zCKtDZzjPWyq1p/25CvGpzixb/J841Dfo8OCrMwXGRNnlQyRgy1u2K6qguflnSlr+WatTxljfbv53ZQhWR9ztUUzyTU/A78CAAAAAACA4WhrOG6VTLMVH2wcZVic5qRbZVNVw+C9p4bk0MndO/qGcI5bo1WpPj2AwjzZxwD5R3utqn06oaVMnWCVDI5mnfPZl54U5w6xnO2y19eovKRUe83eX50DZCyRcZrhc7kme5tV8mjTuYpGq2w8embCgENPO6vXa53nWcY9oY3P3LwrWQZzk4dkAAAAAAAA10un2nwzoKkxQVd6NDvtRMX4DBPsuaxO7/jEazBIL7LgnK5FDDvbmnWuqliLkvt6Z5nDQ9dawzRd2i+oySpKUxQfbc4JtkI/jpmp5MxnVbB7jzbk/0zJiX+tH2fsl71fl7hoZZU+IU9O1lw4T49tOKxz9Q2qr6/RroyFKmi2dk54QjuXDvDkjlMqyvPMMW9TZnGefKdNuxUQkgEAAAAAgNAU5vovqIgw32GCDjmuebzlEL3Igmkq1aS4v9OUpIVakn/AtWLlqAmzlb39qD7eHzA81NnZN5+ZURt7hbkg4umgq2R2NWxUcnJZv15xYfEFOtPwlgpTYmRTj5r3Pa8lmYuVkfmsSsybW3PEnz5eoMCRnG5OnStZJU8OaEvZprUzbrGEzEBIBgAAAAAAMFL8epHZlFI4VC+y4LouNOhczRGdsw/Wpa1O+3bXSXHLtP/UR/rDhc/0h9pDKkwaZe03XNiideXt1hePTtVXlWnXyRarJ1iAnq9UX31E5fWB57k560u1rsKTkCVoS2HSLTXM0oOQDAAAAAAAYEQ4VL19S18vsgm53hUtBxWdocqKt1yf/SVPKHGMuYpAly6cOqDclAe0rLrTfVww457Qgco8zYiOdPWSC4uK09KyQyr2mXu/uaJOfaNO21W15AFllNbpK1fONUpT87Za999q9S4zc7I67ct+SHN3NfsvYuBs0Oa8A1ZvNpsSi4uUGun6csshJAMAAAAAACEiQpG+YxXrLyh43yipvaXOKpkmKPpagh+zF5l3KU2bUoaci8wSEa1p06a6PjPSC3Sg8T0VJ1r71KVTeTtU702qwlwhlse4zAVB5gKL1ozMKVbZ0NImT8zWWbVeebWe/mMTlH34X3VwRYp1/xQt3XFIB7M9M5b1qKW0WFXeRnOqaft67fOM90ws0sb04LO83QoIyQAAAAAAQIgInJC/RW1BO2W1yV5vFU2JA03wPxh3LzLvfGHD7UUWVJTmpCRYZUOPOezSKkfFaJpVNEVHBk/zIiJ8t38lh2vUZqfqa3zCwJglyuo36ViY4rOXaar1TTqv8nOefmgtqt7t7Scn1T6vhAn36kc+nyn5Ptc39k9xbV+qqkE6w31XCMkAAAAAAEDIiI5P1jirbM7hVX7Sd7lLi/20drVYZUNMUpyuuiPZsHuRNavIN1gqqPUfzmhxOL+ySgEi4zTHZyhl7akGBZu1rL3Ns0SlYVyMoqy87lrWI2i7HGxZgFsfIRkAAAAAAAgdscla4Ts/V+Fa7WryiZUcDSrK9ekBpgQtnRNtld2c9kqtzJinuTllqg/aI+pqepFN0LQUq2iq2KiicwEXbT+sog0+qZ2SFO99pCilZs+2yoZTW7Su2n8QqaO+WCtL+2o0LjPBCuwiFBXlM1izpUzlfeM4LU417dujBuubaU6cZ/il2ZEtRjGDfVzzqVlsY6ztkTflxP7f6zVYZQAAAAAAgNues6lUc9P29E2oL5vGxEQrUk61t1yQbz+pCXlHdWaFTx8wZ4PWTVosz2KOSnlN53cErOZoL9P0FE9IZlPK7n/VzsGGWhrHzzKO9xm4KNuYGGsetE61tXzlt+pkv2eSXbtmz1eJzwVGxSUrfdo4Oe1HVFXrc74tQTvq9vZNrt9WqceS1quvn9koxaVkKCstUVGOC6quKFVFg0+LTFimI8fz1G9U5gA6q5b2DblM3KTG/WlX3yvvBqEnGQAAAAAACClh8Xk6sHuB+vpD9eirlha1BAZkaa/pgF8YZXB0qt03sXI4AoYsXsNcZLE5Ac9jriZpPo/5CQjIgj2TYrVi/2tK87lAV/Nx7du9RxV+Adkk5R/Z5b/6ZHSG9ux7QjHeDl9daq7Zo7zsxcp4Zn1AQLZAZfuHH5DdagjJAAAAAABAyImas1nvnNqq7MQxfqtDmmxjEpRf8ZHOlCb1n7A/MkmrvKs9jlJSWqJfzyhn0w6/ucgyC5cMa0VL83nONLylwpRJ8h2h6GbTmLhFKj48wDOZopK05fRHqixIVtwoa5uHbYziMjfpeGOVVsT2T7giZxToncaj2pE9WxMCzzWY7ZFdckiNpzdrzq27eOWQGG4JAAAAAABCnFMOh9UfLCxCEcPoKeU0e5AN89hr4bq+VQ6LiNDV3qbv/DBFXOVD+t57uO1xOyAkAwAAAAAAQMhjuCUAAAAAAABCHiEZAAAAAAAAQh4hGQAAAAAAAEIeIRkAAAAAAABC3g2buN/Z0arWS39ST/hdmjhxvEb1W870JtfTra4em0aF32oPHoSrLsZfW3jfe/BsG9BtUncAAAAAAIAgRjwk+7rxNb1UVK3GP39jbTHdodiZT+nnz6XqnnBr003u01/O1vLqFO0+u0r3WduuhrO7Wz03QdD09QclWlN0Uq3m60h9RXXPTXJtd9fPVQwu5hm9/VqqfmB9BQAAAAAAuJ2M6HDLL46t1uK1R9QcPlmrN+/W29Vv650DO/SLtPG6dHa7Fj++TZ92Wwff1jp0Jv9Rzc1/T19bW268DjVsytJPC89KDz6g6dZWj/ueNt6N+X4CP4f/SQvvNA4IDxf9yAAAAAAAwO1q5EKyjmpt2XpePTHP6K2DRXp0ykT9IDxco8bHavbTZXp7a4rG/6lGL+23WydgRDUf1Jr3w7Vwc7n2PZ+qu63NXubQS/P9BHzUXK2jf75TCzPv1yjrUAAAAAAAgNvNiIVkn1W9rkZN0gvFQQIZQ1jcU8qdKV068Vt9Zm3zMIdovrDgESXMnK2EOfOVk1/Zv8fZlff00qIsvXTiki4eK1bOHOPYmY9ofn61vjD3X3pPWx63rmFsX/nqx/69uLznd7jutzrFfeyslGxtOdYqp3XYkLrP6+38bM333P/x5/Xrxg5rp8H+urIXrVZZq1FufV1rjHtmF/j3KOtqrtSLj8/XLG99X1eTzyWui/DJ2nKwTMunjLY2DIddR1/9f9Uz6Sllx/n0I7vysX7trfNsPbJgtd7yrfOgOtT06mplW+2dMGehXtj0ni4G61HY3ap3inza9qnXjd9Bh+oKjDbc0z9c7WqtNt651Y7G8VmrStRwydoJAAAAAAAwiBEKyS7p0w/+LE1O0dQBMxmbpq4/rbqap3SvtUXq0aevZumna6vVMTFNv9j8srY8fb9szW9o+YLVOu2bw/T06Osvv9RnFb/Qi++P1cJi49j/e7JGN2/Xi3te15Yn31T39FXasXmdVt8/WvbDL+jnFT6JiXX+F+9vU27Bed2zLN84Nk85sT16d+tyLX11GD3cOt7TC8ZzvdI6Wo88vc44f5Wyxn6usrXZWn3MetixDyj3ucc1y2yH0fcr67lVyk2fJM9UbF+fWK2fPvuGPhv9kFYXvqwdz6Xq7kuHlfv4Sr1zPYOyifcP8i6C63r/Te37053KWfZQXy+ynvPa/eQL2mnUOes543mN9l05pVv7jDpv+WCIsbPmuQsWK9dom3vmme/GeGfLYtTxfqmW5lf7h5jd57Xj8eV6+YMexafnGcfmK2f8x1qT/6aaOr5Ua7fvHHdWO/7jdp2x3e9ux7VpurfjrNY8maW3mgddkQAAAAAAAEAyJ+6//pp7tz8wqzd956fW92G6WNW7zDgv85Xm3v9pbXLp+qC3NGlW74P/9EHf9i+O9T5nHDv9mRO9DmuT6aujT/dON7Y//+7X1hbT172nnjGO/b8qev/D2uI9P+np3uNfWNtcunp//0q6cY0lvb+5aG0y/P4V49gHtvb+3vre2+vs/d0/Pdw7/TFjW5e1yaWr93cvzzOuW9hb693+Re/xFcb5K471fmVtcXG669W/vo2925ON+q57369uwTl7HV1Oqzxc7vcz3bjvwD7t/X8eM44JaN/ehs1GO2T6tY2rzco39/6m7gv/egT4n1809x5/eW3v/9Pk12C9jnefM675dO8pn1f27zv7vwPTfz/kfr9+z26144NG+/53a5Pbxd7f/INx7D9UBWwHAAAAAADwNzI9ya5c0kXjz/jxV9d16eIHR2TXJGUvmaQwa5tL+P1auOQu9ZytVmNAZ6UpD07ymyvrB+OjjX+jlRDne+/Runu88efLLxXY18n28JOaO9b64hKu+zIf1xR9rrrmQbpy9XysM2e/0ZQli3Sf3wqd4YrPXKSJ33ykhiF6MDkbz+roNzHKygys72TNzzTq++GHsg/RCeqzVxdqbupc5VRd33GFQXuRmWw22XRFdY2+9zPbLF+PTh/rX48AYWMnae7zm7Q4zn9J01Gjv2/82yK795J2NZz4kzTzST1ivjcfd89bpPlW2cPdjncq++nAob3j9ciyB6TP39QZpr4DAAAAAACDGJmQbPR43WP8aW790v19mLo7jOPv+nvdGyRbu2fiJOPfz/X1Fff3wQ1/Hca4iXdZJR9j3c/fONjzX7nimvvMvn+1ss15xnw/+Qdl5j1fGMcMpvuKef1Wla8KON/4vFhhnvvlkPW1jTZXnbxDdxt/rx+7jv7SPRfZ/Fhrk0fcIr1gvIrGf16qWSlZeqHodb3T2Koua/fQruhiY7V+/ctivWDW1Zx7bu1vrX0e3+jKn41bxUb3D91s0TI2+3G342TdO9H93VfYxBjF6c/quMKQSwAAAAAAMLARmpPsLk2MlnpaL/nPMxWop1td3QHhRbjZUykIm7m1W91DTHt1o42fOFlTpwR+ZmphaooSxg8nuBqre/udb3wefEhZqQ/oniEucU9muc6cfVcvPniVE44NouvEGyr7c5BeZC5jNXvbu3r7n/O0cvoP1d18WC+vXa65c7K0u3mIl9NRrRfm/FSLC17Xu5eMZ5+SoqznN+mttQ9YB3wbxu8m+A/H9Xvq7iEkAwAAAAAAAxuhkGys4h/+odRyRHUDjgK8otP5j2ruote9q1vabHdKbS26FCTP+KK1xfh3vMb6DY389oL2duu+YjydFDc+SC8zj/BwV4AUPn2Rlj+3Kujn0YBhhYFs4UZ9Fa4pmcHPX/5cWsBQzhvBXNHyvBSsF5mPH8Q+pEef36SdR95V3eGXtTD8S5X/8j33yqID+LTiNX3wTYxeePOo9m0rMOqXodlTJumesYGVvEOjjaZpbmzp30Otp032NqtscbfjeV0M9lu71KJG43pjr2tPOwAAAAAAcLsZoZBMuvvhJzX/js/1yqptagrSweiLY7/Qy+elKcsWeFe3vPfBhzRWH+rXJwLnArPrTEWbFDNH8devw5RLz4lqNQQ838Vjb+qM7tTU2EESufBJmm4OO6w665p/zY+9Wjsq3tPFIYZKjoqbqelq0dH3+6c7nx0r0dsnrmYY4/UxeC8yY39zpXZsCgjDRk9WwhTjb8fnrnBxYN9Id/1E9wU062cfnLVKHrGa+vD3pY9f076A3mkX97+uo1bZw92OX+pQ1Xk5rW1uV1RnvB/d8ZAS4qxNAAAAAAAAQYxYSGZOtr+yJEUTu2uUuyBLL+55T02NH6vp/WrteGq+Fm9tkW3SM1ozzycxiV2k3MlS49aVeqnqvL7o7tbXrWf11pOrVfan7ytr2UP6gXXo9TJx4pfasWqbGlo71NV9SZ9WrdfPf/W5bDPztXCQnlTmYgCzly3Q+M/f0PInX7PO79DFxtf1wqrtOlTVom5v56XRunvsHVLrSb3beF6fNne4w5zRD2lp2vdl/1WOVr56Vhc7utXV0aqmPauVu/WkDtn/HHzo6YgZuheZrbtNR9/bpp9ves/9vFabbXlPGv/wTAWZFsxrfNzfy/blm9qxx/1uzXObXs3RSyesA3zcu6RAWXd169CzC5WTX6Ldv9ymLU8+oqWtk5UVMCeZpx0vVT+v3F9a7XjpvN4uWKkXP5amPL1I91mHAgAAAAAABPM9c4lLqzwyOj7WW0XF2tfyZ3lGUdru/KEeWbZOOfMmBumtdEVNr76gnx9u865Eabvz77VyW4EenegzZK6jWqsztkvPvqVXfIO25m1KeLZNL1Tu9Fu18tNfztby6hTtPrvKHZh4z9+t3J5dWv7P56373aGJ96/SS8UP+a2U2O98i7O1Wq8UvKZ3v/zG2nKHRsek6aWSJ/2HSl75UDtWFevQ58Zxdy7Q3pqnrB503bp4rEQvvvqRWr2XuFNT0ov04jL/lTuvn/PaMXO1DqW+orrnzAUR3LpOrNbczZeU88+HtHjAgDDI8xp1jksznvfpyUOEmN36zAwAK/vebfikFdo973Mt3lCjhVtPK9evx1eHmipe16+PtRilcN3z4JNaueyHanhqsV6e6P/swdvxh1r4/MvKfXCQHoEAAAAAAACGkQ/JvHrck/TbwjVqWN2jrONl06jwEehPFRiymYsIuG433Ofz5+zudoeAQ51v3MdpHNNv1UZvfc1LBNt/s/k2z/tt3m2H3nlysV6ODQzJPEb4dwMAAAAAAG5LIzfcsh8ztLiaAMo6/kYFHWa4dVXP5y/M9azDOD9oQGby1PdWCMhM3+Z5h/FuOz7W7vxt+jRgvjhdOqujbVLs+O9bGwLd4N8NAAAAAAC4LdzAkAy4Gh36rLlGyxfkaMsvK3X6/Wr9umil5j/5huzfT1Huw+Ot4wAAAAAAAL69Gzjc8iZz5T299NSb0pKd+vnD13nJTFwf3a06/eoulTd36Ep3j0aHj9d98xYpO3Oouc8AAAAAAACuTuiGZAAAAAAAAICF4ZYAAAAAAAAIeYRkAAAAAAAACHmEZAAAAAAAAAh5hGQAAAAAAAAIeYRkAAAAAAAACHmEZAAAAAAAAAh5hGQAAAAAAAAIeYRkAAAAAAAACHmEZAAAAAAAAAh5hGQAAAAAAAAIeYRkAAAAAAAACHmEZAAAAAAAAAh5hGQAAAAAAAAIeYRkAAAAAAAACHmEZAAAAAAAAAh5hGQAAAAAAAAIeYRkAAAAAAAACHmEZAAAAAAAAAh5hGQAAAAAAAAIeYRkAAAAAAAACHmEZAAAAAAAAAh5hGQAAAAAAAAIeYRkAAAAAAAACHmEZAAAAAAAAAh5hGQAAAAAAAAIeYRkAAAAAAAACHmEZAAAAAAAAAh53/v31v/otcoAAAAAAABASKInGQAAAAAAAELe93oNVhkAAAAAAAAISfQkAwAAAAAAQMgjJAMAAAAAAEDIIyQDAAAAAABAyCMkAwAAAAAAQMgjJAMAAAAAAEDIIyQDAAAAAABAyCMkAwAAAAAAQMgjJAMAAAAAAEDIIyQDAAAAAABAyCMkAwAAAAAAQMgjJAMAAAAAAEDIIyQDAAAAAABAyCMkAwAAAAAAQMgjJAMAAAAAAEDIIyQDAAAAAABAyCMkAwAAAAAAQMgjJAMAAAAAAEDIIyQDAAAAAABAyCMkAwAAAAAAQMgjJAMAAAAAAEDIIyQDAAAAAABAyCMkAwAAAAAAQMgjJAMAAAAAAEDIIyQDAAAAAABAyCMkAwAAAAAAQMgjJAMAAAAAAEDIIyQDAAAAAABAyCMkAwAAAAAAQMgjJAMAAAAAAEDIIyQDAAAAAABAyPter8Eq41o422VvuiyHUYyIilF0VITC3HsAAAAAAABwi7htQjJHU6V2nWp3laOScpQVH+Eqj5xOndvwMy3b16Iea4tkU/bhT7U+3voKAAAAAACAW8JtM9zS2XZKu3fvcX1OtjmtrSOnvXyFlvgFZKYFmhFrFW8jzvZm1dc3uD5N7SPftgAAAAAAADcac5JdkzadqzhvlW1K3HBUjc2f6HxDnqbdhmMtHfU7lJG52PXZVm8OLAUAAAAAALi9EJJdky61tVhFZWhFVqwiIyIUEcl8ZAAAAAAAALeiGxOSOR3qbLOG7Nnb5RhwxJ5TDofD/RngGKdnv/EZeuCfcb12u+u+9vbhHD8Eox797+30eaYBH1rtdvdwxSGfw+ce3ss5O9XWZJzf1B70XKfD2l9vV/vAjRugr23qm9rUGew861k6nX37nMazDFrXIRn37WxT02D3DWY4vyHfthvsusHaGAAAAAAAhLSRnbjf0azygvUqqgmcu8umMYm52lmao2mR1iZTU7F+lHbAXc4+pD8WxrnLXp2qWvIT5dWa5QSVNuxVunV+Z9VSTcmvc5UTSz7SgWkNWrPkWR2+4NrkNmqK8su2aYXfTYfP9x5BJW5S4/40ea/e2aBdeau0rfargPqP0tS8Xdq5YmrfsRb/epzVxrCNmvvMaXW5tjyhIxcK5FkXwNl2WEV5G1XR7N7rYRuToFU7Ng9Qz3ad27BWK/c1WtfsMypukdaXFig92t0fbvD6+j/L0ByyV5Vq3YaDCnhc932L85QeG2Sxhav5DdnLND1liy6b5XFrdLwuR/2niHPoZO7fKafG/S1p+yfakzrSizwAAAAAAICb3cj1JHM2q2jBQhX0CzdMPfqqdosyZheqfiR68jhqVZQREJCZuhpVkrlYRU03oPtQ+2E9kbBYJf0CMlOXGkoXa/qCMtkHe5TmMq30BmT+nE3Fmpv0fL+AzNTzVZ1Rzwf0RJV7tc8+7apa8pCWBAnITF3NB5WXvFTlbdaG68appg0LlZzfPyAzue6bsrD/e7na31BsgrLGWeXLlTpnt8q+HA2qtgIyabZSZxCQAQAAAACAEQzJ7HtXaZ8VUo1L2arTLZ/pjxfMzyeqzJ7g3tF1UGv2Bksyvp3a4ue1L2yBig+f1fnmT9R46g0tj7NZey9oX0bxNYVzkanbXNc73/yGMq1t0iLtd20zPjtS3D3DnM3avOR51VrJzqikdTpS6z6m7nCR0qzq9zRv0bKS5gGHX9ZWHFTzqCnKLnlDlRVvqXLfAkWZOxyntCbjgFET0wSllRxVo6t9f29cf40SXVXtUW3+z7TLp3kdJ7coz/NQcWt0pNnzTn6v0yUJcp/WqIKSGpnT83vqe3zDFHOPy9QNR602yBt2L7LO6hVa5Pkx2GKUvf2EtdDBCe1fPsl9X9d7WauTPusCXP1vKFapxvXcLqs8SErmqD8uT0Zmy1yiOWRkAAAAAADAMEIhmUPtLa5Bby5zslNkjeAzRGha4WvaX/KGjpz6SO8s7T8g7ttLUOn+zcqKj1JERIQioxO1tnKvsj29jHoOqvzcNazSGBbhup756ZugP8y7LSLCvdVxsky7Pb3Y4or0m7Ilio9yHxMVn6Et+zcp0dp9eV+ZXzDkx2bU43i51qcnatq0qZo2I9YVwtnLN6rGyroSjXbckm5sd906zLh+jvbsf0Luql7QtooGbwjX3tZslYzzMhco3hsQhSk6fZsObt+qypqzrrDPtcuqb2SYT23DIv3qOjS7qkrqrJ5gNmWWHdL61GhroYNozcgv1wHPi+mp1bkmT2Nc228oak5GX9tW1Bl39+VQfc1xq2xTekocCy0AAAAAAACXEQrJIhQZ5em5JZVvr5TdLwiK1oz0RMVHR2rYWcvVyFyiVFeXKx9hU5W1PMb6ItU0eJenvM6camo4bZWlpOxko7YBolK01NsV7bRO1gdPycY9s0bpgfVQm5pqPOHRIi3tV1GjqtNSNMdq/p6qWm9QFBll9b4y1O7eoXPtvn3YIhSfmqJpsVHX9520nVe153HH5SprRuDFwzTtmbd0uuH3+uOF32mjd/jjNf6GIpOUnmSVA4dc+g61NJ9lGhEZAAAAAABwG7HhlvEpufJEMj2165Ucd6/+cso8Lcot1l4zuPELaK6vxLiYoD2EomP7hg2qrV2dVvH6ald7k1VUjGYEm4zeeLrYuASrLJ1s9nQ78xcdGWTifedl2b353nEVLZinucmBn/Wqto5Qz2V1WuFS5IwMpXhypwsHtSTxr/WjSQ9pbk6hNpfXqKkteFj3bTjb7fI+7oyY/oGhKSLKqGv/N3Ztv6EIzUhLtsr+Qy59h1qOy0wIMqk/AAAAAAAIVSM3cX9sjn5zeJ0Sx/T1Bur5qkUNNQe0If9nSk78a/04p1JtI5eVfUe61OZNhcaYIxaH1HM1beDoVN90/F260NKiliCfr7wz3Tvk8Fw/Ikk7T29VZtwoa4Oh64JaTh3U7sJntSDp7/SXycU6dx3TQ0dn35BJszGuqu/WNf6GImZkKNM6pW/Ipe9Qy0lakUpEBgAAAAAA+oxcSGaIiF+iA42f6g+1R1W5vUjLM2crxifw6Dq1XnPzTmn4/Zecrv+G4hzooGGc++2NUrR3VOdXcg5QOd9nHOfTJkOKiHRP3u/is2jAgJ9tSvXtkBaVoo1Hfqc/NJzQkX2bVJidrKkT+kKznpYDWpJRFjCX17WLiPRMBGcwGuNqX8E1/YbC4pSa7knJrCGXzmad83Qji0vTjP6jVAEAAAAAQAgb0ZDMIywqVtNSM7S2eJfeafxUjbsXWRPLSz01tWoKlpx0dgYJzy7L3mAVB9Fwqjlo8GZv6psrTNHR7pUor7soRXmXfWzROf+JtCwO2WsbrbIUH30ViU3YOMV6Q7guOeWeXH+wT7DeW2GR0Yqfkaalhdt08PTvdL5mnXfCe104rqY2q/wtme/e+7jnWhT0sm0Nqq63q93b5a2/q/sNhWlaZq613z3k0ll/ShWu7+554sjIAAAAAACAr5EJyZxtqi4p1LLkeZo8u3+vpMg5KZpjlV1BjyfgCIv0Bh+qqdTJvnGFLu1VZSq3yoM6tVPlgTd11qp8e9/Qv8zEvkn8r68wxScukKev06ntO/qHgG3HtcvTq0mzNWfaMMZkekUrPsXTSsZ1qoPETs4GFWWsUtHewzpn94yd7FT93mKtzJinWZNWqDogu4uIna3UqdYX+QzRHC5nu86Vl6r8XJt/QBk9RemeicUu79DmqoCXKqfO7Vuq3Mz5Soj7a630LPV5rb8hj9gEZVnNdLnmvKrtde4vRnunehcHAAAAAAAAcBuZkCwsUmo7qFPm3FgXtmhl3mHZO90phrOzTdUF67XP9c2QNFvejMgn2JDqlJecpXXlNaqvr9He3HmalX9BvqP3BnZBJQvSVVTVoLbOdtmr92tZ8s9U4Zmna8KaIKssXj8Rc57QKk8wdOGAFmWUqtreLoejU23nyrRowXo1W7sn5K1U6lVmNrFZ67wT8DcXLtSiXbVGPR3G9R3qbKtR0YKl2tdwXPuKn1eRd4KxSEU4T7tW9bzQdVprlpSqvt09/NHpaFfTrvVa5+mlNy5DM3yn7PJpKnNVzKr6BuOd+IZh7SrPmKklhXtUkP2wnij3DcKilZ6fbIWGParN/5nWlJvvxXje9maV5y3UMs+LsS0y3ovVGNf6G/KKVerySe5iS5m2VbgDUlvmEs0hIwMAAAAAAAG+12uwytdX+2E9Mft51XonkA/ClqDS03uV7jP2rbN6qaY/U6dgp03Ie00rGp5SXq35zTi3wTjXGjPZWbVUU/LdvYUSN2xV7L5ntTvYopG2GC2vPKS18d8mJGtW0YSFVkjzhI5cKJB3hKVHe42WJT+rU13W9yBsiZt0Zn+a39A/v3qUfKQDngoGcDaV6rGMPWoZpH1tcev0m8olivVU1Wk8d7Lx3MEX07RMUPbhY1rv2z6OU1o55SnV+N0rQTuM9nfPd+bbHobsQ/pjYZz1xeRUU8lCLdrdEvS9ugR7L9f4G/Jqr9RjiX2BpHGwMit+p43Tvs27BwAAAAAAt6ORm5MsKk0H6t5SYcok+aylaBmluMxNOt7YP9yITN2rDyrW+K1oaAYoaSUn9M4K3+BlEGFTtbbyLeVP9b/zqLhFKj3+bQOyYYpK0Z66oyrNDFL/UZOUWXJUHwcEZFcjLD5P7xjtm584xju008u4fkrBW/rgiE9AZgqL0/rjJ7QjO0H91wqwaUziGlU2vOcfkJkikrTl+CalxfieVOczb1mMUvNi3M9hhl0pgUNZwxSff6z/e3Wx7lt3rP97ucbfkFdUspYmWWXTuFxlEZABAAAAAIAgRq4nmR+nHD6TXIUNMJl8IKfDHA4YpoiIaw823NcwhEWo/2UCekANIfvwZ1rfr8vYcPjW/9vVJ7hruf61vRNzhUrXaUHa09XWQdvZn/edmIZxvNs1Pi8AAAAAAFeh016jk4dPq7r+gmuaoYjoKUpNy1DqjGhd1ew9jmaV7z6lwJm5BxalOcszFD/QTZx2VW0/7rcgXlRSjrIGOqG9VnsrGuSZhEnjkrQiK26AOnSqqeq4qk4dUZPrgccpPm220uekKD5q8P/37WxvVvXJw0abnbfqOvxzbzY3KCS7Wd2okAwAAAAAANzUHM3am7NUGxoGmDdp1GwVH9mmrOhhBj+dh/XE1OflmjFqWPynlfJnTmM0TwsC5pUKPk2TQ/bytVpUeFp+NUncpMb9aep3dNN+LVuyUcGrbVNM2jbtKU0KMhKuU+c2/EzL9g00tdJg596cQjwkc6itvqUvVR1CZOxURTPpOwAAAAAAt5dhzeFtsMWo8MgxLfVd7G4g1zMks5dpVsoWBT5ev5Css0Gbc5Zqd3OQ2CpISOZsKtbctAP9rhvIlrhVH+xP8TnXqaYN87RgyAYzzk15TR/vSLq6XnjfkRAPyQAAAAAAQKiz73pIyaV9gc+EtE3amZ+kqDCH2qp3ak3hkb4gacIaHT+doyFzMme7mpou90031I9T9n0/04ZT1lclq6x5m+b0S5PaVL7gYRX0rUrn5R+SdapqyU+sxQ4No2IUE9GilsvW98CQzAwGZy/UPs9+cz74wjXKih9jXKpF1dvXa583bAtYCK9tv2YlbfS2ibu9UhQbGeYafrm3IEsl3lX4xim/5rdaMZxg8Ts2chP3AwAAAAAA3OwcNdrmE5DZEjfpQGmaYiMjFBERpfiszTpQkmDtNVzYofL6gaMvrzDj3GlTNW2gT6xTTeesYw3j8pYFCcik9qqNfQHZhAQlBq6VF4QZWp1ufENLo60NQThOlvUFZJqg7MpD2pKVqPjYWMXPSNP6yr3KHmftVo8qKmpdc7SZ2up9QkPbIm0sNtvLHaCFRcVpRdkuZXrX7bus8nN2q3xzIyQDAAAAAAAhy1F/Wt7OXBqnVflp/ebQikrN8Ql9elRR0zBID7HhsZdvUY13VORsrc0K0tWq/bDW5ddZXyZoeek6pfqOl+wnRmnbz+pMaZoGnzqt07U4gYcts0hr4wNOCJuq9ac/0flm61Oc6B0yaa6rFxMT4/6kJva/V1iM4qdZZcPlr4LPWnazISQDAAAAAAAhq63huFUyzVZ8sGGBYXGak26VTVUN+lZ9oxyntGt7X++1cXkrldqvF1mnqgvWe+c0G5ddpFUDLn1pitCcHce0JXUY0+Q7mnXOZ7K09KQ4uXIuZ7vs9TUqLynV3qpa2TvDFBFh9qgzP31JWPzSY3rnuPUpTeq3GID57J0+y3BOjRljlW5uhGQAAAAAACBEdarNJ8zR1JgBVmIMU1SMzzjHnsvq9Iw9vAbD6UXmOLlRazzzeplDGvOnuoOsAZmBllUcSvsFNVlFaYrio6W28hX6ccxMJWc+q4Lde7Qh/2dKTvxr/Thjv+xX2W2us3qLtnmHck5S6rRbY31LQjIAAAAAAABTmOu/oCLCfHtDOVxDDq/JcHqROWu1Ofe43BGZTSk78jRj8ITs6jg75c2wjBrbK1ZobuFpdVlbfHU1bFRyctmwe8457WValldnPbs0YXmB0m+NjIyQDAAAAAAA4Ebx60VmS9b6fr3InKovWa8KTyeyxM1aH2xG/+umTvt210lxy7T/1Ef6w4XP9IfaQypMGmXtN1zYonXl7daXgTnbKrVswRZ5FsV0LYKQbw3lvAUQkgEAAAAAANwIAStpTnim/4qWzvpSrfEsO2lL0MbilCBzfl1n457Qgco8zYiOdAVa5gqVS8sOqTjOvdvUXFEn35GpgZxNpXoseb28I0RjlulgWf9FEG5mhGQAAAAAACBERSjSN8Wpv6CB+ku1t3hWmTRNUPQ1JFdmLzLvSpq25P5zkTmbta3ggHcoZGJx0QgNVQyTd7FOw7jMBZrWr7tXtGZkTrHKhpY2dVrFQJ3nCjU3bY9afAOyI3kKXDDzZkdIBgAAAAAAQlTghPwtaguaBLXJXm8VTYkDTfA/CFcvsr6ZwIL1IpO9Rrv7OpqpNn+mfjThXp/PT5Tnsyplbf5P3NuXHB4wwAoqKkbTrKIpOjJ44hcR4bv9KzmCLFbQfnKtFmUflOexbXFr9JtbMCAzEZIBAAAAAICQFR2frHFW2Zyfq/xkkEGF9tPa1WKVDTFJcVc9BHLIXmQ3UmSc5vgMpaw91aBgi3W2tzVbJcO4GEUFhHrtVSs0d/mRvoAssUjvVOYo9hYMyEyEZAAAAAAAIHTFJmuF79xbhWu1q8knMnI0qCh3i89qkAlaOifaKpucspev0qLkeVq2qyF4j67h9CJziVJMTMygnzE+4yRtY6ztkVc7sX+UUrNnW2XDqS1aV+0/0NRRX6yVPs88LjNBfbGeU23lSzUrv29FTFdAVpah6Fs0IDN9r9dglQEAAAAAAEKOOem8OadW30hHm8bERCtSTrW3XPAGQaYJeUd1ZoVPXFRfqB9nHpRnwcqU3Z9oZ0ACZt/1gJI9gZMtWWWN2wYIyYbSqaolfUMuE0s+0oH0gfq0+R+rxE1q3J/m0wPOrl2z56vEZ3jnqLhkpU8bJ6f9iKpqv/LWyVxAYEfdXqVaJ3dWr9D0Z0737R9Kv3vfnOhJBgAAAAAAQlpYfJ4O7F6gCdZ3qUdftbSoJTAgS3tNB3wCMpOj87JfWORwOK2SZdi9yG60WK3Y/5rS+iqtrubj2rd7jyr8ArJJyj+yyxuQuTidww/IbiGEZAAAAAAAIORFzdmsd05tVXbiGL+VH022MQnKr/hIZ0qT+k3YHzknV9meoGnUbKXP8EuT1LTddy6yRVq/9DuciyxQVJK2nP5IlQXJihtlbfOwjVFc5iYdb6zSilt1krGrxHBLAAAAAAAAP86+HmFhEYoYMiNyHx8WEaFbOU5yOhxGTUxhihi60rcdQjIAAAAAAACEPIZbAgAAAAAAIOQRkgEAAAAAACDkEZIBAAAAAAAg5BGSAQAAAAAAIOTdsIn7nR2tar30J/WE36WJE8drVOB6qje7nm519dg0KvxWe/AgXHUx/trCb733AAAAAAAAMAJGPCT7uvE1vVRUrcY/f2NtMd2h2JlP6efPpeqecGvTTe7TX87W8uoU7T67SvdZ266Gs7tbPfruQ7avPyjRmqKTajVfR+orqntuknsHAAAAAABACBvR4ZZfHFutxWuPqDl8slZv3q23q9/WOwd26Bdp43Xp7HYtfnybPu22Dr6tdehM/qOam/+evra23HgdatiUpZ8WnpUefEDTra0AAAAAAAAYyZCso1pbtp5XT8wzeutgkR6dMlE/CA/XqPGxmv10md7emqLxf6rRS/vt1gkYUc0Hteb9cC3cXK59z6fqbmszAAAAAAAARjAk+6zqdTVqkl4oDh7IhMU9pdyZ0qUTv9Vn1jYPc4jmCwseUcLM2UqYM185+ZX9e5xdeU8vLcrSSycu6eKxYuXMMY6d+Yjm51frC3P/pfe05XHrGsb2la9+7N+Ly3t+h+t+q1Pcx85KydaWY61yWocNqfu83s7P1nzP/R9/Xr9u7LB2GuyvK3vRapW1GuXW17XGuGd2gX+Psq7mSr34+HzN8tb3dTX5XOK6CJ+sLQfLtHzKaGtDgG/bnpau1mrjOKsuxnFZq0rUcMnaORzdrXqnKEdZrvu738eLe4LfSx0f661VC/WIda+coveMZ7Xr1656XLEO8uhQ06ur/a9bcV5d1l4AAAAAABDa/uJFg1W+ji6p7pdV+tfYJ7V23o8UZm319xeKmvG4lmZO1g+sLVKPPn3V2LbjvP7ib9K08pkspcb+L316rEqv/8t5jU96SBM8c5j9fy16+8AZXb70O/22I1aLzGP/slufHq9S3f/o0X/bdFTdD+fo2X+Yqdj/0aLj7x1Vk+0Bpf7Nf/Y7///ruaQjFf+h+1bkaPlj0/Sjzt/p4OF/0Znuv1falEj3sYbOf31TNf/+X5SyZJr+T2ubOt7TC4t+oX/p/pEWLHtS//jYZI27VKeyAwf1b6Nn66G/NB72LyJ0z1+O1180fyT7f5qplc9laObf/BeNGxuu/924xNcnViuj8F39jx+lKmfZ4/rplP+sy+cO67WKBo1Nmqt7r9ecbaPHK+o/WWV9qYYDJ2X/y4e09L+OdW/6tu1pcNVl7VH9MXKmVj39pH76X0er84N3VPYv78r2N6n68di/sI4cQEe1Vi8q1L9cGq05Tz9lvI+5+rv/dF6Hfn1Iv70ySSnGs5pt5mIe+/hGHescp/nPmMdO1n9uflM7P3Hofz//b/p6ynx3+5t6zuutrJUqbv5f+vv0p1x1+Jv/1aIjvz6oQ8136ZGHJ+r/cB8JAAAAAABClTlx//XX3Lv9gVm96Ts/tb4P08Wq3mXGeZmvNPf+T2uTS9cHvaVJs3of/KcP+rZ/caz3OePY6c+c6HVYm0xfHX26d7qx/fl3v7a2mL7uPfWMcez/VdH7H9YW7/lJT/ce/8La5tLV+/tX0o1rLOn9zUVrk+H3rxjHPrC19/fW995eZ+/v/unh3umPGdu6rE0uXb2/e3mecd3C3lrv9i96j68wzl9xrPcra4uL012v/vVt7N2ebNR33ft+dQvO2evoclrl4XK/n+nGfb2+bXtadXnQqON/tza5Xez9zT8Yx/5DVcD2/hwX3+/9l7wNvaf83kdv77/vNNvTt+2/7q3NM9o+aUNvfbC2N573uaN9F/nvh5YY29J7tzf5Hdz7P+s29D74wMO9pXVX234AAAAAAOB2MzLDLa9c0kXjz/jxAwztG8DFD47IrknKXjLJv/dZ+P1auOQu9ZytVmPAsMspD07SKKts+sH4aOPfaCXE+d57tO4eb/z58ksFjtq0Pfyk5lqdqdzCdV/m45qiz1XXPMiYx56PdebsN5qyZJHu8+vtFa74zEWa+M1HamjusbYF52w8q6PfxCgrM7C+kzU/06jvhx/KPvgl9NmrCzU3da5yqq5mTOPArrU93XW5U9lPBw6vHa9Hlj0gff6mzgwx/dyo8TP105ICzfZ7H0ZzjDU2fNOmi57X0X1eZz7+RhOXPK6pwdre+uZ2SQ1Vn0uTnlR2nH+3vLDpj2vlXd/o6LEPGXYJAAAAAECIG5mQbPR43WP8aW790v19mLo7jOPv+nvdGyRbu2fiJOPfz/V14FRTQdmsv0OLm3iXVfIx1v38jYM9/5Urrrm67PtXK9ucZ8z3k39QZmT1hXHMYLqvmNdvVfmqgPONz4sV5rlfDllf2+hwo7Z36G7j78gZuj3ddZmse/0TKpewiTGK05/VcWWIxM/U06HPTlRq96bntdJsi5RH9NN/brN2Wrq7XaFW/EQzqQswfqLiraLbn3TJeLSJU2L8wj834z3HGX8udWhYPysAAAAAAHDbGqGJ++/SxGipp/VS8AnXPXq61dUdEJyE24JHMjZza7eZj9xUxk+crKlTAj8ztTA1RQnjhxNcjdW9/c43Pg8+pKzUB3TPEJe4J7NcZ86+qxcfvLpeeyPDeHfBX57rnXb3DNGzrnmbslMWa+kvj+jTK6N134OLtHz9K9rxj2Zvtm8nPPiDWT+rP2kY8R0AAAAAALiNjVBINlbxD/9QajmiugFHAV7R6fxHNXfR697VLW22O6W2Fl0Kklh80dpi/Dte5si76ylob7fuK66eRXHjg/Qy8wgPd/VMCp++SMufWxX082jA8L5AtnCjvgrXlMzg5y9/Li1gKOfNy12X87oY7H1falGj7tDYQXu7XVHdnhq12uZox5FD2lmSr+XLUjV1SqzGhwcEXFbb1zUGGb95qVVNVtHtDo02Hq3Z3hZkxdIOXTQvMf6HuhkiRgAAAAAA8N0ZoZBMuvvhJzX/js/1yqptagrS++uLY7/Qy+elKcsW6F5r270PPqSx+lC/PhE4F5hdZyrapJg5ir/OaUbPiWo1BDzfxWNv6ozu1NTYQRK58EmaPklqrDrrmn/Nj71aOyre08UhxvCNipup6WrR0ff7J0ufHSvR2ydab5m5stx1+VKHqs4HhFFXVGe0ke54SAnm0MYB9bh7c025X7F+WdoVNb1vBqQ+jLafNfkOdRzbpXf8firdatj/plqtb26xmvrwndIHB1XX72d1ROXGz2rKw74rrAIAAAAAgFA0YiGZOdn+ypIUTeyuUe6CLL245z01NX6spverteOp+Vq8tUW2Sc9ozTyfICp2kXInS41bV+qlqvP6ortbX7ee1VtPrlbZn76vrGUPXfcwY+LEL7Vj1TY1tHaoq/uSPq1ar5//6nPZZuZrYax1UFCjNXvZAo3//A0tf/I16/wOXWx8XS+s2q5DVS3q9oY9o3X32Duk1pN6t/G8Pm3ucAdJox/S0rTvy/6rHK189awudnSrq6NVTXtWK3frSR2y/3kYs4HdJKy6XKp+Xrm/tOpy6bzeLlipFz+Wpjy9SPdZhwY3VvfGfl86u007T7Tqa3PesQ673jHO39dq9lLzNVoJzz3lChhffny+Vhdt0+5flujFRQu1Y3Sq5ltHedybuUqzjGP/6an1erv5kvs9vf+aVq46okvfT9HSh69z90QAAAAAAHDLGbmQzBAWt0r73nxZORO7VVdZqty1Lyh3w3YdvTRajzy7W7/eFrgS4mgllJRrR9po1f3zav009VE9+o8bta9jklb/ap+Wx13/yGj0w8/opYc/14v/uFhzU5dq+T9/LNv9eXpr/f3+K04GE/uU9v7qGSV0V2uN6/zFWrz2sOwTF2n3m6t0n/dxbYp/ukALx7aqbO1qLS844prY33Tv0/v01rOT1X1soxZnPKq5GcuVW9Wq2IxXtPu5gFUvb3KeuvScsOryxGq90mjT/MJ9esU3DB3AvU/v1Ev32/Tu5uV61Hj3czNW61D4U/r5kiAT9I9N1ctHdusX82LUY/9YDY1favSSndr99P39g8XRM/XiQeN3OPpjvfLsUvd72lCtS3ErtNfvPQEAAAAAgFD1vV6DVR5hPe5J+m3hGjWsUMI6XjaNCpyT6nroqNbqjO3Ss2+5AxxzEQHX7Yb7fP6c3d3u4YJDnW/cx2kc0z/88tTXvESw/beSb/nuvtW7+Fg7Zr6gi573GuhbvmcAAAAAAHB7GtGeZP7MwORqggnr+JEIyIIxQ5Orej5/Ya5nHcb5QQMyk6e+t3pAZvqW724Y76KrtVovFVTrC+u7h/OD93RUd+ju0QNMXvct3zMAAAAAALg93cCQDLh+bN1t+vTD7Vq86Hnt2FOthhOV2pGfrUcLfyvFPKWs6aRgAAAAAABg+G7gcMubzJX39NJTb0pLdurnD1/nJTNxY3R8rF//8nW9e+mKrnTbNHrsDzU1/UllPTxRo6xDAAAAAAAAhiN0QzIAAAAAAADAwnBLAAAAAAAAhDjp/wd7k/74nnOXMgAAAABJRU5ErkJggg==)"
      ],
      "metadata": {
        "id": "GvawqFnN8Bdy"
      }
    },
    {
      "cell_type": "markdown",
      "source": [
        "O SVM demonstrou a melhor performance nesse cenário. Isso indica que o modelo conseguiu capturar bem as separações entre as classes, especialmente porque o kernel linear é bastante eficiente quando há uma separação clara no espaço das características."
      ],
      "metadata": {
        "id": "pXPuFcWM8SLr"
      }
    },
    {
      "cell_type": "markdown",
      "source": [
        "O sucesso do SVM também pode ser atribuído ao pré-processamento dos dados, como a padronização, que é essencial para o bom funcionamento desse algoritmo."
      ],
      "metadata": {
        "id": "zvornqhL8fR2"
      }
    }
  ],
  "metadata": {
    "colab": {
      "provenance": []
    },
    "kernelspec": {
      "display_name": "Python 3",
      "name": "python3"
    },
    "language_info": {
      "name": "python"
    }
  },
  "nbformat": 4,
  "nbformat_minor": 0
}